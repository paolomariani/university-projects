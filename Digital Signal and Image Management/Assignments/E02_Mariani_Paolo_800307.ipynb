{
 "cells": [
  {
   "cell_type": "markdown",
   "metadata": {},
   "source": [
    "# Assignment 1"
   ]
  },
  {
   "cell_type": "code",
   "execution_count": 1,
   "metadata": {
    "colab": {
     "base_uri": "https://localhost:8080/",
     "height": 598
    },
    "colab_type": "code",
    "collapsed": true,
    "id": "Zq6pvTsfPRoj",
    "outputId": "72189152-997f-4d0a-ab47-cbadd77cd056"
   },
   "outputs": [
    {
     "name": "stdout",
     "output_type": "stream",
     "text": [
      "Collecting nb_conda_kernels==2.2.2\n"
     ]
    },
    {
     "name": "stderr",
     "output_type": "stream",
     "text": [
      "  ERROR: Could not find a version that satisfies the requirement nb_conda_kernels==2.2.2 (from versions: none)\n",
      "ERROR: No matching distribution found for nb_conda_kernels==2.2.2\n"
     ]
    },
    {
     "name": "stdout",
     "output_type": "stream",
     "text": [
      "Collecting matplotlib==3.1.1\n",
      "  Using cached https://files.pythonhosted.org/packages/cc/eb/fd7a5f3c1484e8d2590ff94ca0b89941940a916394f719ab3bb7279e1970/matplotlib-3.1.1-cp36-cp36m-win_amd64.whl\n",
      "Requirement already satisfied: python-dateutil>=2.1 in c:\\users\\paolo\\anaconda3\\lib\\site-packages (from matplotlib==3.1.1) (2.7.3)\n",
      "Requirement already satisfied: cycler>=0.10 in c:\\users\\paolo\\anaconda3\\lib\\site-packages (from matplotlib==3.1.1) (0.10.0)\n",
      "Requirement already satisfied: kiwisolver>=1.0.1 in c:\\users\\paolo\\anaconda3\\lib\\site-packages (from matplotlib==3.1.1) (1.0.1)\n",
      "Requirement already satisfied: pyparsing!=2.0.4,!=2.1.2,!=2.1.6,>=2.0.1 in c:\\users\\paolo\\anaconda3\\lib\\site-packages (from matplotlib==3.1.1) (2.2.0)\n",
      "Requirement already satisfied: numpy>=1.11 in c:\\users\\paolo\\anaconda3\\lib\\site-packages (from matplotlib==3.1.1) (1.18.1)\n",
      "Requirement already satisfied: six>=1.5 in c:\\users\\paolo\\appdata\\roaming\\python\\python36\\site-packages (from python-dateutil>=2.1->matplotlib==3.1.1) (1.12.0)\n",
      "Requirement already satisfied: setuptools in c:\\users\\paolo\\appdata\\roaming\\python\\python36\\site-packages (from kiwisolver>=1.0.1->matplotlib==3.1.1) (41.0.1)\n",
      "Installing collected packages: matplotlib\n",
      "  Found existing installation: matplotlib 2.2.2\n",
      "    Uninstalling matplotlib-2.2.2:\n",
      "      Successfully uninstalled matplotlib-2.2.2\n",
      "Successfully installed matplotlib-3.1.1\n",
      "Collecting scipy==1.3.1\n",
      "  Downloading https://files.pythonhosted.org/packages/e1/63/d919e16c5bd3502a0f7675f217625bd6f49a412cc1a856aa6b4b5b5b20bc/scipy-1.3.1-cp36-cp36m-win_amd64.whl (30.5MB)\n",
      "Requirement already satisfied: numpy>=1.13.3 in c:\\users\\paolo\\anaconda3\\lib\\site-packages (from scipy==1.3.1) (1.18.1)\n",
      "Installing collected packages: scipy\n",
      "  Found existing installation: scipy 1.1.0\n",
      "    Uninstalling scipy-1.1.0:\n",
      "      Successfully uninstalled scipy-1.1.0\n",
      "Successfully installed scipy-1.3.1\n"
     ]
    }
   ],
   "source": [
    "!pip install nb_conda_kernels==2.2.2\n",
    "!pip install matplotlib==3.1.1\n",
    "!pip install scipy==1.3.1"
   ]
  },
  {
   "cell_type": "markdown",
   "metadata": {},
   "source": [
    "### Import delle librerie"
   ]
  },
  {
   "cell_type": "code",
   "execution_count": 2,
   "metadata": {
    "colab": {},
    "colab_type": "code",
    "id": "2dKoFw4iPPuY"
   },
   "outputs": [],
   "source": [
    "import os\n",
    "import numpy as np\n",
    "from time import time\n",
    "from scipy.io import wavfile as wav\n",
    "\n",
    "import matplotlib.pyplot as plt\n",
    "import IPython.display as ipd\n",
    "\n",
    "# Strumenti di classificazione\n",
    "from sklearn.svm import SVC\n",
    "from sklearn.model_selection import train_test_split, GridSearchCV\n",
    "from sklearn.metrics import classification_report, confusion_matrix\n",
    "\n",
    "# Feature audio avanzate\n",
    "import librosa\n",
    "import librosa.display as lid\n",
    "from sklearn.preprocessing import scale"
   ]
  },
  {
   "cell_type": "code",
   "execution_count": 3,
   "metadata": {
    "colab": {
     "base_uri": "https://localhost:8080/",
     "height": 125
    },
    "colab_type": "code",
    "collapsed": true,
    "id": "9nu3ndhUUqMA",
    "outputId": "71d7fcda-1642-44c4-ef60-55a290464af0"
   },
   "outputs": [
    {
     "ename": "ModuleNotFoundError",
     "evalue": "No module named 'google.colab'",
     "output_type": "error",
     "traceback": [
      "\u001b[1;31m---------------------------------------------------------------------------\u001b[0m",
      "\u001b[1;31mModuleNotFoundError\u001b[0m                       Traceback (most recent call last)",
      "\u001b[1;32m<ipython-input-3-d5df0069828e>\u001b[0m in \u001b[0;36m<module>\u001b[1;34m()\u001b[0m\n\u001b[1;32m----> 1\u001b[1;33m \u001b[1;32mfrom\u001b[0m \u001b[0mgoogle\u001b[0m\u001b[1;33m.\u001b[0m\u001b[0mcolab\u001b[0m \u001b[1;32mimport\u001b[0m \u001b[0mdrive\u001b[0m\u001b[1;33m\u001b[0m\u001b[0m\n\u001b[0m\u001b[0;32m      2\u001b[0m \u001b[0mdrive\u001b[0m\u001b[1;33m.\u001b[0m\u001b[0mmount\u001b[0m\u001b[1;33m(\u001b[0m\u001b[1;34m'/content/drive'\u001b[0m\u001b[1;33m)\u001b[0m\u001b[1;33m\u001b[0m\u001b[0m\n",
      "\u001b[1;31mModuleNotFoundError\u001b[0m: No module named 'google.colab'"
     ]
    }
   ],
   "source": [
    "from google.colab import drive\n",
    "drive.mount('/content/drive')"
   ]
  },
  {
   "cell_type": "markdown",
   "metadata": {
    "colab_type": "text",
    "id": "wrqTrihjQR1k"
   },
   "source": [
    "#Data Loader\n",
    "\n",
    "1.   Carichiamo i file da disco\n",
    "2.   Estraiamo la classe indicata nel nome del file\n",
    "3.   Dividiamo le tracce in training set e test set\n",
    "4.   Applichiamo una normalizzazione sulla base del training set\n",
    "\n",
    "\n",
    "\n",
    "\n"
   ]
  },
  {
   "cell_type": "code",
   "execution_count": 4,
   "metadata": {
    "colab": {
     "base_uri": "https://localhost:8080/",
     "height": 34
    },
    "colab_type": "code",
    "id": "mF2JLnbWdGfY",
    "outputId": "76ba4bf5-3b51-4ecb-d8ff-fc1c22eb7edf"
   },
   "outputs": [
    {
     "data": {
      "text/plain": [
       "'/content/drive/My Drive/Digital Signal and Image Management/Esercitazioni/Esercitazione 2/recordings/'"
      ]
     },
     "execution_count": 4,
     "metadata": {
      "tags": []
     },
     "output_type": "execute_result"
    }
   ],
   "source": [
    "'/content/drive/My Drive/Digital Signal and Image Management/Esercitazioni/Esercitazione 2/recordings/'"
   ]
  },
  {
   "cell_type": "markdown",
   "metadata": {},
   "source": [
    "### Caricamento dati"
   ]
  },
  {
   "cell_type": "code",
   "execution_count": 0,
   "metadata": {
    "colab": {},
    "colab_type": "code",
    "id": "N1VGrvmVPPue"
   },
   "outputs": [],
   "source": [
    "# Segnaposto per feature extractor\n",
    "def identity(input):\n",
    "    return input\n",
    "\n",
    "# Data loader\n",
    "def load_data(feature_extractor=identity, normalize=True):\n",
    "\n",
    "    labels = []\n",
    "    features = []\n",
    "\n",
    "    for f in sorted(os.listdir('/content/drive/My Drive/Digital Signal and Image Management/Esercitazioni/Esercitazione 2/recordings/')):\n",
    "        if f.endswith('.wav'):\n",
    "            # Carica file ed estraine le features\n",
    "            _, signal = wav.read('/content/drive/My Drive/Digital Signal and Image Management/Esercitazioni/Esercitazione 2/recordings/' + f)\n",
    "            cur_features = feature_extractor(signal)\n",
    "            features.append(cur_features)\n",
    "\n",
    "            # Categorie\n",
    "            label = f.split('_')[0]\n",
    "            labels.append(label)\n",
    "\n",
    "    # X: features, y: labels\n",
    "    X_train, X_test, y_train, y_test = train_test_split(features, labels, test_size=0.1, random_state=1)\n",
    "\n",
    "    if normalize:\n",
    "        eps = 0.001\n",
    "        X_train = np.array(X_train)\n",
    "        X_train_mean = X_train.mean(axis=0)\n",
    "        X_train_std = X_train.std(axis=0)\n",
    "        X_train = (X_train - X_train_mean + eps)/(X_train_std + eps)\n",
    "        X_train = [row for row in X_train]\n",
    "\n",
    "        X_test = [row for row in (np.array(X_test) - X_train_mean + eps)/(X_train_std + eps)]\n",
    "\n",
    "    return X_train, X_test, y_train, y_test"
   ]
  },
  {
   "cell_type": "markdown",
   "metadata": {
    "colab_type": "text",
    "id": "fUDUcWNrPPui"
   },
   "source": [
    "# Funzioni di creazione delle Features"
   ]
  },
  {
   "cell_type": "markdown",
   "metadata": {
    "colab_type": "text",
    "id": "Mbnzx4ApQ5br"
   },
   "source": [
    "Definisco una funzione che elimina eventuali valori oltre il numero consentito (100) o aggiunge valori per arrivare al numero indicato"
   ]
  },
  {
   "cell_type": "code",
   "execution_count": 0,
   "metadata": {
    "colab": {},
    "colab_type": "code",
    "id": "1Gg20LipQ3We"
   },
   "outputs": [],
   "source": [
    "def crop(input, size = 100):\n",
    "  #Salva nella variabile output il valore dell'input che arriva a 100 (size) o la dimensione originale nel caso sia minore di 100\n",
    "  output = input[0:min(size, input.shape[0])]\n",
    "  #Salva nella variabile output il valore restituito precedentemente + il valore che manca per arrivare (eventualmente) a 100\n",
    "  output = np.concatenate((output, np.zeros(size - output.shape[0])))\n",
    "  return output"
   ]
  },
  {
   "cell_type": "markdown",
   "metadata": {
    "colab_type": "text",
    "id": "FSi9EIXLSxO4"
   },
   "source": [
    "Definisco deviazione standard del segnale"
   ]
  },
  {
   "cell_type": "code",
   "execution_count": 0,
   "metadata": {
    "colab": {},
    "colab_type": "code",
    "id": "HWW31DFVPPun"
   },
   "outputs": [],
   "source": [
    "def sdev(input):\n",
    "    return np.std(input, keepdims=True)"
   ]
  },
  {
   "cell_type": "markdown",
   "metadata": {
    "colab_type": "text",
    "id": "UbS7TjnkSz7P"
   },
   "source": [
    "Definisco durata del segnale"
   ]
  },
  {
   "cell_type": "code",
   "execution_count": 0,
   "metadata": {
    "colab": {},
    "colab_type": "code",
    "id": "arzED-AZSQry"
   },
   "outputs": [],
   "source": [
    "def duration(input):\n",
    "    return input.shape"
   ]
  },
  {
   "cell_type": "markdown",
   "metadata": {
    "colab_type": "text",
    "id": "kfIgJg1AS103"
   },
   "source": [
    "Definisco Energia dell'input"
   ]
  },
  {
   "cell_type": "code",
   "execution_count": 0,
   "metadata": {
    "colab": {},
    "colab_type": "code",
    "id": "qLAEj7FFPPuq"
   },
   "outputs": [],
   "source": [
    "#Dovrebbe sommare tutti i valori che trova nell'array-segnale\n",
    "def energy(input):\n",
    "    return np.sum((input*1.0)**2, keepdims=True)"
   ]
  },
  {
   "cell_type": "markdown",
   "metadata": {
    "colab_type": "text",
    "id": "Nhgqtu1oTmBy"
   },
   "source": [
    "Definisco media e media assoluta"
   ]
  },
  {
   "cell_type": "code",
   "execution_count": 0,
   "metadata": {
    "colab": {},
    "colab_type": "code",
    "id": "Kkrz9urzTmb9"
   },
   "outputs": [],
   "source": [
    "def avg(input):\n",
    "    return np.mean(input, keepdims=True)\n",
    "\n",
    "def aavg(input):\n",
    "    return np.mean(np.abs(input), keepdims=True)"
   ]
  },
  {
   "cell_type": "markdown",
   "metadata": {
    "colab_type": "text",
    "id": "SovgtJZgTkjX"
   },
   "source": [
    "Definisco MFCC"
   ]
  },
  {
   "cell_type": "code",
   "execution_count": 0,
   "metadata": {
    "colab": {},
    "colab_type": "code",
    "id": "ERpC59TXPPu0"
   },
   "outputs": [],
   "source": [
    "def mfcc(input, rate=8000, min_len=40, sampling=1):\n",
    "    # Campiona i valori\n",
    "    signal = input[::sampling]\n",
    "    # Calcola coefficienti MFCC\n",
    "    mfcc = librosa.feature.mfcc(signal*1.0, sr=int(rate/sampling))\n",
    "    # Applica eventuali zeri aggiuntivi per raggiungere una lunghezza fissa\n",
    "    pad_width = min_len - mfcc.shape[1]\n",
    "    mfcc = np.pad(mfcc, pad_width=((0, 0), (0, pad_width)), mode='constant')\n",
    "    # Appiattisci rappresentazione per uso con SVM\n",
    "    mfcc = mfcc.flatten()\n",
    "    return mfcc"
   ]
  },
  {
   "cell_type": "markdown",
   "metadata": {
    "colab_type": "text",
    "id": "z3xmGkquUU5Q"
   },
   "source": [
    "Inserisco feature importanti in un unico vettore"
   ]
  },
  {
   "cell_type": "code",
   "execution_count": 0,
   "metadata": {
    "colab": {},
    "colab_type": "code",
    "id": "RVTa8xS_STpv"
   },
   "outputs": [],
   "source": [
    "def combo(input):\n",
    "    return np.concatenate((aavg(input),sdev(input),duration(input),energy(input)))"
   ]
  },
  {
   "cell_type": "markdown",
   "metadata": {
    "colab_type": "text",
    "id": "s3Hew1BMPPu9"
   },
   "source": [
    "# SVM"
   ]
  },
  {
   "cell_type": "code",
   "execution_count": 0,
   "metadata": {
    "colab": {},
    "colab_type": "code",
    "id": "AgbfCUmvPPu_"
   },
   "outputs": [],
   "source": [
    "X_train, X_test, y_train, y_test = load_data(feature_extractor=combo)"
   ]
  },
  {
   "cell_type": "markdown",
   "metadata": {
    "colab_type": "text",
    "id": "JnGjxh4bV1qg"
   },
   "source": [
    "Quanti esempi uso per il training? Quante dimensioni hanno le osservazioni (numero di features)?"
   ]
  },
  {
   "cell_type": "code",
   "execution_count": 14,
   "metadata": {
    "colab": {
     "base_uri": "https://localhost:8080/",
     "height": 52
    },
    "colab_type": "code",
    "id": "QPNQHJMLV1PF",
    "outputId": "6e6f8f44-fbe7-4733-affc-b031c0d9066b"
   },
   "outputs": [
    {
     "name": "stdout",
     "output_type": "stream",
     "text": [
      "la lunghezza è 1350\n",
      "il numero di features è 4\n"
     ]
    }
   ],
   "source": [
    "print(\"la lunghezza è \" + str(len(X_train)))\n",
    "print(\"il numero di features è \" + str(X_train[0].shape[0]))"
   ]
  },
  {
   "cell_type": "markdown",
   "metadata": {
    "colab_type": "text",
    "id": "5HhBGXCnV7k4"
   },
   "source": [
    "Definisco una griglia di parametri su cui effettuare training del classificatore SVM per determinare l'ottimo"
   ]
  },
  {
   "cell_type": "code",
   "execution_count": 15,
   "metadata": {
    "colab": {
     "base_uri": "https://localhost:8080/",
     "height": 34
    },
    "colab_type": "code",
    "id": "4FTm2l-pPPvG",
    "outputId": "0ad90760-c0f3-4f1a-bb39-2fbac8955664"
   },
   "outputs": [
    {
     "name": "stdout",
     "output_type": "stream",
     "text": [
      "Addestramento completato in 2.936s\n"
     ]
    }
   ],
   "source": [
    "# Parametri da provare in cross validation\n",
    "param_grid = {'C': [1e2, 5e2, 1e3],\n",
    "          'gamma': [0.005, 0.01, 0.1, 0.5, 1.0], }\n",
    "\n",
    "# Inizializzazione Support Vector Machine\n",
    "clf = GridSearchCV(SVC(kernel='rbf', class_weight='balanced'), param_grid, cv=2)\n",
    "\n",
    "# Addestramento\n",
    "t0 = time()\n",
    "clf = clf.fit(X_train, y_train)\n",
    "print(\"Addestramento completato in %0.3fs\" % (time() - t0))"
   ]
  },
  {
   "cell_type": "markdown",
   "metadata": {
    "colab_type": "text",
    "id": "HWjo2IB3XVEM"
   },
   "source": [
    "Seleziono la migliore combinazione di parametri"
   ]
  },
  {
   "cell_type": "code",
   "execution_count": 16,
   "metadata": {
    "colab": {
     "base_uri": "https://localhost:8080/",
     "height": 70
    },
    "colab_type": "code",
    "id": "yE4O0-vMXUQx",
    "outputId": "60de260b-c360-4ade-ec30-7ab142e127ab"
   },
   "outputs": [
    {
     "name": "stdout",
     "output_type": "stream",
     "text": [
      "La migliore combinazione di parametri è: \n",
      " C: 1000.0\n",
      " gamma: 0.5\n"
     ]
    }
   ],
   "source": [
    "print(\"La migliore combinazione di parametri è: \")\n",
    "print(\" C: \"+str(clf.best_estimator_.C))\n",
    "print(\" gamma: \"+str(clf.best_estimator_.gamma))"
   ]
  },
  {
   "cell_type": "markdown",
   "metadata": {
    "colab_type": "text",
    "id": "OJjhW3NaXZyY"
   },
   "source": [
    "# Test del modello\n",
    "Determino la bontà del modello appena creato sui valori di training"
   ]
  },
  {
   "cell_type": "code",
   "execution_count": 0,
   "metadata": {
    "colab": {},
    "colab_type": "code",
    "id": "Ca8I7NWEPPvM"
   },
   "outputs": [],
   "source": [
    "y_pred = clf.predict(X_test)"
   ]
  },
  {
   "cell_type": "markdown",
   "metadata": {
    "colab_type": "text",
    "id": "G6x9zoDGX4Z5"
   },
   "source": [
    "Classification Report"
   ]
  },
  {
   "cell_type": "code",
   "execution_count": 18,
   "metadata": {
    "colab": {
     "base_uri": "https://localhost:8080/",
     "height": 316
    },
    "colab_type": "code",
    "id": "dnqCs0LFPPvZ",
    "outputId": "7d60f7ac-687a-4f20-ae24-95711516fd72"
   },
   "outputs": [
    {
     "name": "stdout",
     "output_type": "stream",
     "text": [
      "              precision    recall  f1-score   support\n",
      "\n",
      "           0       0.58      0.65      0.61        17\n",
      "           1       0.33      0.40      0.36        10\n",
      "           2       0.28      0.33      0.30        15\n",
      "           3       0.53      0.42      0.47        19\n",
      "           4       0.36      0.45      0.40        11\n",
      "           5       0.44      0.29      0.35        14\n",
      "           6       0.79      0.79      0.79        14\n",
      "           7       0.80      0.42      0.55        19\n",
      "           8       0.35      0.41      0.38        17\n",
      "           9       0.32      0.43      0.36        14\n",
      "\n",
      "    accuracy                           0.46       150\n",
      "   macro avg       0.48      0.46      0.46       150\n",
      "weighted avg       0.49      0.46      0.47       150\n",
      "\n"
     ]
    }
   ],
   "source": [
    "print(classification_report(y_test, y_pred))"
   ]
  },
  {
   "cell_type": "markdown",
   "metadata": {
    "colab_type": "text",
    "id": "dzlc1j-PX0hS"
   },
   "source": [
    "Matrice di confusione\n"
   ]
  },
  {
   "cell_type": "code",
   "execution_count": 19,
   "metadata": {
    "colab": {
     "base_uri": "https://localhost:8080/",
     "height": 458
    },
    "colab_type": "code",
    "id": "HzfOL1EBXzBH",
    "outputId": "2e0326d2-816c-4b76-baad-c7857b9ad26a"
   },
   "outputs": [
    {
     "name": "stdout",
     "output_type": "stream",
     "text": [
      "[[11  0  0  0  0  0  0  0  0  6]\n",
      " [ 0  4  2  2  0  1  0  0  1  0]\n",
      " [ 2  1  5  3  0  0  0  0  2  2]\n",
      " [ 0  3  7  8  0  0  0  0  0  1]\n",
      " [ 1  1  1  1  5  2  0  0  0  0]\n",
      " [ 1  0  0  1  4  4  1  0  2  1]\n",
      " [ 0  0  0  0  0  0 11  1  2  0]\n",
      " [ 0  0  0  0  2  0  2  8  4  3]\n",
      " [ 0  2  2  0  3  2  0  1  7  0]\n",
      " [ 4  1  1  0  0  0  0  0  2  6]]\n"
     ]
    },
    {
     "data": {
      "text/plain": [
       "<matplotlib.image.AxesImage at 0x7fa094db9e80>"
      ]
     },
     "execution_count": 19,
     "metadata": {
      "tags": []
     },
     "output_type": "execute_result"
    },
    {
     "data": {
      "image/png": "[encoded data removed]",
      "text/plain": [
       "<Figure size 432x288 with 1 Axes>"
      ]
     },
     "metadata": {
      "tags": []
     },
     "output_type": "display_data"
    }
   ],
   "source": [
    "cm = confusion_matrix(y_test, y_pred)\n",
    "print(cm)\n",
    "plt.imshow(cm, cmap=plt.cm.Blues)"
   ]
  },
  {
   "cell_type": "markdown",
   "metadata": {
    "colab_type": "text",
    "id": "6b7blvZfVrPS"
   },
   "source": [
    "# Zero Crossing Rate - Assignment"
   ]
  },
  {
   "cell_type": "markdown",
   "metadata": {
    "colab_type": "text",
    "id": "57NBzWSMTHtF"
   },
   "source": [
    "Da definire per compito **Zero Crossing Rate**:\n",
    "<br> Contare il numero di volte in cui il segnale attraversa lo zero.\n",
    "\n",
    "**Possibile approccio**:\n",
    "\n",
    "\n",
    "1.   Traslare il segnale di un'unità\n",
    "2.   Confrontare punto a punto il segno (sign()) del segnale originale e di quello traslato\n",
    "3.   Accumulare le evidenze dei cambi di segno\n",
    "\n",
    "\n",
    "\n",
    "\n"
   ]
  },
  {
   "cell_type": "markdown",
   "metadata": {
    "colab_type": "text",
    "id": "mJz8L4rTf-2P"
   },
   "source": [
    "Definisco 2 possibili alternative, ne mostro l'efficacia di ognuna su una lista di valori di esempio e poi procedo ad applicarne una versione come feature nel dataset per valutare se c'è un miglioramento delle performance del classificatore."
   ]
  },
  {
   "cell_type": "code",
   "execution_count": 4,
   "metadata": {
    "colab": {},
    "colab_type": "code",
    "id": "147565O9PPuw"
   },
   "outputs": [],
   "source": [
    "#versione in cui scorro unico array\n",
    "def zerocrossingrate(input):\n",
    "    a = 0\n",
    "    for x in range(1, len(input)):\n",
    "        a = a + np.abs((np.sign(input[x])-np.sign(input[x-1])))\n",
    "    return np.array(a/2).reshape(-1)"
   ]
  },
  {
   "cell_type": "code",
   "execution_count": 5,
   "metadata": {
    "colab": {},
    "colab_type": "code",
    "id": "0yKdrvTlkyKy"
   },
   "outputs": [],
   "source": [
    "#versione in cui scorro due array e calcolo la differenza\n",
    "def zerocrossingrate2(input):\n",
    "    count = 0\n",
    "    input2 = np.concatenate((np.zeros(1), input))\n",
    "    for x in range(1, len(input)):\n",
    "      count = count + np.abs((np.sign(input2[x]) - np.sign(input[x])))\n",
    "    return np.array(count/2).reshape(-1)"
   ]
  },
  {
   "cell_type": "markdown",
   "metadata": {
    "colab_type": "text",
    "id": "w0xA-fCto5b5"
   },
   "source": [
    "Prova per valutare quante volte cambia il segno:\n",
    "\n",
    "NB Dovrebbe farlo 10 volte"
   ]
  },
  {
   "cell_type": "code",
   "execution_count": 6,
   "metadata": {
    "colab": {},
    "colab_type": "code",
    "id": "9zdHFtNfo5Cu"
   },
   "outputs": [],
   "source": [
    "lista = [-1, 1, 2, 1, 1, -3, -4, 7, -8, 9, 10, -2, 1, -3, 5, 6, 7, -10]\n",
    "a = np.array(lista)"
   ]
  },
  {
   "cell_type": "code",
   "execution_count": 7,
   "metadata": {
    "colab": {
     "base_uri": "https://localhost:8080/",
     "height": 70
    },
    "colab_type": "code",
    "id": "dsiqKg1ApXk1",
    "outputId": "6484835c-bd90-4ce6-e818-fa3dc07652b3"
   },
   "outputs": [
    {
     "name": "stdout",
     "output_type": "stream",
     "text": [
      "[10.]\n",
      "[10.]\n"
     ]
    }
   ],
   "source": [
    "print(zerocrossingrate(a))\n",
    "print(zerocrossingrate2(a))"
   ]
  },
  {
   "cell_type": "markdown",
   "metadata": {
    "colab_type": "text",
    "id": "4M2E3z3nrOL3"
   },
   "source": [
    "NB Dovrebbe farlo 7 volte"
   ]
  },
  {
   "cell_type": "code",
   "execution_count": 8,
   "metadata": {
    "colab": {},
    "colab_type": "code",
    "id": "OjCy_EXmrIO2"
   },
   "outputs": [],
   "source": [
    "lista = [1, 2, 1, 1, -3, -8, 9, 10, -2, 1, -3, 5, 6, 7, -10]\n",
    "a = np.array(lista)"
   ]
  },
  {
   "cell_type": "code",
   "execution_count": 9,
   "metadata": {
    "colab": {
     "base_uri": "https://localhost:8080/",
     "height": 70
    },
    "colab_type": "code",
    "id": "q1zRfzyWrJZz",
    "outputId": "5b934bc2-b9a9-4a6e-bbfc-7d1a908b084e"
   },
   "outputs": [
    {
     "name": "stdout",
     "output_type": "stream",
     "text": [
      "[7.]\n",
      "[7.]\n"
     ]
    }
   ],
   "source": [
    "print(zerocrossingrate(a))\n",
    "print(zerocrossingrate2(a))"
   ]
  },
  {
   "cell_type": "markdown",
   "metadata": {
    "colab_type": "text",
    "id": "SEnXb5V9rd_3"
   },
   "source": [
    "NB Dovrebbe farlo 6 volte"
   ]
  },
  {
   "cell_type": "code",
   "execution_count": 10,
   "metadata": {
    "colab": {},
    "colab_type": "code",
    "id": "BZTnwkuErbD2"
   },
   "outputs": [],
   "source": [
    "lista = [1, 2, 1, 1, -3, -8, 9, 10, -2, 1, -3, 5, 6, 7]\n",
    "a = np.array(lista)"
   ]
  },
  {
   "cell_type": "code",
   "execution_count": 11,
   "metadata": {
    "colab": {
     "base_uri": "https://localhost:8080/",
     "height": 70
    },
    "colab_type": "code",
    "id": "Ll65-x_drbsj",
    "outputId": "4a2acada-72e1-413c-8d7f-2a3fedc07bf3"
   },
   "outputs": [
    {
     "name": "stdout",
     "output_type": "stream",
     "text": [
      "[6.]\n",
      "[6.]\n"
     ]
    }
   ],
   "source": [
    "print(zerocrossingrate(a))\n",
    "print(zerocrossingrate2(a))"
   ]
  },
  {
   "cell_type": "markdown",
   "metadata": {
    "colab_type": "text",
    "id": "CuuIaS2BeL7t"
   },
   "source": [
    "# SVM con in aggiunta ZCR\n",
    "(si sceglie la seconda versione)"
   ]
  },
  {
   "cell_type": "code",
   "execution_count": 0,
   "metadata": {
    "colab": {},
    "colab_type": "code",
    "id": "Po4KFDP-dqdJ"
   },
   "outputs": [],
   "source": [
    "def combo2(input):\n",
    "    return np.concatenate((aavg(input),sdev(input),duration(input),energy(input), zerocrossingrate2(input)))"
   ]
  },
  {
   "cell_type": "code",
   "execution_count": 0,
   "metadata": {
    "colab": {},
    "colab_type": "code",
    "id": "TWQVM7H6eL7x"
   },
   "outputs": [],
   "source": [
    "X_train, X_test, y_train, y_test = load_data(feature_extractor=combo2)"
   ]
  },
  {
   "cell_type": "markdown",
   "metadata": {
    "colab_type": "text",
    "id": "znUoN3M1eL71"
   },
   "source": [
    "Quanti esempi uso per il training? Quante dimensioni hanno le osservazioni (numero di features)?"
   ]
  },
  {
   "cell_type": "code",
   "execution_count": 80,
   "metadata": {
    "colab": {
     "base_uri": "https://localhost:8080/",
     "height": 52
    },
    "colab_type": "code",
    "id": "_RhdWf1xeL72",
    "outputId": "d231885c-ef2a-4668-8190-254a7f83e270"
   },
   "outputs": [
    {
     "name": "stdout",
     "output_type": "stream",
     "text": [
      "la lunghezza è 1350\n",
      "il numero di features è 5\n"
     ]
    }
   ],
   "source": [
    "print(\"la lunghezza è \" + str(len(X_train)))\n",
    "print(\"il numero di features è \" + str(X_train[0].shape[0]))"
   ]
  },
  {
   "cell_type": "markdown",
   "metadata": {
    "colab_type": "text",
    "id": "METkSNNneL77"
   },
   "source": [
    "Definisco una griglia di parametri su cui effettuare training del classificatore SVM per determinare l'ottimo"
   ]
  },
  {
   "cell_type": "code",
   "execution_count": 81,
   "metadata": {
    "colab": {
     "base_uri": "https://localhost:8080/",
     "height": 90
    },
    "colab_type": "code",
    "id": "XQ6DllsWeL77",
    "outputId": "7d2a54b3-6204-4688-c89a-545307c3b902"
   },
   "outputs": [
    {
     "name": "stderr",
     "output_type": "stream",
     "text": [
      "/usr/local/lib/python3.6/dist-packages/sklearn/model_selection/_search.py:814: DeprecationWarning: The default of the `iid` parameter will change from True to False in version 0.22 and will be removed in 0.24. This will change numeric results when test-set sizes are unequal.\n",
      "  DeprecationWarning)\n"
     ]
    },
    {
     "name": "stdout",
     "output_type": "stream",
     "text": [
      "Addestramento completato in 20.394s\n"
     ]
    }
   ],
   "source": [
    "# Parametri da provare in cross validation\n",
    "param_grid = {'C': [1e2, 5e2, 1e3],\n",
    "          'gamma': [0.005, 0.01, 0.1, 0.5, 1.0], }\n",
    "\n",
    "# Inizializzazione Support Vector Machine\n",
    "clf = GridSearchCV(SVC(kernel='rbf', class_weight='balanced'), param_grid, cv=10)\n",
    "\n",
    "# Addestramento\n",
    "t0 = time()\n",
    "clf = clf.fit(X_train, y_train)\n",
    "print(\"Addestramento completato in %0.3fs\" % (time() - t0))"
   ]
  },
  {
   "cell_type": "markdown",
   "metadata": {
    "colab_type": "text",
    "id": "JaTHEdTdeL79"
   },
   "source": [
    "Seleziono la migliore combinazione di parametri"
   ]
  },
  {
   "cell_type": "code",
   "execution_count": 82,
   "metadata": {
    "colab": {
     "base_uri": "https://localhost:8080/",
     "height": 70
    },
    "colab_type": "code",
    "id": "sQiCrzuueL7-",
    "outputId": "7af6b5a3-3f01-4a4c-82cd-78a30e03588b"
   },
   "outputs": [
    {
     "name": "stdout",
     "output_type": "stream",
     "text": [
      "La migliore combinazione di parametri è: \n",
      " C: 1000.0\n",
      " gamma: 0.1\n"
     ]
    }
   ],
   "source": [
    "print(\"La migliore combinazione di parametri è: \")\n",
    "print(\" C: \"+str(clf.best_estimator_.C))\n",
    "print(\" gamma: \"+str(clf.best_estimator_.gamma))"
   ]
  },
  {
   "cell_type": "markdown",
   "metadata": {
    "colab_type": "text",
    "id": "2kfvA1MLeL7_"
   },
   "source": [
    "# Test del modello\n",
    "Determino la bontà del modello appena creato sui valori di training"
   ]
  },
  {
   "cell_type": "code",
   "execution_count": 0,
   "metadata": {
    "colab": {},
    "colab_type": "code",
    "id": "LiLUJfsveL8A"
   },
   "outputs": [],
   "source": [
    "y_pred = clf.predict(X_test)"
   ]
  },
  {
   "cell_type": "markdown",
   "metadata": {
    "colab_type": "text",
    "id": "fXeI_NMgeL8B"
   },
   "source": [
    "Classification Report"
   ]
  },
  {
   "cell_type": "code",
   "execution_count": 84,
   "metadata": {
    "colab": {
     "base_uri": "https://localhost:8080/",
     "height": 316
    },
    "colab_type": "code",
    "id": "3J0niVE-eL8C",
    "outputId": "c504395c-fcc9-4450-ea3e-63faa64e5780"
   },
   "outputs": [
    {
     "name": "stdout",
     "output_type": "stream",
     "text": [
      "              precision    recall  f1-score   support\n",
      "\n",
      "           0       0.76      0.76      0.76        17\n",
      "           1       0.47      0.80      0.59        10\n",
      "           2       0.67      0.67      0.67        15\n",
      "           3       0.73      0.58      0.65        19\n",
      "           4       0.35      0.55      0.43        11\n",
      "           5       0.46      0.43      0.44        14\n",
      "           6       0.93      0.93      0.93        14\n",
      "           7       0.82      0.47      0.60        19\n",
      "           8       0.59      0.59      0.59        17\n",
      "           9       0.64      0.64      0.64        14\n",
      "\n",
      "    accuracy                           0.63       150\n",
      "   macro avg       0.64      0.64      0.63       150\n",
      "weighted avg       0.66      0.63      0.64       150\n",
      "\n"
     ]
    }
   ],
   "source": [
    "print(classification_report(y_test, y_pred))"
   ]
  },
  {
   "cell_type": "markdown",
   "metadata": {
    "colab_type": "text",
    "id": "-mWObI0beL8E"
   },
   "source": [
    "Matrice di confusione\n"
   ]
  },
  {
   "cell_type": "code",
   "execution_count": 85,
   "metadata": {
    "colab": {
     "base_uri": "https://localhost:8080/",
     "height": 458
    },
    "colab_type": "code",
    "id": "j_A7T8_meL8E",
    "outputId": "02fc0113-cea5-472c-95fb-8e61ef527308"
   },
   "outputs": [
    {
     "name": "stdout",
     "output_type": "stream",
     "text": [
      "[[13  0  0  0  0  0  0  0  0  4]\n",
      " [ 0  8  0  0  2  0  0  0  0  0]\n",
      " [ 0  1 10  1  0  1  1  0  1  0]\n",
      " [ 0  2  3 11  1  2  0  0  0  0]\n",
      " [ 1  2  1  1  6  0  0  0  0  0]\n",
      " [ 0  0  1  0  4  6  0  2  1  0]\n",
      " [ 0  0  0  0  0  0 13  0  1  0]\n",
      " [ 1  1  0  0  1  2  0  9  4  1]\n",
      " [ 0  2  0  2  1  2  0  0 10  0]\n",
      " [ 2  1  0  0  2  0  0  0  0  9]]\n"
     ]
    },
    {
     "data": {
      "text/plain": [
       "<matplotlib.image.AxesImage at 0x7fa0945d41d0>"
      ]
     },
     "execution_count": 85,
     "metadata": {
      "tags": []
     },
     "output_type": "execute_result"
    },
    {
     "data": {
      "image/png": "[encoded data removed]",
      "text/plain": [
       "<Figure size 432x288 with 1 Axes>"
      ]
     },
     "metadata": {
      "tags": []
     },
     "output_type": "display_data"
    }
   ],
   "source": [
    "cm = confusion_matrix(y_test, y_pred)\n",
    "print(cm)\n",
    "plt.imshow(cm, cmap=plt.cm.Blues)"
   ]
  },
  {
   "cell_type": "markdown",
   "metadata": {
    "colab_type": "text",
    "id": "sfxyGf1gjlRk"
   },
   "source": [
    "Come si può notare inserendo la Zero Crossing Rate calcolata con la seconda funzione (zerocrossingrate2) è possibile ottenere un incremento delle performance del modello di classificazione fino a raggiungere il 63% di Accuracy."
   ]
  }
 ],
 "metadata": {
  "accelerator": "GPU",
  "colab": {
   "collapsed_sections": [],
   "name": "Laboratorio 2 Finale.ipynb",
   "provenance": []
  },
  "kernelspec": {
   "display_name": "Python 3",
   "language": "python",
   "name": "python3"
  },
  "language_info": {
   "codemirror_mode": {
    "name": "ipython",
    "version": 3
   },
   "file_extension": ".py",
   "mimetype": "text/x-python",
   "name": "python",
   "nbconvert_exporter": "python",
   "pygments_lexer": "ipython3",
   "version": "3.6.5"
  }
 },
 "nbformat": 4,
 "nbformat_minor": 1
}
