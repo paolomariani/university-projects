{
  "nbformat": 4,
  "nbformat_minor": 0,
  "metadata": {
    "colab": {
      "name": "Paolo_Mariani_800307_Assignment4.ipynb",
      "provenance": [],
      "collapsed_sections": []
    },
    "kernelspec": {
      "name": "python3",
      "display_name": "Python 3"
    },
    "accelerator": "GPU"
  },
  "cells": [
    {
      "cell_type": "markdown",
      "metadata": {
        "id": "4azzv5QLbcYu",
        "colab_type": "text"
      },
      "source": [
        "#Librerie e Dati"
      ]
    },
    {
      "cell_type": "markdown",
      "metadata": {
        "id": "YOMPFW7Es23l",
        "colab_type": "text"
      },
      "source": [
        "## Import librerie"
      ]
    },
    {
      "cell_type": "code",
      "metadata": {
        "id": "G2RYD2zxbbQc",
        "colab_type": "code",
        "colab": {}
      },
      "source": [
        "!pip install -q keras==2.3.0\n",
        "import keras\n",
        "import tqdm\n",
        "import skimage\n",
        "from keras.preprocessing import image as kimage\n",
        "from keras.applications import vgg16\n",
        "import matplotlib.pyplot as plt\n",
        "from keras.layers import Dense, Flatten\n",
        "from keras.models import Model\n",
        "from keras import callbacks\n",
        "import cv2\n",
        "import pandas as pd\n",
        "import numpy as np\n",
        "from sklearn.model_selection import train_test_split\n",
        "import zipfile"
      ],
      "execution_count": 0,
      "outputs": []
    },
    {
      "cell_type": "markdown",
      "metadata": {
        "id": "SSttMjSnblvw",
        "colab_type": "text"
      },
      "source": [
        "## Import dati"
      ]
    },
    {
      "cell_type": "code",
      "metadata": {
        "id": "a5KZW8u5hE5h",
        "colab_type": "code",
        "outputId": "96a8f833-ae58-4ed6-a7f1-7f8e6a59846e",
        "colab": {
          "base_uri": "https://localhost:8080/",
          "height": 34
        }
      },
      "source": [
        "from google.colab import drive\n",
        "drive.mount('/content/drive')"
      ],
      "execution_count": 0,
      "outputs": [
        {
          "output_type": "stream",
          "text": [
            "Drive already mounted at /content/drive; to attempt to forcibly remount, call drive.mount(\"/content/drive\", force_remount=True).\n"
          ],
          "name": "stdout"
        }
      ]
    },
    {
      "cell_type": "code",
      "metadata": {
        "id": "A55iM2cKmUlo",
        "colab_type": "code",
        "colab": {}
      },
      "source": [
        "%%capture\n",
        "zipped = zipfile.ZipFile(\"/content/drive/My Drive/Colab Notebooks/Assignment 4/sign-language-digits-dataset.zip\", \"r\")\n",
        "zipped.extractall()\n",
        "zipped.close"
      ],
      "execution_count": 0,
      "outputs": []
    },
    {
      "cell_type": "code",
      "metadata": {
        "id": "-C9Agfomb02X",
        "colab_type": "code",
        "colab": {}
      },
      "source": [
        "features = np.load(\"/content/Sign-language-digits-dataset/X.npy\")\n",
        "labels = np.load(\"/content/Sign-language-digits-dataset/Y.npy\")"
      ],
      "execution_count": 0,
      "outputs": []
    },
    {
      "cell_type": "markdown",
      "metadata": {
        "colab_type": "text",
        "id": "X8M4YzqvwzYL"
      },
      "source": [
        "Si effettua una modifica dei valori della variabile dipendente labels, da una versione one-hot encoding si passa alla cifra intera tramite la funzione argmax."
      ]
    },
    {
      "cell_type": "markdown",
      "metadata": {
        "id": "GO1n5t7tzMpa",
        "colab_type": "text"
      },
      "source": [
        "## Modifica del label"
      ]
    },
    {
      "cell_type": "code",
      "metadata": {
        "colab_type": "code",
        "outputId": "04e24c72-7105-4d3a-c686-951e7e835573",
        "id": "BUCirGrJwzYP",
        "colab": {
          "base_uri": "https://localhost:8080/",
          "height": 34
        }
      },
      "source": [
        "labels.shape"
      ],
      "execution_count": 0,
      "outputs": [
        {
          "output_type": "execute_result",
          "data": {
            "text/plain": [
              "(2062, 10)"
            ]
          },
          "metadata": {
            "tags": []
          },
          "execution_count": 59
        }
      ]
    },
    {
      "cell_type": "code",
      "metadata": {
        "colab_type": "code",
        "id": "YnEkskhxwzYV",
        "colab": {}
      },
      "source": [
        "labels = np.argmax(labels, axis=1)"
      ],
      "execution_count": 0,
      "outputs": []
    },
    {
      "cell_type": "code",
      "metadata": {
        "colab_type": "code",
        "outputId": "03f29340-7b92-47f8-ea9c-4c8cc123bf9b",
        "id": "eUTLp7BgwzYZ",
        "colab": {
          "base_uri": "https://localhost:8080/",
          "height": 34
        }
      },
      "source": [
        "labels.shape"
      ],
      "execution_count": 0,
      "outputs": [
        {
          "output_type": "execute_result",
          "data": {
            "text/plain": [
              "(2062,)"
            ]
          },
          "metadata": {
            "tags": []
          },
          "execution_count": 61
        }
      ]
    },
    {
      "cell_type": "code",
      "metadata": {
        "id": "V_DQ91P4xKyN",
        "colab_type": "code",
        "outputId": "736304de-805c-4894-d8bb-59221e6ed5a2",
        "colab": {
          "base_uri": "https://localhost:8080/",
          "height": 286
        }
      },
      "source": [
        "plt.imshow(features[0], cmap=\"gray\")\n",
        "print(labels[0])"
      ],
      "execution_count": 0,
      "outputs": [
        {
          "output_type": "stream",
          "text": [
            "0\n"
          ],
          "name": "stdout"
        },
        {
          "output_type": "display_data",
          "data": {
            "image/png": "[encoded data removed]",
            "text/plain": [
              "<Figure size 432x288 with 1 Axes>"
            ]
          },
          "metadata": {
            "tags": []
          }
        }
      ]
    },
    {
      "cell_type": "markdown",
      "metadata": {
        "id": "59ZhssS6ygmu",
        "colab_type": "text"
      },
      "source": [
        "Si può notare che il valore che viene evidenziato nella label è diverso da quello rappresentato nell'immagine. Per questo motivo si procede a modificare il label con il numero rappresentato correttamente secondo la codifica del linguaggio dei segni"
      ]
    },
    {
      "cell_type": "code",
      "metadata": {
        "id": "kLVxn61eyvHo",
        "colab_type": "code",
        "colab": {}
      },
      "source": [
        "labels2 = np.zeros(len(labels))\n",
        "labels2[labels == 0] = int(9)\n",
        "labels2[labels == 1] = int(0)\n",
        "labels2[labels == 2] = int(7)\n",
        "labels2[labels == 3] = int(6)\n",
        "labels2[labels == 4] = int(1)\n",
        "labels2[labels == 5] = int(8)\n",
        "labels2[labels == 6] = int(4)\n",
        "labels2[labels == 7] = int(3)\n",
        "labels2[labels == 8] = int(2)\n",
        "labels2[labels == 9] = int(5)\n",
        "labels = labels2"
      ],
      "execution_count": 0,
      "outputs": []
    },
    {
      "cell_type": "code",
      "metadata": {
        "id": "Yjm8u3qey3r7",
        "colab_type": "code",
        "outputId": "c89bb318-6bfb-4dd8-a134-7a255ee41c5f",
        "colab": {
          "base_uri": "https://localhost:8080/",
          "height": 286
        }
      },
      "source": [
        "plt.imshow(features[0], cmap=\"gray\")\n",
        "print(labels[0])"
      ],
      "execution_count": 0,
      "outputs": [
        {
          "output_type": "stream",
          "text": [
            "9.0\n"
          ],
          "name": "stdout"
        },
        {
          "output_type": "display_data",
          "data": {
            "image/png": "[encoded data removed]",
            "text/plain": [
              "<Figure size 432x288 with 1 Axes>"
            ]
          },
          "metadata": {
            "tags": []
          }
        }
      ]
    },
    {
      "cell_type": "markdown",
      "metadata": {
        "id": "QLmxypA8y5R2",
        "colab_type": "text"
      },
      "source": [
        "Ora il risultato è corretto, il 9 viene rappresentato congiungendo pollice e indice della stessa mano."
      ]
    },
    {
      "cell_type": "markdown",
      "metadata": {
        "id": "gz--D_jszQmn",
        "colab_type": "text"
      },
      "source": [
        "## Modifica delle immagini\n",
        "Si procede a modificare le immagini da scala di grigi a immagini in RGB, come richiesto dalla rete VGG16 (*che verrà caricata in seguito all'operazione*)\n"
      ]
    },
    {
      "cell_type": "code",
      "metadata": {
        "colab_type": "code",
        "outputId": "c1620735-f2d6-4953-ab54-4979cec50b2d",
        "id": "jfZS7_4Gzs8k",
        "colab": {
          "base_uri": "https://localhost:8080/",
          "height": 34
        }
      },
      "source": [
        "features.shape"
      ],
      "execution_count": 0,
      "outputs": [
        {
          "output_type": "execute_result",
          "data": {
            "text/plain": [
              "(2062, 64, 64)"
            ]
          },
          "metadata": {
            "tags": []
          },
          "execution_count": 65
        }
      ]
    },
    {
      "cell_type": "markdown",
      "metadata": {
        "id": "nwq6H-HSSTbw",
        "colab_type": "text"
      },
      "source": [
        "## Overview del Dataset"
      ]
    },
    {
      "cell_type": "code",
      "metadata": {
        "id": "4gn8OEt6STMO",
        "colab_type": "code",
        "outputId": "197a543f-10a6-4631-c17b-9db2ed71a39f",
        "colab": {
          "base_uri": "https://localhost:8080/",
          "height": 136
        }
      },
      "source": [
        "valori = pd.DataFrame(labels, columns = [\"target\"])\n",
        "valori.head(3)"
      ],
      "execution_count": 0,
      "outputs": [
        {
          "output_type": "execute_result",
          "data": {
            "text/html": [
              "<div>\n",
              "<style scoped>\n",
              "    .dataframe tbody tr th:only-of-type {\n",
              "        vertical-align: middle;\n",
              "    }\n",
              "\n",
              "    .dataframe tbody tr th {\n",
              "        vertical-align: top;\n",
              "    }\n",
              "\n",
              "    .dataframe thead th {\n",
              "        text-align: right;\n",
              "    }\n",
              "</style>\n",
              "<table border=\"1\" class=\"dataframe\">\n",
              "  <thead>\n",
              "    <tr style=\"text-align: right;\">\n",
              "      <th></th>\n",
              "      <th>target</th>\n",
              "    </tr>\n",
              "  </thead>\n",
              "  <tbody>\n",
              "    <tr>\n",
              "      <th>0</th>\n",
              "      <td>9.0</td>\n",
              "    </tr>\n",
              "    <tr>\n",
              "      <th>1</th>\n",
              "      <td>9.0</td>\n",
              "    </tr>\n",
              "    <tr>\n",
              "      <th>2</th>\n",
              "      <td>9.0</td>\n",
              "    </tr>\n",
              "  </tbody>\n",
              "</table>\n",
              "</div>"
            ],
            "text/plain": [
              "   target\n",
              "0     9.0\n",
              "1     9.0\n",
              "2     9.0"
            ]
          },
          "metadata": {
            "tags": []
          },
          "execution_count": 66
        }
      ]
    },
    {
      "cell_type": "code",
      "metadata": {
        "id": "oq0OV_CQT6hb",
        "colab_type": "code",
        "outputId": "0d5206d7-c6ca-47b5-8e6c-affec08bd8ec",
        "colab": {
          "base_uri": "https://localhost:8080/",
          "height": 279
        }
      },
      "source": [
        "plt.hist(valori[\"target\"], edgecolor='black', color = [\"orange\"], )\n",
        "plt.xticks(np.arange(10))\n",
        "plt.xlabel(\"classes\")\n",
        "plt.show()"
      ],
      "execution_count": 0,
      "outputs": [
        {
          "output_type": "display_data",
          "data": {
            "image/png": "[encoded data removed]",
            "text/plain": [
              "<Figure size 432x288 with 1 Axes>"
            ]
          },
          "metadata": {
            "tags": []
          }
        }
      ]
    },
    {
      "cell_type": "markdown",
      "metadata": {
        "id": "2Uc-7TAW0Byq",
        "colab_type": "text"
      },
      "source": [
        "Le immagini in scala di grigi possiedono solo un canale, si modificano per arrivare a 3 nella codifica RGB"
      ]
    },
    {
      "cell_type": "code",
      "metadata": {
        "colab_type": "code",
        "id": "3mwaegV0zs8q",
        "colab": {}
      },
      "source": [
        "import cv2 as cv\n",
        "\n",
        "rgb_features = []\n",
        "for x in range(0, len(features)):\n",
        "  rgb_features.append(cv2.cvtColor(features[x], cv2.COLOR_GRAY2RGB))\n",
        "features = np.array(rgb_features)\n",
        "features = features/255"
      ],
      "execution_count": 0,
      "outputs": []
    },
    {
      "cell_type": "code",
      "metadata": {
        "id": "eiFZ1R9K0jaj",
        "colab_type": "code",
        "outputId": "69df279a-267b-439b-ac0a-b126ed7466f3",
        "colab": {
          "base_uri": "https://localhost:8080/",
          "height": 34
        }
      },
      "source": [
        "features.shape"
      ],
      "execution_count": 0,
      "outputs": [
        {
          "output_type": "execute_result",
          "data": {
            "text/plain": [
              "(2062, 64, 64, 3)"
            ]
          },
          "metadata": {
            "tags": []
          },
          "execution_count": 69
        }
      ]
    },
    {
      "cell_type": "markdown",
      "metadata": {
        "id": "asGGIHLJn5Uq",
        "colab_type": "text"
      },
      "source": [
        "# Import modello VGG16 e relativa preprocessing function"
      ]
    },
    {
      "cell_type": "code",
      "metadata": {
        "id": "kcs0bZM0n5vB",
        "colab_type": "code",
        "outputId": "9e8e15b7-2fec-41c7-ce2f-26b8df778a52",
        "colab": {
          "base_uri": "https://localhost:8080/",
          "height": 160
        }
      },
      "source": [
        "base_net = vgg16.VGG16(input_shape=(64,64,3), include_top=False, weights = \"imagenet\", pooling=\"avg\")"
      ],
      "execution_count": 0,
      "outputs": [
        {
          "output_type": "stream",
          "text": [
            "WARNING:tensorflow:From /usr/local/lib/python3.6/dist-packages/tensorflow_core/python/ops/resource_variable_ops.py:1630: calling BaseResourceVariable.__init__ (from tensorflow.python.ops.resource_variable_ops) with constraint is deprecated and will be removed in a future version.\n",
            "Instructions for updating:\n",
            "If using Keras pass *_constraint arguments to layers.\n",
            "WARNING:tensorflow:From /usr/local/lib/python3.6/dist-packages/keras/backend/tensorflow_backend.py:4070: The name tf.nn.max_pool is deprecated. Please use tf.nn.max_pool2d instead.\n",
            "\n",
            "Downloading data from https://github.com/fchollet/deep-learning-models/releases/download/v0.1/vgg16_weights_tf_dim_ordering_tf_kernels_notop.h5\n",
            "58892288/58889256 [==============================] - 5s 0us/step\n"
          ],
          "name": "stdout"
        }
      ]
    },
    {
      "cell_type": "markdown",
      "metadata": {
        "id": "kPrDTaUV0-YR",
        "colab_type": "text"
      },
      "source": [
        "Si impone che la rete non possa effettuare training di parametri, ma che la conoscenza venga trasferita attraverso l'adozione dei pesi della rete provenienti da \"imagenet\" per applicarla al caso considerato, effettuando quindi Transfer Learning"
      ]
    },
    {
      "cell_type": "code",
      "metadata": {
        "id": "wejmYnysoa0h",
        "colab_type": "code",
        "colab": {}
      },
      "source": [
        "for layer in base_net.layers:\n",
        "  layer.trainable = False"
      ],
      "execution_count": 0,
      "outputs": []
    },
    {
      "cell_type": "markdown",
      "metadata": {
        "id": "GaB-6CSd1QSA",
        "colab_type": "text"
      },
      "source": [
        "Si osserva la struttura della rete per determinare in che punto effettuare il taglio dei layer, per permettere una buona rappresentazione delle immagini da fornire ad un classificatore esterno"
      ]
    },
    {
      "cell_type": "code",
      "metadata": {
        "id": "4lsIu1pr1dFA",
        "colab_type": "code",
        "outputId": "f877b4d7-e344-4407-9096-c833f0550ef8",
        "colab": {
          "base_uri": "https://localhost:8080/",
          "height": 862
        }
      },
      "source": [
        "base_net.summary()"
      ],
      "execution_count": 0,
      "outputs": [
        {
          "output_type": "stream",
          "text": [
            "Model: \"vgg16\"\n",
            "_________________________________________________________________\n",
            "Layer (type)                 Output Shape              Param #   \n",
            "=================================================================\n",
            "input_1 (InputLayer)         (None, 64, 64, 3)         0         \n",
            "_________________________________________________________________\n",
            "block1_conv1 (Conv2D)        (None, 64, 64, 64)        1792      \n",
            "_________________________________________________________________\n",
            "block1_conv2 (Conv2D)        (None, 64, 64, 64)        36928     \n",
            "_________________________________________________________________\n",
            "block1_pool (MaxPooling2D)   (None, 32, 32, 64)        0         \n",
            "_________________________________________________________________\n",
            "block2_conv1 (Conv2D)        (None, 32, 32, 128)       73856     \n",
            "_________________________________________________________________\n",
            "block2_conv2 (Conv2D)        (None, 32, 32, 128)       147584    \n",
            "_________________________________________________________________\n",
            "block2_pool (MaxPooling2D)   (None, 16, 16, 128)       0         \n",
            "_________________________________________________________________\n",
            "block3_conv1 (Conv2D)        (None, 16, 16, 256)       295168    \n",
            "_________________________________________________________________\n",
            "block3_conv2 (Conv2D)        (None, 16, 16, 256)       590080    \n",
            "_________________________________________________________________\n",
            "block3_conv3 (Conv2D)        (None, 16, 16, 256)       590080    \n",
            "_________________________________________________________________\n",
            "block3_pool (MaxPooling2D)   (None, 8, 8, 256)         0         \n",
            "_________________________________________________________________\n",
            "block4_conv1 (Conv2D)        (None, 8, 8, 512)         1180160   \n",
            "_________________________________________________________________\n",
            "block4_conv2 (Conv2D)        (None, 8, 8, 512)         2359808   \n",
            "_________________________________________________________________\n",
            "block4_conv3 (Conv2D)        (None, 8, 8, 512)         2359808   \n",
            "_________________________________________________________________\n",
            "block4_pool (MaxPooling2D)   (None, 4, 4, 512)         0         \n",
            "_________________________________________________________________\n",
            "block5_conv1 (Conv2D)        (None, 4, 4, 512)         2359808   \n",
            "_________________________________________________________________\n",
            "block5_conv2 (Conv2D)        (None, 4, 4, 512)         2359808   \n",
            "_________________________________________________________________\n",
            "block5_conv3 (Conv2D)        (None, 4, 4, 512)         2359808   \n",
            "_________________________________________________________________\n",
            "block5_pool (MaxPooling2D)   (None, 2, 2, 512)         0         \n",
            "_________________________________________________________________\n",
            "global_average_pooling2d_1 ( (None, 512)               0         \n",
            "=================================================================\n",
            "Total params: 14,714,688\n",
            "Trainable params: 0\n",
            "Non-trainable params: 14,714,688\n",
            "_________________________________________________________________\n"
          ],
          "name": "stdout"
        }
      ]
    },
    {
      "cell_type": "markdown",
      "metadata": {
        "id": "FSvlD4ed1hTR",
        "colab_type": "text"
      },
      "source": [
        "L'approccio che verrà implementato è quello di effettuare il taglio alla fine di ogni \"block\" (insieme di più layer dello stesso tipo)"
      ]
    },
    {
      "cell_type": "markdown",
      "metadata": {
        "id": "jQzR6QYbnw_D",
        "colab_type": "text"
      },
      "source": [
        "#Train e Test Split"
      ]
    },
    {
      "cell_type": "code",
      "metadata": {
        "id": "D0bCjkOIqmkK",
        "colab_type": "code",
        "colab": {}
      },
      "source": [
        "X_train, X_test, y_train, y_test = train_test_split(features, labels, stratify = labels, test_size=0.2, random_state=1996)"
      ],
      "execution_count": 0,
      "outputs": []
    },
    {
      "cell_type": "markdown",
      "metadata": {
        "id": "biHFAm25ohZD",
        "colab_type": "text"
      },
      "source": [
        "# Prima modifica della rete neurale:\n",
        "\n",
        "\n",
        "*   Si effettua un taglio della rete fino al blocco \"block4_pool\"\n",
        "\n"
      ]
    },
    {
      "cell_type": "code",
      "metadata": {
        "id": "HXNGMN6roiHX",
        "colab_type": "code",
        "colab": {}
      },
      "source": [
        "x = base_net.get_layer(\"block4_pool\").output\n",
        "x = Flatten()(x)\n",
        "net = Model(inputs = base_net.input, outputs = x)"
      ],
      "execution_count": 0,
      "outputs": []
    },
    {
      "cell_type": "code",
      "metadata": {
        "id": "fVZ5ky_dgdCU",
        "colab_type": "code",
        "outputId": "0e9003d9-967f-4053-da48-db65443428dd",
        "colab": {
          "base_uri": "https://localhost:8080/",
          "height": 34
        }
      },
      "source": [
        "base_net.get_layer(\"block4_pool\").output_shape"
      ],
      "execution_count": 0,
      "outputs": [
        {
          "output_type": "execute_result",
          "data": {
            "text/plain": [
              "(None, 4, 4, 512)"
            ]
          },
          "metadata": {
            "tags": []
          },
          "execution_count": 77
        }
      ]
    },
    {
      "cell_type": "code",
      "metadata": {
        "id": "Wf2udZHJtfKC",
        "colab_type": "code",
        "outputId": "ce1fa466-fef0-4c67-e265-df942f4cc03f",
        "colab": {
          "base_uri": "https://localhost:8080/",
          "height": 697
        }
      },
      "source": [
        "net.summary()"
      ],
      "execution_count": 0,
      "outputs": [
        {
          "output_type": "stream",
          "text": [
            "Model: \"model_1\"\n",
            "_________________________________________________________________\n",
            "Layer (type)                 Output Shape              Param #   \n",
            "=================================================================\n",
            "input_1 (InputLayer)         (None, 64, 64, 3)         0         \n",
            "_________________________________________________________________\n",
            "block1_conv1 (Conv2D)        (None, 64, 64, 64)        1792      \n",
            "_________________________________________________________________\n",
            "block1_conv2 (Conv2D)        (None, 64, 64, 64)        36928     \n",
            "_________________________________________________________________\n",
            "block1_pool (MaxPooling2D)   (None, 32, 32, 64)        0         \n",
            "_________________________________________________________________\n",
            "block2_conv1 (Conv2D)        (None, 32, 32, 128)       73856     \n",
            "_________________________________________________________________\n",
            "block2_conv2 (Conv2D)        (None, 32, 32, 128)       147584    \n",
            "_________________________________________________________________\n",
            "block2_pool (MaxPooling2D)   (None, 16, 16, 128)       0         \n",
            "_________________________________________________________________\n",
            "block3_conv1 (Conv2D)        (None, 16, 16, 256)       295168    \n",
            "_________________________________________________________________\n",
            "block3_conv2 (Conv2D)        (None, 16, 16, 256)       590080    \n",
            "_________________________________________________________________\n",
            "block3_conv3 (Conv2D)        (None, 16, 16, 256)       590080    \n",
            "_________________________________________________________________\n",
            "block3_pool (MaxPooling2D)   (None, 8, 8, 256)         0         \n",
            "_________________________________________________________________\n",
            "block4_conv1 (Conv2D)        (None, 8, 8, 512)         1180160   \n",
            "_________________________________________________________________\n",
            "block4_conv2 (Conv2D)        (None, 8, 8, 512)         2359808   \n",
            "_________________________________________________________________\n",
            "block4_conv3 (Conv2D)        (None, 8, 8, 512)         2359808   \n",
            "_________________________________________________________________\n",
            "block4_pool (MaxPooling2D)   (None, 4, 4, 512)         0         \n",
            "_________________________________________________________________\n",
            "flatten_1 (Flatten)          (None, 8192)              0         \n",
            "=================================================================\n",
            "Total params: 7,635,264\n",
            "Trainable params: 0\n",
            "Non-trainable params: 7,635,264\n",
            "_________________________________________________________________\n"
          ],
          "name": "stdout"
        }
      ]
    },
    {
      "cell_type": "markdown",
      "metadata": {
        "id": "g8asXLvRraX4",
        "colab_type": "text"
      },
      "source": [
        "Si effettua preprocessing dei dati passandoli alla rete neurale VGG16, in questo modo è possibile ottenere una rappresentazione dell'immagine codificata attraverso i layer pre-trainati"
      ]
    },
    {
      "cell_type": "markdown",
      "metadata": {
        "id": "muHNUo4C7pLR",
        "colab_type": "text"
      },
      "source": [
        "Train:"
      ]
    },
    {
      "cell_type": "code",
      "metadata": {
        "id": "d4a2BHMN4uZ6",
        "colab_type": "code",
        "outputId": "3745a3be-3a54-4687-83dc-046fcd646da7",
        "colab": {
          "base_uri": "https://localhost:8080/",
          "height": 68
        }
      },
      "source": [
        "features_codifica = net.predict(X_train, verbose = 1)"
      ],
      "execution_count": 0,
      "outputs": [
        {
          "output_type": "stream",
          "text": [
            "WARNING:tensorflow:From /usr/local/lib/python3.6/dist-packages/keras/backend/tensorflow_backend.py:422: The name tf.global_variables is deprecated. Please use tf.compat.v1.global_variables instead.\n",
            "\n",
            "1649/1649 [==============================] - 6s 3ms/step\n"
          ],
          "name": "stdout"
        }
      ]
    },
    {
      "cell_type": "markdown",
      "metadata": {
        "id": "fXxkoCIW7q2_",
        "colab_type": "text"
      },
      "source": [
        "Test:"
      ]
    },
    {
      "cell_type": "code",
      "metadata": {
        "id": "yaYghDNa7sFE",
        "colab_type": "code",
        "outputId": "92a0801c-436e-411c-eb06-6ac2f7fde4eb",
        "colab": {
          "base_uri": "https://localhost:8080/",
          "height": 34
        }
      },
      "source": [
        "features_codifica_test = net.predict(X_test, verbose = 1)"
      ],
      "execution_count": 0,
      "outputs": [
        {
          "output_type": "stream",
          "text": [
            "413/413 [==============================] - 1s 2ms/step\n"
          ],
          "name": "stdout"
        }
      ]
    },
    {
      "cell_type": "markdown",
      "metadata": {
        "id": "v2PSiLcr4_PS",
        "colab_type": "text"
      },
      "source": [
        "##Classificatore SVM (prima codifica)"
      ]
    },
    {
      "cell_type": "markdown",
      "metadata": {
        "id": "OEV43DEY5B6H",
        "colab_type": "text"
      },
      "source": [
        "Si sceglie come classificatore il modello SVM, permette di classificare l'immagine fornendogli in input una rappresentazione codificata dell'immagine (generata dalla rete neurale base_net)"
      ]
    },
    {
      "cell_type": "markdown",
      "metadata": {
        "id": "mGjACOuACOJg",
        "colab_type": "text"
      },
      "source": [
        "Si procede a valutare la dimensione della codifica che verrà passata al classificatore SVM"
      ]
    },
    {
      "cell_type": "code",
      "metadata": {
        "id": "BmIh8O6frUzu",
        "colab_type": "code",
        "outputId": "233adf07-e613-478f-c552-18506bd8a856",
        "colab": {
          "base_uri": "https://localhost:8080/",
          "height": 34
        }
      },
      "source": [
        "len(features_codifica[0])"
      ],
      "execution_count": 0,
      "outputs": [
        {
          "output_type": "execute_result",
          "data": {
            "text/plain": [
              "8192"
            ]
          },
          "metadata": {
            "tags": []
          },
          "execution_count": 22
        }
      ]
    },
    {
      "cell_type": "markdown",
      "metadata": {
        "id": "gN3SmvMC5az-",
        "colab_type": "text"
      },
      "source": [
        "Si forniscono in input i parametri al classificatore attraverso una parameters grid, si vuole utilizzare la versione Radial Basis Function \"rbf\".\n",
        "<br> Si decide di determinare i migliori parametri per il classificatore tramite la funzione GridSearchCV."
      ]
    },
    {
      "cell_type": "code",
      "metadata": {
        "id": "O40SgYKa6Thl",
        "colab_type": "code",
        "colab": {}
      },
      "source": [
        "from sklearn.model_selection import GridSearchCV\n",
        "from sklearn.svm import SVC\n",
        "from sklearn.metrics import classification_report"
      ],
      "execution_count": 0,
      "outputs": []
    },
    {
      "cell_type": "code",
      "metadata": {
        "id": "HvriFhA559rE",
        "colab_type": "code",
        "colab": {}
      },
      "source": [
        "griglia_params = {\"C\" : [50, 100, 500, 1000, 1500], \"gamma\" : [0.005, 0.01, 0.02, 0.05, 0.1, 0.5, 1]}\n",
        "classificatore = GridSearchCV(SVC(kernel = \"rbf\", class_weight = \"balanced\"), griglia_params, cv = 2)"
      ],
      "execution_count": 0,
      "outputs": []
    },
    {
      "cell_type": "code",
      "metadata": {
        "id": "TQlBao9E52Si",
        "colab_type": "code",
        "outputId": "9b85d43a-bb5b-4227-fc4a-ee59465f34d3",
        "colab": {
          "base_uri": "https://localhost:8080/",
          "height": 34
        }
      },
      "source": [
        "#Train the model using the training sets\n",
        "classificatore = classificatore.fit(features_codifica, y_train)\n",
        "\n",
        "#Migliori parametri\n",
        "print(\"i parametri ideali per il classificatore SVM sono:\" + \" C: \"  + str(classificatore.best_estimator_.C) + \" gamma:\" + str(classificatore.best_estimator_.gamma))"
      ],
      "execution_count": 0,
      "outputs": [
        {
          "output_type": "stream",
          "text": [
            "i parametri ideali per il classificatore SVM sono: C: 50 gamma:0.5\n"
          ],
          "name": "stdout"
        }
      ]
    },
    {
      "cell_type": "markdown",
      "metadata": {
        "id": "16-fG7Wa9XXw",
        "colab_type": "text"
      },
      "source": [
        "Si effettua una classificazione sui valori del Test set (features_codifica_test)"
      ]
    },
    {
      "cell_type": "code",
      "metadata": {
        "id": "g8d-OiDg69hn",
        "colab_type": "code",
        "colab": {}
      },
      "source": [
        "#Predict the response for test dataset\n",
        "predetti = classificatore.predict(features_codifica_test)"
      ],
      "execution_count": 0,
      "outputs": []
    },
    {
      "cell_type": "markdown",
      "metadata": {
        "id": "T023lHj19a9q",
        "colab_type": "text"
      },
      "source": [
        "I valori predetti sono utilizzati con quelli reali per valutare la performance del classificatore"
      ]
    },
    {
      "cell_type": "code",
      "metadata": {
        "id": "1-0fucFW8Ppb",
        "colab_type": "code",
        "outputId": "ea7b912c-9d4d-49b6-d72d-bf47a016b822",
        "colab": {
          "base_uri": "https://localhost:8080/",
          "height": 306
        }
      },
      "source": [
        "print(classification_report(y_test, predetti))"
      ],
      "execution_count": 0,
      "outputs": [
        {
          "output_type": "stream",
          "text": [
            "              precision    recall  f1-score   support\n",
            "\n",
            "         0.0       1.00      0.98      0.99        41\n",
            "         1.0       0.98      1.00      0.99        41\n",
            "         2.0       0.95      0.95      0.95        41\n",
            "         3.0       1.00      0.98      0.99        41\n",
            "         4.0       0.82      0.90      0.86        41\n",
            "         5.0       1.00      1.00      1.00        42\n",
            "         6.0       0.88      0.90      0.89        42\n",
            "         7.0       0.94      0.80      0.87        41\n",
            "         8.0       0.88      0.88      0.88        42\n",
            "         9.0       0.91      0.95      0.93        41\n",
            "\n",
            "    accuracy                           0.93       413\n",
            "   macro avg       0.94      0.93      0.93       413\n",
            "weighted avg       0.94      0.93      0.93       413\n",
            "\n"
          ],
          "name": "stdout"
        }
      ]
    },
    {
      "cell_type": "markdown",
      "metadata": {
        "id": "QktyFlo1BAWZ",
        "colab_type": "text"
      },
      "source": [
        "# Seconda modifica della rete neurale:\n",
        "\n",
        "\n",
        "*   Si effettua un taglio della rete fino al blocco \"block3_pool\"\n",
        "\n"
      ]
    },
    {
      "cell_type": "code",
      "metadata": {
        "colab_type": "code",
        "id": "4O0F9n4PBWdF",
        "colab": {}
      },
      "source": [
        "x = base_net.get_layer(\"block3_pool\").output\n",
        "x = Flatten()(x)\n",
        "net2 = Model(inputs = base_net.input, outputs = x)"
      ],
      "execution_count": 0,
      "outputs": []
    },
    {
      "cell_type": "code",
      "metadata": {
        "colab_type": "code",
        "outputId": "4fc72fbb-06e7-41d4-bd9c-0f033b1baf89",
        "id": "_VQxkWXDBWdH",
        "colab": {
          "base_uri": "https://localhost:8080/",
          "height": 561
        }
      },
      "source": [
        "net2.summary()"
      ],
      "execution_count": 0,
      "outputs": [
        {
          "output_type": "stream",
          "text": [
            "Model: \"model_2\"\n",
            "_________________________________________________________________\n",
            "Layer (type)                 Output Shape              Param #   \n",
            "=================================================================\n",
            "input_1 (InputLayer)         (None, 64, 64, 3)         0         \n",
            "_________________________________________________________________\n",
            "block1_conv1 (Conv2D)        (None, 64, 64, 64)        1792      \n",
            "_________________________________________________________________\n",
            "block1_conv2 (Conv2D)        (None, 64, 64, 64)        36928     \n",
            "_________________________________________________________________\n",
            "block1_pool (MaxPooling2D)   (None, 32, 32, 64)        0         \n",
            "_________________________________________________________________\n",
            "block2_conv1 (Conv2D)        (None, 32, 32, 128)       73856     \n",
            "_________________________________________________________________\n",
            "block2_conv2 (Conv2D)        (None, 32, 32, 128)       147584    \n",
            "_________________________________________________________________\n",
            "block2_pool (MaxPooling2D)   (None, 16, 16, 128)       0         \n",
            "_________________________________________________________________\n",
            "block3_conv1 (Conv2D)        (None, 16, 16, 256)       295168    \n",
            "_________________________________________________________________\n",
            "block3_conv2 (Conv2D)        (None, 16, 16, 256)       590080    \n",
            "_________________________________________________________________\n",
            "block3_conv3 (Conv2D)        (None, 16, 16, 256)       590080    \n",
            "_________________________________________________________________\n",
            "block3_pool (MaxPooling2D)   (None, 8, 8, 256)         0         \n",
            "_________________________________________________________________\n",
            "flatten_2 (Flatten)          (None, 16384)             0         \n",
            "=================================================================\n",
            "Total params: 1,735,488\n",
            "Trainable params: 0\n",
            "Non-trainable params: 1,735,488\n",
            "_________________________________________________________________\n"
          ],
          "name": "stdout"
        }
      ]
    },
    {
      "cell_type": "code",
      "metadata": {
        "colab_type": "code",
        "outputId": "2607e778-e3f8-40fb-dc59-9153d5c26bad",
        "id": "guizMMOgBWdL",
        "colab": {
          "base_uri": "https://localhost:8080/",
          "height": 34
        }
      },
      "source": [
        "features_codifica2 = net2.predict(X_train, verbose = 1)"
      ],
      "execution_count": 0,
      "outputs": [
        {
          "output_type": "stream",
          "text": [
            "1649/1649 [==============================] - 1s 810us/step\n"
          ],
          "name": "stdout"
        }
      ]
    },
    {
      "cell_type": "code",
      "metadata": {
        "colab_type": "code",
        "outputId": "a6be4bf6-bc78-4e59-fd93-632f713160ea",
        "id": "cyDkaCEOBWdO",
        "colab": {
          "base_uri": "https://localhost:8080/",
          "height": 34
        }
      },
      "source": [
        "features_codifica2_test = net2.predict(X_test, verbose = 1)"
      ],
      "execution_count": 0,
      "outputs": [
        {
          "output_type": "stream",
          "text": [
            "413/413 [==============================] - 0s 755us/step\n"
          ],
          "name": "stdout"
        }
      ]
    },
    {
      "cell_type": "markdown",
      "metadata": {
        "colab_type": "text",
        "id": "r_Kf8rFfDiU5"
      },
      "source": [
        "##Classificatore SVM (seconda codifica)"
      ]
    },
    {
      "cell_type": "markdown",
      "metadata": {
        "colab_type": "text",
        "id": "bN6UtTpvDiU7"
      },
      "source": [
        "Si procede a valutare la dimensione della seconda codifica che verrà passata al classificatore SVM"
      ]
    },
    {
      "cell_type": "code",
      "metadata": {
        "colab_type": "code",
        "outputId": "f0fbf6f0-9d16-40c3-c87c-4d7de44017a8",
        "id": "SFrlTIeSDiU8",
        "colab": {
          "base_uri": "https://localhost:8080/",
          "height": 34
        }
      },
      "source": [
        "len(features_codifica2[0])"
      ],
      "execution_count": 0,
      "outputs": [
        {
          "output_type": "execute_result",
          "data": {
            "text/plain": [
              "16384"
            ]
          },
          "metadata": {
            "tags": []
          },
          "execution_count": 32
        }
      ]
    },
    {
      "cell_type": "markdown",
      "metadata": {
        "id": "SfRN2tl0Frno",
        "colab_type": "text"
      },
      "source": [
        "\n",
        "Si forniscono in input i parametri al classificatore attraverso una parameters grid."
      ]
    },
    {
      "cell_type": "code",
      "metadata": {
        "colab_type": "code",
        "id": "TfjpI03pDiVC",
        "colab": {}
      },
      "source": [
        "griglia_params = {\"C\" : [50, 100, 500, 1000, 1500], \"gamma\" : [0.005, 0.01, 0.02, 0.05, 0.1, 0.5, 1]}\n",
        "classificatore = GridSearchCV(SVC(kernel = \"rbf\", class_weight = \"balanced\"), griglia_params, cv = 2)"
      ],
      "execution_count": 0,
      "outputs": []
    },
    {
      "cell_type": "code",
      "metadata": {
        "colab_type": "code",
        "id": "P392f77GDiVE",
        "outputId": "1b23b4c6-1f74-4e6e-c386-e713e34ba5b6",
        "colab": {
          "base_uri": "https://localhost:8080/",
          "height": 88
        }
      },
      "source": [
        "#Train the model using the training sets\n",
        "classificatore = classificatore.fit(features_codifica2, y_train)\n",
        "\n",
        "#Migliori parametri\n",
        "print(\"i parametri ideali per il classificatore SVM sono:\" + \" C: \"  + str(classificatore.best_estimator_.C) + \" gamma:\" + str(classificatore.best_estimator_.gamma))"
      ],
      "execution_count": 0,
      "outputs": [
        {
          "output_type": "stream",
          "text": [
            "/usr/local/lib/python3.6/dist-packages/sklearn/model_selection/_search.py:814: DeprecationWarning: The default of the `iid` parameter will change from True to False in version 0.22 and will be removed in 0.24. This will change numeric results when test-set sizes are unequal.\n",
            "  DeprecationWarning)\n"
          ],
          "name": "stderr"
        },
        {
          "output_type": "stream",
          "text": [
            "i parametri ideali per il classificatore SVM sono: C: 50 gamma:0.01\n"
          ],
          "name": "stdout"
        }
      ]
    },
    {
      "cell_type": "markdown",
      "metadata": {
        "colab_type": "text",
        "id": "fPhdbNxGDiVG"
      },
      "source": [
        "Si effettua una classificazione sui valori del Test set (features_codifica_test)"
      ]
    },
    {
      "cell_type": "code",
      "metadata": {
        "colab_type": "code",
        "id": "n1SFiVu0DiVH",
        "colab": {}
      },
      "source": [
        "#Predict the response for test dataset\n",
        "predetti2 = classificatore.predict(features_codifica2_test)"
      ],
      "execution_count": 0,
      "outputs": []
    },
    {
      "cell_type": "markdown",
      "metadata": {
        "colab_type": "text",
        "id": "J0Ra2VWJDiVJ"
      },
      "source": [
        "I valori predetti sono utilizzati con quelli reali per valutare la performance del classificatore"
      ]
    },
    {
      "cell_type": "code",
      "metadata": {
        "colab_type": "code",
        "id": "aQymcb_zDiVJ",
        "outputId": "aa2fcf33-ea47-4add-ee15-2b72a897af2c",
        "colab": {
          "base_uri": "https://localhost:8080/",
          "height": 306
        }
      },
      "source": [
        "print(classification_report(y_test, predetti2))"
      ],
      "execution_count": 0,
      "outputs": [
        {
          "output_type": "stream",
          "text": [
            "              precision    recall  f1-score   support\n",
            "\n",
            "         0.0       1.00      0.98      0.99        41\n",
            "         1.0       0.98      1.00      0.99        41\n",
            "         2.0       0.97      0.93      0.95        41\n",
            "         3.0       1.00      0.98      0.99        41\n",
            "         4.0       0.89      0.98      0.93        41\n",
            "         5.0       1.00      1.00      1.00        42\n",
            "         6.0       0.95      0.98      0.96        42\n",
            "         7.0       0.87      0.83      0.85        41\n",
            "         8.0       0.90      0.90      0.90        42\n",
            "         9.0       1.00      1.00      1.00        41\n",
            "\n",
            "    accuracy                           0.96       413\n",
            "   macro avg       0.96      0.96      0.96       413\n",
            "weighted avg       0.96      0.96      0.96       413\n",
            "\n"
          ],
          "name": "stdout"
        }
      ]
    },
    {
      "cell_type": "markdown",
      "metadata": {
        "colab_type": "text",
        "id": "E5KXBcwxSjeB"
      },
      "source": [
        "# Terza modifica della rete neurale:\n",
        "\n",
        "\n",
        "*   Si effettua un taglio della rete fino al blocco \"block2_pool\"\n",
        "\n"
      ]
    },
    {
      "cell_type": "code",
      "metadata": {
        "colab_type": "code",
        "id": "-y9XI3wRSjeE",
        "colab": {}
      },
      "source": [
        "x = base_net.get_layer(\"block2_pool\").output\n",
        "x = Flatten()(x)\n",
        "net3 = Model(inputs = base_net.input, outputs = x)"
      ],
      "execution_count": 0,
      "outputs": []
    },
    {
      "cell_type": "code",
      "metadata": {
        "colab_type": "code",
        "outputId": "dc8829e1-b540-43fe-ed32-968c42f6faf2",
        "id": "vROTkrkASjeH",
        "colab": {
          "base_uri": "https://localhost:8080/",
          "height": 425
        }
      },
      "source": [
        "net3.summary()"
      ],
      "execution_count": 0,
      "outputs": [
        {
          "output_type": "stream",
          "text": [
            "Model: \"model_3\"\n",
            "_________________________________________________________________\n",
            "Layer (type)                 Output Shape              Param #   \n",
            "=================================================================\n",
            "input_1 (InputLayer)         (None, 64, 64, 3)         0         \n",
            "_________________________________________________________________\n",
            "block1_conv1 (Conv2D)        (None, 64, 64, 64)        1792      \n",
            "_________________________________________________________________\n",
            "block1_conv2 (Conv2D)        (None, 64, 64, 64)        36928     \n",
            "_________________________________________________________________\n",
            "block1_pool (MaxPooling2D)   (None, 32, 32, 64)        0         \n",
            "_________________________________________________________________\n",
            "block2_conv1 (Conv2D)        (None, 32, 32, 128)       73856     \n",
            "_________________________________________________________________\n",
            "block2_conv2 (Conv2D)        (None, 32, 32, 128)       147584    \n",
            "_________________________________________________________________\n",
            "block2_pool (MaxPooling2D)   (None, 16, 16, 128)       0         \n",
            "_________________________________________________________________\n",
            "flatten_3 (Flatten)          (None, 32768)             0         \n",
            "=================================================================\n",
            "Total params: 260,160\n",
            "Trainable params: 0\n",
            "Non-trainable params: 260,160\n",
            "_________________________________________________________________\n"
          ],
          "name": "stdout"
        }
      ]
    },
    {
      "cell_type": "code",
      "metadata": {
        "colab_type": "code",
        "outputId": "84385dc6-3dd1-48b9-c788-3886ef841c05",
        "id": "ofakmkZASjeK",
        "colab": {
          "base_uri": "https://localhost:8080/",
          "height": 34
        }
      },
      "source": [
        "features_codifica3 = net3.predict(X_train, verbose = 1)"
      ],
      "execution_count": 0,
      "outputs": [
        {
          "output_type": "stream",
          "text": [
            "1649/1649 [==============================] - 1s 706us/step\n"
          ],
          "name": "stdout"
        }
      ]
    },
    {
      "cell_type": "code",
      "metadata": {
        "colab_type": "code",
        "outputId": "f185006d-78af-4ea8-8444-53a2c2b4a8eb",
        "id": "rme3kF_6SjeM",
        "colab": {
          "base_uri": "https://localhost:8080/",
          "height": 34
        }
      },
      "source": [
        "features_codifica3_test = net3.predict(X_test, verbose = 1)"
      ],
      "execution_count": 0,
      "outputs": [
        {
          "output_type": "stream",
          "text": [
            "413/413 [==============================] - 0s 615us/step\n"
          ],
          "name": "stdout"
        }
      ]
    },
    {
      "cell_type": "markdown",
      "metadata": {
        "colab_type": "text",
        "id": "aPC1afXxSjeO"
      },
      "source": [
        "##Classificatore SVM (seconda codifica)"
      ]
    },
    {
      "cell_type": "markdown",
      "metadata": {
        "colab_type": "text",
        "id": "Ns0oB0YCSjeP"
      },
      "source": [
        "Si procede a valutare la dimensione della terza codifica che verrà passata al classificatore SVM"
      ]
    },
    {
      "cell_type": "code",
      "metadata": {
        "colab_type": "code",
        "outputId": "e7fc2f69-68cf-4b3f-a234-9d3b381e4bbd",
        "id": "SnAFZP2MSjeQ",
        "colab": {
          "base_uri": "https://localhost:8080/",
          "height": 34
        }
      },
      "source": [
        "len(features_codifica3[0])"
      ],
      "execution_count": 0,
      "outputs": [
        {
          "output_type": "execute_result",
          "data": {
            "text/plain": [
              "32768"
            ]
          },
          "metadata": {
            "tags": []
          },
          "execution_count": 43
        }
      ]
    },
    {
      "cell_type": "markdown",
      "metadata": {
        "colab_type": "text",
        "id": "QSvwzjc4SjeS"
      },
      "source": [
        "\n",
        "Si forniscono in input i parametri al classificatore attraverso una parameters grid."
      ]
    },
    {
      "cell_type": "code",
      "metadata": {
        "colab_type": "code",
        "id": "EFLAW5QuSjeS",
        "colab": {}
      },
      "source": [
        "griglia_params = {\"C\" : [50, 100, 500, 1000, 1500], \"gamma\" : [0.005, 0.01, 0.02, 0.05, 0.1, 0.5, 1]}\n",
        "classificatore = GridSearchCV(SVC(kernel = \"rbf\", class_weight = \"balanced\"), griglia_params, cv = 2)"
      ],
      "execution_count": 0,
      "outputs": []
    },
    {
      "cell_type": "code",
      "metadata": {
        "colab_type": "code",
        "outputId": "f422d3c0-9b36-4561-f8a6-1fd54ff3df6e",
        "id": "5mT13SJvSjeU",
        "colab": {
          "base_uri": "https://localhost:8080/",
          "height": 88
        }
      },
      "source": [
        "#Train the model using the training sets\n",
        "classificatore = classificatore.fit(features_codifica3, y_train)\n",
        "\n",
        "#Migliori parametri\n",
        "print(\"i parametri ideali per il classificatore SVM sono:\" + \" C: \"  + str(classificatore.best_estimator_.C) + \" gamma:\" + str(classificatore.best_estimator_.gamma))"
      ],
      "execution_count": 0,
      "outputs": [
        {
          "output_type": "stream",
          "text": [
            "/usr/local/lib/python3.6/dist-packages/sklearn/model_selection/_search.py:814: DeprecationWarning: The default of the `iid` parameter will change from True to False in version 0.22 and will be removed in 0.24. This will change numeric results when test-set sizes are unequal.\n",
            "  DeprecationWarning)\n"
          ],
          "name": "stderr"
        },
        {
          "output_type": "stream",
          "text": [
            "i parametri ideali per il classificatore SVM sono: C: 50 gamma:0.02\n"
          ],
          "name": "stdout"
        }
      ]
    },
    {
      "cell_type": "markdown",
      "metadata": {
        "colab_type": "text",
        "id": "H4mBNJfqSjeW"
      },
      "source": [
        "Si effettua una classificazione sui valori del Test set (features_codifica_test)"
      ]
    },
    {
      "cell_type": "code",
      "metadata": {
        "colab_type": "code",
        "id": "3ACLIIgzSjeW",
        "colab": {}
      },
      "source": [
        "#Predict the response for test dataset\n",
        "predetti3 = classificatore.predict(features_codifica3_test)"
      ],
      "execution_count": 0,
      "outputs": []
    },
    {
      "cell_type": "markdown",
      "metadata": {
        "colab_type": "text",
        "id": "W_HyfCxhSjeY"
      },
      "source": [
        "I valori predetti sono utilizzati con quelli reali per valutare la performance del classificatore"
      ]
    },
    {
      "cell_type": "code",
      "metadata": {
        "colab_type": "code",
        "outputId": "cac219f8-7a90-492f-8648-f7f08f541b9c",
        "id": "gErPd4EdSjeY",
        "colab": {
          "base_uri": "https://localhost:8080/",
          "height": 306
        }
      },
      "source": [
        "print(classification_report(y_test, predetti3))"
      ],
      "execution_count": 0,
      "outputs": [
        {
          "output_type": "stream",
          "text": [
            "              precision    recall  f1-score   support\n",
            "\n",
            "         0.0       0.98      0.98      0.98        41\n",
            "         1.0       0.95      0.98      0.96        41\n",
            "         2.0       0.84      0.88      0.86        41\n",
            "         3.0       1.00      0.95      0.97        41\n",
            "         4.0       0.85      0.95      0.90        41\n",
            "         5.0       0.95      1.00      0.98        42\n",
            "         6.0       0.95      0.83      0.89        42\n",
            "         7.0       0.85      0.85      0.85        41\n",
            "         8.0       0.97      0.90      0.94        42\n",
            "         9.0       0.95      0.95      0.95        41\n",
            "\n",
            "    accuracy                           0.93       413\n",
            "   macro avg       0.93      0.93      0.93       413\n",
            "weighted avg       0.93      0.93      0.93       413\n",
            "\n"
          ],
          "name": "stdout"
        }
      ]
    }
  ]
}