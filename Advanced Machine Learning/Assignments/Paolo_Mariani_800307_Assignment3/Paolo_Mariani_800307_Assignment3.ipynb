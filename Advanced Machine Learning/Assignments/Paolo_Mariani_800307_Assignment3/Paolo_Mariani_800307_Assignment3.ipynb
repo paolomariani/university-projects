{
  "nbformat": 4,
  "nbformat_minor": 0,
  "metadata": {
    "colab": {
      "name": "Paolo_Mariani_800307_Assignment3.ipynb",
      "provenance": [],
      "collapsed_sections": []
    },
    "kernelspec": {
      "name": "python3",
      "display_name": "Python 3"
    },
    "accelerator": "GPU"
  },
  "cells": [
    {
      "cell_type": "markdown",
      "metadata": {
        "id": "o2xfMASSdz8p",
        "colab_type": "text"
      },
      "source": [
        "## MNIST NUMERI"
      ]
    },
    {
      "cell_type": "markdown",
      "metadata": {
        "id": "nna7-IpBebcD",
        "colab_type": "text"
      },
      "source": [
        "## Import delle Librerie"
      ]
    },
    {
      "cell_type": "code",
      "metadata": {
        "id": "3NoOZ424axp4",
        "colab_type": "code",
        "colab": {}
      },
      "source": [
        "import numpy as np\n",
        "import pandas as pd\n",
        "import matplotlib.pyplot as plt\n",
        "from keras.layers import Input, Dense, Dropout, Conv2D, MaxPooling2D, Flatten\n",
        "from keras.models import Sequential\n",
        "from keras.models import Model\n",
        "from keras.datasets import mnist\n",
        "from keras.layers.advanced_activations import LeakyReLU, PReLU\n",
        "from keras import callbacks\n",
        "import numpy as np\n",
        "from keras.utils import to_categorical\n",
        "from sklearn.metrics import classification_report\n",
        "\n",
        "%matplotlib inline"
      ],
      "execution_count": 0,
      "outputs": []
    },
    {
      "cell_type": "code",
      "metadata": {
        "id": "vBKFgx6mezs7",
        "colab_type": "code",
        "colab": {}
      },
      "source": [
        "(x_train, y_train), (x_test, y_test) = mnist.load_data()"
      ],
      "execution_count": 0,
      "outputs": []
    },
    {
      "cell_type": "code",
      "metadata": {
        "id": "yqLKEmlwfChS",
        "colab_type": "code",
        "outputId": "dbb9700b-cb38-474f-ff7c-212e480d1819",
        "colab": {
          "base_uri": "https://localhost:8080/",
          "height": 33
        }
      },
      "source": [
        "x_train.shape"
      ],
      "execution_count": 121,
      "outputs": [
        {
          "output_type": "execute_result",
          "data": {
            "text/plain": [
              "(60000, 28, 28)"
            ]
          },
          "metadata": {
            "tags": []
          },
          "execution_count": 121
        }
      ]
    },
    {
      "cell_type": "code",
      "metadata": {
        "id": "P175ehjYmi4A",
        "colab_type": "code",
        "colab": {
          "base_uri": "https://localhost:8080/",
          "height": 33
        },
        "outputId": "b50ecf21-5266-4fc0-cb10-6b116382e0d0"
      },
      "source": [
        "x_test.shape"
      ],
      "execution_count": 122,
      "outputs": [
        {
          "output_type": "execute_result",
          "data": {
            "text/plain": [
              "(10000, 28, 28)"
            ]
          },
          "metadata": {
            "tags": []
          },
          "execution_count": 122
        }
      ]
    },
    {
      "cell_type": "markdown",
      "metadata": {
        "id": "AC8ISij9flEX",
        "colab_type": "text"
      },
      "source": [
        "### Visualizzazione delle immagini del dataset"
      ]
    },
    {
      "cell_type": "code",
      "metadata": {
        "id": "2SzpMQutfL2Z",
        "colab_type": "code",
        "outputId": "f2adb26c-f8fb-40e6-de7b-b3bc53cf7d12",
        "colab": {
          "base_uri": "https://localhost:8080/",
          "height": 187
        }
      },
      "source": [
        "n = 10\n",
        "plt.figure(figsize=(28, 28))\n",
        "for i in range(n):\n",
        "    # original\n",
        "    ax = plt.subplot(2, n, i + 1)\n",
        "    plt.imshow(x_train[i].reshape(28, 28))\n",
        "    plt.gray()\n",
        "    ax.get_xaxis().set_visible(False)\n",
        "    ax.get_yaxis().set_visible(False)\n",
        "plt.show()"
      ],
      "execution_count": 123,
      "outputs": [
        {
          "output_type": "display_data",
          "data": {
            "image/png": "[encoded data removed]",
            "text/plain": [
              "<Figure size 2016x2016 with 10 Axes>"
            ]
          },
          "metadata": {
            "tags": []
          }
        }
      ]
    },
    {
      "cell_type": "markdown",
      "metadata": {
        "id": "7Etd4nSLfo2K",
        "colab_type": "text"
      },
      "source": [
        "### Normalizzazione dei valori del pixel"
      ]
    },
    {
      "cell_type": "code",
      "metadata": {
        "id": "MiFfLkHKgQL2",
        "colab_type": "code",
        "colab": {}
      },
      "source": [
        "x_train = x_train/255\n",
        "x_test = x_test/255\n",
        "\n",
        "y_train = to_categorical(y_train)\n",
        "y_test = to_categorical(y_test)"
      ],
      "execution_count": 0,
      "outputs": []
    },
    {
      "cell_type": "code",
      "metadata": {
        "id": "tl6SilqFzxL9",
        "colab_type": "code",
        "outputId": "ac9c10b3-2d24-418d-d863-9434e4ad2fca",
        "colab": {
          "base_uri": "https://localhost:8080/",
          "height": 33
        }
      },
      "source": [
        "x_train.shape"
      ],
      "execution_count": 125,
      "outputs": [
        {
          "output_type": "execute_result",
          "data": {
            "text/plain": [
              "(60000, 28, 28)"
            ]
          },
          "metadata": {
            "tags": []
          },
          "execution_count": 125
        }
      ]
    },
    {
      "cell_type": "markdown",
      "metadata": {
        "id": "NE--6syivtJT",
        "colab_type": "text"
      },
      "source": [
        "Reshape del dataset"
      ]
    },
    {
      "cell_type": "code",
      "metadata": {
        "id": "V-roBgnLv32P",
        "colab_type": "code",
        "colab": {}
      },
      "source": [
        "x_train = np.reshape(x_train, (-1, 28, 28, 1))\n",
        "x_test = np.reshape(x_test, (-1, 28, 28, 1))"
      ],
      "execution_count": 0,
      "outputs": []
    },
    {
      "cell_type": "code",
      "metadata": {
        "id": "MC-VI_xmxo2b",
        "colab_type": "code",
        "outputId": "185d71dc-50c5-494c-e381-26947619a81b",
        "colab": {
          "base_uri": "https://localhost:8080/",
          "height": 33
        }
      },
      "source": [
        "x_train.shape"
      ],
      "execution_count": 127,
      "outputs": [
        {
          "output_type": "execute_result",
          "data": {
            "text/plain": [
              "(60000, 28, 28, 1)"
            ]
          },
          "metadata": {
            "tags": []
          },
          "execution_count": 127
        }
      ]
    },
    {
      "cell_type": "markdown",
      "metadata": {
        "id": "P9PGWADSs1rm",
        "colab_type": "text"
      },
      "source": [
        "Definisco le misure"
      ]
    },
    {
      "cell_type": "code",
      "metadata": {
        "id": "Wx8gSbSCs2Fx",
        "colab_type": "code",
        "colab": {}
      },
      "source": [
        "from keras import backend as K\n",
        "def recall_m(y_true, y_pred):\n",
        "        true_positives = K.sum(K.round(K.clip(y_true * y_pred, 0, 1)))\n",
        "        possible_positives = K.sum(K.round(K.clip(y_true, 0, 1)))\n",
        "        recall = true_positives / (possible_positives + K.epsilon())\n",
        "        return recall\n",
        "\n",
        "def precision_m(y_true, y_pred):\n",
        "        true_positives = K.sum(K.round(K.clip(y_true * y_pred, 0, 1)))\n",
        "        predicted_positives = K.sum(K.round(K.clip(y_pred, 0, 1)))\n",
        "        precision = true_positives / (predicted_positives + K.epsilon())\n",
        "        return precision\n",
        "\n",
        "def f1_m(y_true, y_pred):\n",
        "    precision = precision_m(y_true, y_pred)\n",
        "    recall = recall_m(y_true, y_pred)\n",
        "    return 2*((precision*recall)/(precision+recall+K.epsilon()))"
      ],
      "execution_count": 0,
      "outputs": []
    },
    {
      "cell_type": "markdown",
      "metadata": {
        "id": "71OF4-gtgm8X",
        "colab_type": "text"
      },
      "source": [
        "# Implementazione della CNN"
      ]
    },
    {
      "cell_type": "markdown",
      "metadata": {
        "id": "4Dp-VoyaW-F3",
        "colab_type": "text"
      },
      "source": [
        "Definisco innanzitutto la funzione di callback che monitora il valore di val_loss per implementare early stopping"
      ]
    },
    {
      "cell_type": "code",
      "metadata": {
        "id": "qDRq4-JuW9vR",
        "colab_type": "code",
        "colab": {}
      },
      "source": [
        "stop = callbacks.EarlyStopping(monitor=\"val_loss\", min_delta=0, patience = 7)\n",
        "stop2 = callbacks.EarlyStopping(monitor=\"val_acc\", min_delta=0, patience = 7)\n"
      ],
      "execution_count": 0,
      "outputs": []
    },
    {
      "cell_type": "markdown",
      "metadata": {
        "id": "TCwc1jZu8GEh",
        "colab_type": "text"
      },
      "source": [
        "## Architettura della rete neurale"
      ]
    },
    {
      "cell_type": "code",
      "metadata": {
        "id": "mu3kuO6R8cra",
        "colab_type": "code",
        "colab": {}
      },
      "source": [
        "model3 = Sequential()\n",
        "model3.add(Conv2D(16, (5, 5), activation = \"relu\", input_shape=(28,28,1), padding=\"same\"))\n",
        "model3.add(MaxPooling2D(pool_size=(2, 2))) \n",
        "model3.add(Conv2D(16, (4, 4), activation = \"relu\"))\n",
        "model3.add(MaxPooling2D(pool_size=(3, 3)))\n",
        "model3.add(Flatten())\n",
        "model3.add(Dropout(0.2))\n",
        "model3.add(Dense(16, activation=\"relu\"))\n",
        "model3.add(Dropout(0.2))\n",
        "model3.add(Dense(10, activation=\"softmax\"))"
      ],
      "execution_count": 0,
      "outputs": []
    },
    {
      "cell_type": "markdown",
      "metadata": {
        "id": "baoWfVPmX4YC",
        "colab_type": "text"
      },
      "source": [
        "## Summary per evidenziare il numero di componenti e i parametri ad esse associati"
      ]
    },
    {
      "cell_type": "code",
      "metadata": {
        "id": "DqN9MLD38rKJ",
        "colab_type": "code",
        "outputId": "28832d60-e117-48bd-87e1-4939705db283",
        "colab": {
          "base_uri": "https://localhost:8080/",
          "height": 452
        }
      },
      "source": [
        "model3.summary()\n",
        "model3.compile(optimizer='adam', loss='categorical_crossentropy', metrics=['accuracy', f1_m])"
      ],
      "execution_count": 131,
      "outputs": [
        {
          "output_type": "stream",
          "text": [
            "Model: \"sequential_47\"\n",
            "_________________________________________________________________\n",
            "Layer (type)                 Output Shape              Param #   \n",
            "=================================================================\n",
            "conv2d_104 (Conv2D)          (None, 28, 28, 16)        416       \n",
            "_________________________________________________________________\n",
            "max_pooling2d_88 (MaxPooling (None, 14, 14, 16)        0         \n",
            "_________________________________________________________________\n",
            "conv2d_105 (Conv2D)          (None, 11, 11, 16)        4112      \n",
            "_________________________________________________________________\n",
            "max_pooling2d_89 (MaxPooling (None, 3, 3, 16)          0         \n",
            "_________________________________________________________________\n",
            "flatten_46 (Flatten)         (None, 144)               0         \n",
            "_________________________________________________________________\n",
            "dropout_91 (Dropout)         (None, 144)               0         \n",
            "_________________________________________________________________\n",
            "dense_91 (Dense)             (None, 16)                2320      \n",
            "_________________________________________________________________\n",
            "dropout_92 (Dropout)         (None, 16)                0         \n",
            "_________________________________________________________________\n",
            "dense_92 (Dense)             (None, 10)                170       \n",
            "=================================================================\n",
            "Total params: 7,018\n",
            "Trainable params: 7,018\n",
            "Non-trainable params: 0\n",
            "_________________________________________________________________\n"
          ],
          "name": "stdout"
        }
      ]
    },
    {
      "cell_type": "code",
      "metadata": {
        "id": "W7bZBCL687FT",
        "colab_type": "code",
        "outputId": "5dd555a7-e6e3-4765-de34-adfcf7c8e1d7",
        "colab": {
          "base_uri": "https://localhost:8080/",
          "height": 1000
        }
      },
      "source": [
        "history = model3.fit(x_train, y_train, epochs=50, validation_split = 0.25, batch_size=64, callbacks = [stop, stop2] , verbose=True)"
      ],
      "execution_count": 132,
      "outputs": [
        {
          "output_type": "stream",
          "text": [
            "Train on 45000 samples, validate on 15000 samples\n",
            "Epoch 1/50\n",
            "45000/45000 [==============================] - 8s 188us/step - loss: 0.7669 - acc: 0.7428 - f1_m: 0.7006 - val_loss: 0.1525 - val_acc: 0.9563 - val_f1_m: 0.9563\n",
            "Epoch 2/50\n",
            "45000/45000 [==============================] - 7s 147us/step - loss: 0.3224 - acc: 0.8962 - f1_m: 0.8965 - val_loss: 0.1080 - val_acc: 0.9651 - val_f1_m: 0.9660\n",
            "Epoch 3/50\n",
            "45000/45000 [==============================] - 7s 146us/step - loss: 0.2604 - acc: 0.9174 - f1_m: 0.9183 - val_loss: 0.0891 - val_acc: 0.9719 - val_f1_m: 0.9729\n",
            "Epoch 4/50\n",
            "45000/45000 [==============================] - 7s 149us/step - loss: 0.2259 - acc: 0.9299 - f1_m: 0.9306 - val_loss: 0.0842 - val_acc: 0.9751 - val_f1_m: 0.9757\n",
            "Epoch 5/50\n",
            "45000/45000 [==============================] - 7s 149us/step - loss: 0.2050 - acc: 0.9360 - f1_m: 0.9378 - val_loss: 0.0762 - val_acc: 0.9757 - val_f1_m: 0.9767\n",
            "Epoch 6/50\n",
            "45000/45000 [==============================] - 7s 148us/step - loss: 0.1821 - acc: 0.9436 - f1_m: 0.9444 - val_loss: 0.0710 - val_acc: 0.9787 - val_f1_m: 0.9786\n",
            "Epoch 7/50\n",
            "45000/45000 [==============================] - 7s 147us/step - loss: 0.1685 - acc: 0.9487 - f1_m: 0.9489 - val_loss: 0.0669 - val_acc: 0.9785 - val_f1_m: 0.9789\n",
            "Epoch 8/50\n",
            "45000/45000 [==============================] - 7s 147us/step - loss: 0.1618 - acc: 0.9506 - f1_m: 0.9512 - val_loss: 0.0630 - val_acc: 0.9800 - val_f1_m: 0.9813\n",
            "Epoch 9/50\n",
            "45000/45000 [==============================] - 7s 147us/step - loss: 0.1562 - acc: 0.9528 - f1_m: 0.9536 - val_loss: 0.0655 - val_acc: 0.9790 - val_f1_m: 0.9793\n",
            "Epoch 10/50\n",
            "45000/45000 [==============================] - 7s 150us/step - loss: 0.1439 - acc: 0.9567 - f1_m: 0.9563 - val_loss: 0.0607 - val_acc: 0.9809 - val_f1_m: 0.9813\n",
            "Epoch 11/50\n",
            "45000/45000 [==============================] - 7s 150us/step - loss: 0.1419 - acc: 0.9563 - f1_m: 0.9571 - val_loss: 0.0622 - val_acc: 0.9797 - val_f1_m: 0.9801\n",
            "Epoch 12/50\n",
            "45000/45000 [==============================] - 7s 148us/step - loss: 0.1391 - acc: 0.9573 - f1_m: 0.9577 - val_loss: 0.0575 - val_acc: 0.9815 - val_f1_m: 0.9824\n",
            "Epoch 13/50\n",
            "45000/45000 [==============================] - 7s 150us/step - loss: 0.1329 - acc: 0.9587 - f1_m: 0.9592 - val_loss: 0.0551 - val_acc: 0.9842 - val_f1_m: 0.9839\n",
            "Epoch 14/50\n",
            "45000/45000 [==============================] - 7s 147us/step - loss: 0.1301 - acc: 0.9599 - f1_m: 0.9605 - val_loss: 0.0544 - val_acc: 0.9833 - val_f1_m: 0.9834\n",
            "Epoch 15/50\n",
            "45000/45000 [==============================] - 7s 151us/step - loss: 0.1221 - acc: 0.9630 - f1_m: 0.9627 - val_loss: 0.0559 - val_acc: 0.9835 - val_f1_m: 0.9838\n",
            "Epoch 16/50\n",
            "45000/45000 [==============================] - 7s 147us/step - loss: 0.1228 - acc: 0.9628 - f1_m: 0.9630 - val_loss: 0.0548 - val_acc: 0.9828 - val_f1_m: 0.9830\n",
            "Epoch 17/50\n",
            "45000/45000 [==============================] - 7s 149us/step - loss: 0.1206 - acc: 0.9626 - f1_m: 0.9633 - val_loss: 0.0549 - val_acc: 0.9841 - val_f1_m: 0.9841\n",
            "Epoch 18/50\n",
            "45000/45000 [==============================] - 7s 149us/step - loss: 0.1174 - acc: 0.9639 - f1_m: 0.9643 - val_loss: 0.0526 - val_acc: 0.9843 - val_f1_m: 0.9843\n",
            "Epoch 19/50\n",
            "45000/45000 [==============================] - 7s 149us/step - loss: 0.1147 - acc: 0.9640 - f1_m: 0.9643 - val_loss: 0.0513 - val_acc: 0.9852 - val_f1_m: 0.9849\n",
            "Epoch 20/50\n",
            "45000/45000 [==============================] - 7s 149us/step - loss: 0.1097 - acc: 0.9670 - f1_m: 0.9668 - val_loss: 0.0514 - val_acc: 0.9852 - val_f1_m: 0.9852\n",
            "Epoch 21/50\n",
            "45000/45000 [==============================] - 7s 147us/step - loss: 0.1072 - acc: 0.9673 - f1_m: 0.9675 - val_loss: 0.0512 - val_acc: 0.9847 - val_f1_m: 0.9846\n",
            "Epoch 22/50\n",
            "45000/45000 [==============================] - 7s 148us/step - loss: 0.1053 - acc: 0.9684 - f1_m: 0.9682 - val_loss: 0.0493 - val_acc: 0.9853 - val_f1_m: 0.9855\n",
            "Epoch 23/50\n",
            "45000/45000 [==============================] - 7s 152us/step - loss: 0.1089 - acc: 0.9671 - f1_m: 0.9677 - val_loss: 0.0494 - val_acc: 0.9854 - val_f1_m: 0.9855\n",
            "Epoch 24/50\n",
            "45000/45000 [==============================] - 7s 151us/step - loss: 0.1015 - acc: 0.9681 - f1_m: 0.9686 - val_loss: 0.0497 - val_acc: 0.9853 - val_f1_m: 0.9855\n",
            "Epoch 25/50\n",
            "45000/45000 [==============================] - 7s 150us/step - loss: 0.1030 - acc: 0.9694 - f1_m: 0.9695 - val_loss: 0.0499 - val_acc: 0.9859 - val_f1_m: 0.9861\n",
            "Epoch 26/50\n",
            "45000/45000 [==============================] - 7s 152us/step - loss: 0.1028 - acc: 0.9691 - f1_m: 0.9696 - val_loss: 0.0512 - val_acc: 0.9851 - val_f1_m: 0.9851\n",
            "Epoch 27/50\n",
            "45000/45000 [==============================] - 7s 149us/step - loss: 0.1006 - acc: 0.9694 - f1_m: 0.9698 - val_loss: 0.0542 - val_acc: 0.9847 - val_f1_m: 0.9848\n",
            "Epoch 28/50\n",
            "45000/45000 [==============================] - 7s 151us/step - loss: 0.0988 - acc: 0.9693 - f1_m: 0.9696 - val_loss: 0.0478 - val_acc: 0.9859 - val_f1_m: 0.9858\n",
            "Epoch 29/50\n",
            "45000/45000 [==============================] - 7s 148us/step - loss: 0.0945 - acc: 0.9716 - f1_m: 0.9719 - val_loss: 0.0530 - val_acc: 0.9852 - val_f1_m: 0.9852\n",
            "Epoch 30/50\n",
            "45000/45000 [==============================] - 7s 148us/step - loss: 0.0932 - acc: 0.9713 - f1_m: 0.9717 - val_loss: 0.0518 - val_acc: 0.9859 - val_f1_m: 0.9859\n",
            "Epoch 31/50\n",
            "45000/45000 [==============================] - 7s 149us/step - loss: 0.0919 - acc: 0.9719 - f1_m: 0.9721 - val_loss: 0.0477 - val_acc: 0.9871 - val_f1_m: 0.9870\n",
            "Epoch 32/50\n",
            "45000/45000 [==============================] - 7s 149us/step - loss: 0.0907 - acc: 0.9718 - f1_m: 0.9721 - val_loss: 0.0489 - val_acc: 0.9861 - val_f1_m: 0.9860\n",
            "Epoch 33/50\n",
            "45000/45000 [==============================] - 7s 150us/step - loss: 0.0919 - acc: 0.9717 - f1_m: 0.9720 - val_loss: 0.0464 - val_acc: 0.9866 - val_f1_m: 0.9867\n",
            "Epoch 34/50\n",
            "45000/45000 [==============================] - 7s 149us/step - loss: 0.0942 - acc: 0.9713 - f1_m: 0.9714 - val_loss: 0.0473 - val_acc: 0.9855 - val_f1_m: 0.9858\n",
            "Epoch 35/50\n",
            "45000/45000 [==============================] - 7s 149us/step - loss: 0.0906 - acc: 0.9718 - f1_m: 0.9724 - val_loss: 0.0480 - val_acc: 0.9861 - val_f1_m: 0.9863\n",
            "Epoch 36/50\n",
            "45000/45000 [==============================] - 7s 148us/step - loss: 0.0892 - acc: 0.9725 - f1_m: 0.9733 - val_loss: 0.0453 - val_acc: 0.9869 - val_f1_m: 0.9873\n",
            "Epoch 37/50\n",
            "45000/45000 [==============================] - 7s 150us/step - loss: 0.0901 - acc: 0.9725 - f1_m: 0.9726 - val_loss: 0.0481 - val_acc: 0.9871 - val_f1_m: 0.9873\n",
            "Epoch 38/50\n",
            "45000/45000 [==============================] - 7s 151us/step - loss: 0.0880 - acc: 0.9730 - f1_m: 0.9731 - val_loss: 0.0506 - val_acc: 0.9852 - val_f1_m: 0.9854\n",
            "Epoch 39/50\n",
            "45000/45000 [==============================] - 7s 150us/step - loss: 0.0889 - acc: 0.9724 - f1_m: 0.9730 - val_loss: 0.0456 - val_acc: 0.9873 - val_f1_m: 0.9875\n",
            "Epoch 40/50\n",
            "45000/45000 [==============================] - 7s 149us/step - loss: 0.0845 - acc: 0.9728 - f1_m: 0.9732 - val_loss: 0.0462 - val_acc: 0.9864 - val_f1_m: 0.9868\n",
            "Epoch 41/50\n",
            "45000/45000 [==============================] - 7s 150us/step - loss: 0.0914 - acc: 0.9729 - f1_m: 0.9730 - val_loss: 0.0465 - val_acc: 0.9863 - val_f1_m: 0.9865\n",
            "Epoch 42/50\n",
            "45000/45000 [==============================] - 7s 148us/step - loss: 0.0819 - acc: 0.9746 - f1_m: 0.9745 - val_loss: 0.0516 - val_acc: 0.9858 - val_f1_m: 0.9857\n",
            "Epoch 43/50\n",
            "45000/45000 [==============================] - 7s 148us/step - loss: 0.0861 - acc: 0.9731 - f1_m: 0.9735 - val_loss: 0.0453 - val_acc: 0.9871 - val_f1_m: 0.9876\n",
            "Epoch 44/50\n",
            "45000/45000 [==============================] - 7s 148us/step - loss: 0.0847 - acc: 0.9741 - f1_m: 0.9746 - val_loss: 0.0454 - val_acc: 0.9883 - val_f1_m: 0.9883\n",
            "Epoch 45/50\n",
            "45000/45000 [==============================] - 7s 147us/step - loss: 0.0848 - acc: 0.9743 - f1_m: 0.9744 - val_loss: 0.0475 - val_acc: 0.9865 - val_f1_m: 0.9865\n",
            "Epoch 46/50\n",
            "45000/45000 [==============================] - 7s 153us/step - loss: 0.0828 - acc: 0.9746 - f1_m: 0.9745 - val_loss: 0.0441 - val_acc: 0.9865 - val_f1_m: 0.9870\n",
            "Epoch 47/50\n",
            "45000/45000 [==============================] - 7s 149us/step - loss: 0.0800 - acc: 0.9749 - f1_m: 0.9754 - val_loss: 0.0501 - val_acc: 0.9865 - val_f1_m: 0.9866\n",
            "Epoch 48/50\n",
            "45000/45000 [==============================] - 7s 148us/step - loss: 0.0816 - acc: 0.9752 - f1_m: 0.9753 - val_loss: 0.0472 - val_acc: 0.9861 - val_f1_m: 0.9865\n",
            "Epoch 49/50\n",
            "45000/45000 [==============================] - 7s 149us/step - loss: 0.0781 - acc: 0.9757 - f1_m: 0.9757 - val_loss: 0.0430 - val_acc: 0.9873 - val_f1_m: 0.9877\n",
            "Epoch 50/50\n",
            "45000/45000 [==============================] - 7s 150us/step - loss: 0.0795 - acc: 0.9756 - f1_m: 0.9762 - val_loss: 0.0468 - val_acc: 0.9863 - val_f1_m: 0.9866\n"
          ],
          "name": "stdout"
        }
      ]
    },
    {
      "cell_type": "code",
      "metadata": {
        "id": "9PxnXTMD89Ud",
        "colab_type": "code",
        "outputId": "6fcfc261-d41d-407b-b1ac-284d7d046a5d",
        "colab": {
          "base_uri": "https://localhost:8080/",
          "height": 812
        }
      },
      "source": [
        "x_plot = list(range(1,history.epoch[-1]+2))\n",
        "\n",
        "def plot_history(network_history):\n",
        "    plt.figure()\n",
        "    plt.xlabel('Epochs')\n",
        "    plt.ylabel('Loss')\n",
        "    plt.plot(x_plot, network_history.history['loss'])\n",
        "    plt.plot(x_plot, network_history.history['val_loss'])\n",
        "    plt.legend(['Training', 'Validation'])\n",
        "    \n",
        "    plt.figure()\n",
        "    plt.xlabel('Epochs')\n",
        "    plt.ylabel('Accuracy')\n",
        "    plt.plot(x_plot, network_history.history['acc'])\n",
        "    plt.plot(x_plot, network_history.history['val_acc'])\n",
        "    plt.legend(['Training', 'Validation'])\n",
        "\n",
        "    plt.figure()\n",
        "    plt.xlabel('Epochs')\n",
        "    plt.ylabel('F1')\n",
        "    plt.plot(x_plot, network_history.history['f1_m'])\n",
        "    plt.plot(x_plot, network_history.history['val_f1_m'])\n",
        "    plt.legend(['Training', 'Validation'], loc='lower right')\n",
        "    plt.show()\n",
        "    \n",
        "plot_history(history)"
      ],
      "execution_count": 133,
      "outputs": [
        {
          "output_type": "display_data",
          "data": {
            "image/png": "[encoded data removed]",
            "text/plain": [
              "<Figure size 432x288 with 1 Axes>"
            ]
          },
          "metadata": {
            "tags": []
          }
        },
        {
          "output_type": "display_data",
          "data": {
            "image/png": "[encoded data removed]",
            "text/plain": [
              "<Figure size 432x288 with 1 Axes>"
            ]
          },
          "metadata": {
            "tags": []
          }
        },
        {
          "output_type": "display_data",
          "data": {
            "image/png": "[encoded data removed]",
            "text/plain": [
              "<Figure size 432x288 with 1 Axes>"
            ]
          },
          "metadata": {
            "tags": []
          }
        }
      ]
    },
    {
      "cell_type": "code",
      "metadata": {
        "id": "u19i0ZJX9AB1",
        "colab_type": "code",
        "colab": {}
      },
      "source": [
        "previsioni = model3.predict(x_test)\n",
        "previsioni = previsioni.argmax(axis = 1)\n",
        "previsioni = to_categorical(previsioni)"
      ],
      "execution_count": 0,
      "outputs": []
    },
    {
      "cell_type": "code",
      "metadata": {
        "id": "TrWhsF3q9BrQ",
        "colab_type": "code",
        "outputId": "0806d99a-6a39-4a9e-c2cb-12b2f65e846f",
        "colab": {
          "base_uri": "https://localhost:8080/",
          "height": 452
        }
      },
      "source": [
        "report = classification_report(previsioni, y_test)\n",
        "print(report)\n",
        "trainloss, trainacc, trainf1 = model3.evaluate(x_train, y_train)\n",
        "print(\"Train Loss: \" + str(trainloss))\n",
        "print(\"Train Accuracy: \" + str(trainacc))\n",
        "print(\"Train F1: \" + str(trainf1))\n",
        "testloss, testacc, testf1 = model3.evaluate(x_test, y_test)\n",
        "print(\"Test Loss: \" + str(testloss))\n",
        "print(\"Test Accuracy: \" + str(testacc))\n",
        "print(\"Test F1: \" + str(testf1))"
      ],
      "execution_count": 135,
      "outputs": [
        {
          "output_type": "stream",
          "text": [
            "              precision    recall  f1-score   support\n",
            "\n",
            "           0       0.99      0.99      0.99       985\n",
            "           1       0.99      0.99      0.99      1129\n",
            "           2       0.99      0.98      0.99      1042\n",
            "           3       1.00      0.99      0.99      1019\n",
            "           4       0.98      0.99      0.99       971\n",
            "           5       0.98      0.98      0.98       893\n",
            "           6       0.99      0.99      0.99       957\n",
            "           7       0.99      0.99      0.99      1029\n",
            "           8       0.98      0.99      0.99       966\n",
            "           9       0.98      0.98      0.98      1009\n",
            "\n",
            "   micro avg       0.99      0.99      0.99     10000\n",
            "   macro avg       0.99      0.99      0.99     10000\n",
            "weighted avg       0.99      0.99      0.99     10000\n",
            " samples avg       0.99      0.99      0.99     10000\n",
            "\n",
            "60000/60000 [==============================] - 6s 97us/step\n",
            "Train Loss: 0.0261484071215149\n",
            "Train Accuracy: 0.99225\n",
            "Train F1: 0.9922785230636597\n",
            "10000/10000 [==============================] - 1s 97us/step\n",
            "Test Loss: 0.03856631242694566\n",
            "Test Accuracy: 0.988\n",
            "Test F1: 0.9882063306808472\n"
          ],
          "name": "stdout"
        }
      ]
    }
  ]
}