{
  "nbformat": 4,
  "nbformat_minor": 0,
  "metadata": {
    "colab": {
      "name": "Paolo_Mariani_800307_Assignment2.ipynb",
      "provenance": [],
      "collapsed_sections": []
    },
    "kernelspec": {
      "name": "python3",
      "display_name": "Python 3"
    },
    "accelerator": "GPU"
  },
  "cells": [
    {
      "cell_type": "markdown",
      "metadata": {
        "id": "0d_8wd_tTe1E",
        "colab_type": "text"
      },
      "source": [
        "## Import delle librerie e dati da Drive"
      ]
    },
    {
      "cell_type": "code",
      "metadata": {
        "id": "RgwLDkuwMfao",
        "colab_type": "code",
        "colab": {
          "base_uri": "https://localhost:8080/",
          "height": 33
        },
        "outputId": "138c8ac9-60e5-4ccf-df0a-ddf6f2f531b1"
      },
      "source": [
        "import numpy as np\n",
        "import pandas as pd\n",
        "import matplotlib.pyplot as plt\n",
        "from keras.layers import Input, Dense, Dropout\n",
        "from keras.models import Model\n",
        "from keras.layers.advanced_activations import LeakyReLU, PReLU\n",
        "from keras import callbacks\n",
        "import numpy as np\n",
        "from keras.utils import to_categorical\n",
        "from sklearn.metrics import classification_report\n",
        "\n",
        "%matplotlib inline"
      ],
      "execution_count": 1,
      "outputs": [
        {
          "output_type": "stream",
          "text": [
            "Using TensorFlow backend.\n"
          ],
          "name": "stderr"
        }
      ]
    },
    {
      "cell_type": "code",
      "metadata": {
        "id": "LDIIif8kM2DM",
        "colab_type": "code",
        "outputId": "9d9f45e2-c9c4-4bab-de57-57f3aee2ef50",
        "colab": {
          "base_uri": "https://localhost:8080/",
          "height": 120
        }
      },
      "source": [
        "from google.colab import drive\n",
        "drive.mount('/content/drive')"
      ],
      "execution_count": 2,
      "outputs": [
        {
          "output_type": "stream",
          "text": [
            "Go to this URL in a browser: https://accounts.google.com/o/oauth2/auth?client_id=947318989803-6bn6qk8qdgf4n4g3pfee6491hc0brc4i.apps.googleusercontent.com&redirect_uri=urn%3Aietf%3Awg%3Aoauth%3A2.0%3Aoob&scope=email%20https%3A%2F%2Fwww.googleapis.com%2Fauth%2Fdocs.test%20https%3A%2F%2Fwww.googleapis.com%2Fauth%2Fdrive%20https%3A%2F%2Fwww.googleapis.com%2Fauth%2Fdrive.photos.readonly%20https%3A%2F%2Fwww.googleapis.com%2Fauth%2Fpeopleapi.readonly&response_type=code\n",
            "\n",
            "Enter your authorization code:\n",
            "··········\n",
            "Mounted at /content/drive\n"
          ],
          "name": "stdout"
        }
      ]
    },
    {
      "cell_type": "code",
      "metadata": {
        "id": "T2KZW1s7MprO",
        "colab_type": "code",
        "colab": {}
      },
      "source": [
        "import pickle \n",
        "x_train = pickle.load(open(\"/content/drive/My Drive/Colab Notebooks/Assignment 2/Dati/x_train.obj\",\"rb\"))\n",
        "x_test = pickle.load(open(\"/content/drive/My Drive/Colab Notebooks/Assignment 2/Dati/x_test.obj\",\"rb\"))\n",
        "y_train = pickle.load(open(\"/content/drive/My Drive/Colab Notebooks/Assignment 2/Dati/y_train.obj\",\"rb\"))"
      ],
      "execution_count": 0,
      "outputs": []
    },
    {
      "cell_type": "markdown",
      "metadata": {
        "id": "0__otD1qmREH",
        "colab_type": "text"
      },
      "source": [
        "Visualizzazione immagini del Dataset"
      ]
    },
    {
      "cell_type": "code",
      "metadata": {
        "id": "n39ZAc7DmRp7",
        "colab_type": "code",
        "outputId": "59d9dadb-a399-4794-eafc-2a9a01bcda21",
        "colab": {
          "base_uri": "https://localhost:8080/",
          "height": 133
        }
      },
      "source": [
        "n = 5\n",
        "plt.figure(figsize=(20, 4))\n",
        "for i in range(n):\n",
        "    # original\n",
        "    ax = plt.subplot(2, n, i + 1)\n",
        "    plt.imshow(x_train[i].reshape(28, 28))\n",
        "    plt.gray()\n",
        "    ax.get_xaxis().set_visible(False)\n",
        "    ax.get_yaxis().set_visible(False)\n",
        "plt.show()"
      ],
      "execution_count": 4,
      "outputs": [
        {
          "output_type": "display_data",
          "data": {
            "image/png": "[encoded data removed]",
            "text/plain": [
              "<Figure size 1440x288 with 5 Axes>"
            ]
          },
          "metadata": {
            "tags": []
          }
        }
      ]
    },
    {
      "cell_type": "markdown",
      "metadata": {
        "id": "4zn_JM4QUJsB",
        "colab_type": "text"
      },
      "source": [
        "## Preprocessing"
      ]
    },
    {
      "cell_type": "code",
      "metadata": {
        "id": "dcFnmM4XXRzF",
        "colab_type": "code",
        "colab": {}
      },
      "source": [
        "x_train = x_train/255\n",
        "x_test = x_test/255\n",
        "x_train = x_train.reshape((len(x_train), np.prod(x_train.shape[1:])))\n",
        "x_test= x_test.reshape((len(x_test), np.prod(x_test.shape[1:])))"
      ],
      "execution_count": 0,
      "outputs": []
    },
    {
      "cell_type": "markdown",
      "metadata": {
        "id": "ovrAJydpTyN2",
        "colab_type": "text"
      },
      "source": [
        "## Split dei dati di x_train in Train e Test (80-20)"
      ]
    },
    {
      "cell_type": "code",
      "metadata": {
        "id": "fxIipuXvXA6P",
        "colab_type": "code",
        "outputId": "3fc14a75-9d16-482f-99f0-8ebd4e7e4704",
        "colab": {
          "base_uri": "https://localhost:8080/",
          "height": 33
        }
      },
      "source": [
        "x_train.shape"
      ],
      "execution_count": 6,
      "outputs": [
        {
          "output_type": "execute_result",
          "data": {
            "text/plain": [
              "(14000, 784)"
            ]
          },
          "metadata": {
            "tags": []
          },
          "execution_count": 6
        }
      ]
    },
    {
      "cell_type": "code",
      "metadata": {
        "id": "54KegUe0T9fP",
        "colab_type": "code",
        "outputId": "6a41fb69-3214-4848-a4d7-528d1354e8d1",
        "colab": {
          "base_uri": "https://localhost:8080/",
          "height": 245
        }
      },
      "source": [
        "dati = pd.DataFrame(data = x_train)\n",
        "dati.head()"
      ],
      "execution_count": 7,
      "outputs": [
        {
          "output_type": "execute_result",
          "data": {
            "text/html": [
              "<div>\n",
              "<style scoped>\n",
              "    .dataframe tbody tr th:only-of-type {\n",
              "        vertical-align: middle;\n",
              "    }\n",
              "\n",
              "    .dataframe tbody tr th {\n",
              "        vertical-align: top;\n",
              "    }\n",
              "\n",
              "    .dataframe thead th {\n",
              "        text-align: right;\n",
              "    }\n",
              "</style>\n",
              "<table border=\"1\" class=\"dataframe\">\n",
              "  <thead>\n",
              "    <tr style=\"text-align: right;\">\n",
              "      <th></th>\n",
              "      <th>0</th>\n",
              "      <th>1</th>\n",
              "      <th>2</th>\n",
              "      <th>3</th>\n",
              "      <th>4</th>\n",
              "      <th>5</th>\n",
              "      <th>6</th>\n",
              "      <th>7</th>\n",
              "      <th>8</th>\n",
              "      <th>9</th>\n",
              "      <th>10</th>\n",
              "      <th>11</th>\n",
              "      <th>12</th>\n",
              "      <th>13</th>\n",
              "      <th>14</th>\n",
              "      <th>15</th>\n",
              "      <th>16</th>\n",
              "      <th>17</th>\n",
              "      <th>18</th>\n",
              "      <th>19</th>\n",
              "      <th>20</th>\n",
              "      <th>21</th>\n",
              "      <th>22</th>\n",
              "      <th>23</th>\n",
              "      <th>24</th>\n",
              "      <th>25</th>\n",
              "      <th>26</th>\n",
              "      <th>27</th>\n",
              "      <th>28</th>\n",
              "      <th>29</th>\n",
              "      <th>30</th>\n",
              "      <th>31</th>\n",
              "      <th>32</th>\n",
              "      <th>33</th>\n",
              "      <th>34</th>\n",
              "      <th>35</th>\n",
              "      <th>36</th>\n",
              "      <th>37</th>\n",
              "      <th>38</th>\n",
              "      <th>39</th>\n",
              "      <th>...</th>\n",
              "      <th>744</th>\n",
              "      <th>745</th>\n",
              "      <th>746</th>\n",
              "      <th>747</th>\n",
              "      <th>748</th>\n",
              "      <th>749</th>\n",
              "      <th>750</th>\n",
              "      <th>751</th>\n",
              "      <th>752</th>\n",
              "      <th>753</th>\n",
              "      <th>754</th>\n",
              "      <th>755</th>\n",
              "      <th>756</th>\n",
              "      <th>757</th>\n",
              "      <th>758</th>\n",
              "      <th>759</th>\n",
              "      <th>760</th>\n",
              "      <th>761</th>\n",
              "      <th>762</th>\n",
              "      <th>763</th>\n",
              "      <th>764</th>\n",
              "      <th>765</th>\n",
              "      <th>766</th>\n",
              "      <th>767</th>\n",
              "      <th>768</th>\n",
              "      <th>769</th>\n",
              "      <th>770</th>\n",
              "      <th>771</th>\n",
              "      <th>772</th>\n",
              "      <th>773</th>\n",
              "      <th>774</th>\n",
              "      <th>775</th>\n",
              "      <th>776</th>\n",
              "      <th>777</th>\n",
              "      <th>778</th>\n",
              "      <th>779</th>\n",
              "      <th>780</th>\n",
              "      <th>781</th>\n",
              "      <th>782</th>\n",
              "      <th>783</th>\n",
              "    </tr>\n",
              "  </thead>\n",
              "  <tbody>\n",
              "    <tr>\n",
              "      <th>0</th>\n",
              "      <td>0.0</td>\n",
              "      <td>0.0</td>\n",
              "      <td>0.0</td>\n",
              "      <td>0.0</td>\n",
              "      <td>0.0</td>\n",
              "      <td>0.0</td>\n",
              "      <td>0.0</td>\n",
              "      <td>0.0</td>\n",
              "      <td>0.0</td>\n",
              "      <td>0.0</td>\n",
              "      <td>0.0</td>\n",
              "      <td>0.0</td>\n",
              "      <td>0.0</td>\n",
              "      <td>0.0</td>\n",
              "      <td>0.0</td>\n",
              "      <td>0.0</td>\n",
              "      <td>0.0</td>\n",
              "      <td>0.0</td>\n",
              "      <td>0.0</td>\n",
              "      <td>0.0</td>\n",
              "      <td>0.0</td>\n",
              "      <td>0.0</td>\n",
              "      <td>0.0</td>\n",
              "      <td>0.0</td>\n",
              "      <td>0.0</td>\n",
              "      <td>0.0</td>\n",
              "      <td>0.0</td>\n",
              "      <td>0.0</td>\n",
              "      <td>0.0</td>\n",
              "      <td>0.0</td>\n",
              "      <td>0.0</td>\n",
              "      <td>0.0</td>\n",
              "      <td>0.0</td>\n",
              "      <td>0.0</td>\n",
              "      <td>0.0</td>\n",
              "      <td>0.0</td>\n",
              "      <td>0.0</td>\n",
              "      <td>0.0</td>\n",
              "      <td>0.0</td>\n",
              "      <td>0.0</td>\n",
              "      <td>...</td>\n",
              "      <td>0.0</td>\n",
              "      <td>0.0</td>\n",
              "      <td>0.0</td>\n",
              "      <td>0.0</td>\n",
              "      <td>0.0</td>\n",
              "      <td>0.0</td>\n",
              "      <td>0.0</td>\n",
              "      <td>0.0</td>\n",
              "      <td>0.0</td>\n",
              "      <td>0.0</td>\n",
              "      <td>0.0</td>\n",
              "      <td>0.0</td>\n",
              "      <td>0.0</td>\n",
              "      <td>0.0</td>\n",
              "      <td>0.0</td>\n",
              "      <td>0.0</td>\n",
              "      <td>0.0</td>\n",
              "      <td>0.0</td>\n",
              "      <td>0.0</td>\n",
              "      <td>0.0</td>\n",
              "      <td>0.0</td>\n",
              "      <td>0.0</td>\n",
              "      <td>0.0</td>\n",
              "      <td>0.0</td>\n",
              "      <td>0.0</td>\n",
              "      <td>0.0</td>\n",
              "      <td>0.0</td>\n",
              "      <td>0.0</td>\n",
              "      <td>0.0</td>\n",
              "      <td>0.0</td>\n",
              "      <td>0.0</td>\n",
              "      <td>0.0</td>\n",
              "      <td>0.0</td>\n",
              "      <td>0.0</td>\n",
              "      <td>0.0</td>\n",
              "      <td>0.0</td>\n",
              "      <td>0.0</td>\n",
              "      <td>0.0</td>\n",
              "      <td>0.0</td>\n",
              "      <td>0.0</td>\n",
              "    </tr>\n",
              "    <tr>\n",
              "      <th>1</th>\n",
              "      <td>0.0</td>\n",
              "      <td>0.0</td>\n",
              "      <td>0.0</td>\n",
              "      <td>0.0</td>\n",
              "      <td>0.0</td>\n",
              "      <td>0.0</td>\n",
              "      <td>0.0</td>\n",
              "      <td>0.0</td>\n",
              "      <td>0.0</td>\n",
              "      <td>0.0</td>\n",
              "      <td>0.0</td>\n",
              "      <td>0.0</td>\n",
              "      <td>0.0</td>\n",
              "      <td>0.0</td>\n",
              "      <td>0.0</td>\n",
              "      <td>0.0</td>\n",
              "      <td>0.0</td>\n",
              "      <td>0.0</td>\n",
              "      <td>0.0</td>\n",
              "      <td>0.0</td>\n",
              "      <td>0.0</td>\n",
              "      <td>0.0</td>\n",
              "      <td>0.0</td>\n",
              "      <td>0.0</td>\n",
              "      <td>0.0</td>\n",
              "      <td>0.0</td>\n",
              "      <td>0.0</td>\n",
              "      <td>0.0</td>\n",
              "      <td>0.0</td>\n",
              "      <td>0.0</td>\n",
              "      <td>0.0</td>\n",
              "      <td>0.0</td>\n",
              "      <td>0.0</td>\n",
              "      <td>0.0</td>\n",
              "      <td>0.0</td>\n",
              "      <td>0.0</td>\n",
              "      <td>0.0</td>\n",
              "      <td>0.0</td>\n",
              "      <td>0.0</td>\n",
              "      <td>0.0</td>\n",
              "      <td>...</td>\n",
              "      <td>0.0</td>\n",
              "      <td>0.0</td>\n",
              "      <td>0.0</td>\n",
              "      <td>0.0</td>\n",
              "      <td>0.0</td>\n",
              "      <td>0.0</td>\n",
              "      <td>0.0</td>\n",
              "      <td>0.0</td>\n",
              "      <td>0.0</td>\n",
              "      <td>0.0</td>\n",
              "      <td>0.0</td>\n",
              "      <td>0.0</td>\n",
              "      <td>0.0</td>\n",
              "      <td>0.0</td>\n",
              "      <td>0.0</td>\n",
              "      <td>0.0</td>\n",
              "      <td>0.0</td>\n",
              "      <td>0.0</td>\n",
              "      <td>0.0</td>\n",
              "      <td>0.0</td>\n",
              "      <td>0.0</td>\n",
              "      <td>0.0</td>\n",
              "      <td>0.0</td>\n",
              "      <td>0.0</td>\n",
              "      <td>0.0</td>\n",
              "      <td>0.0</td>\n",
              "      <td>0.0</td>\n",
              "      <td>0.0</td>\n",
              "      <td>0.0</td>\n",
              "      <td>0.0</td>\n",
              "      <td>0.0</td>\n",
              "      <td>0.0</td>\n",
              "      <td>0.0</td>\n",
              "      <td>0.0</td>\n",
              "      <td>0.0</td>\n",
              "      <td>0.0</td>\n",
              "      <td>0.0</td>\n",
              "      <td>0.0</td>\n",
              "      <td>0.0</td>\n",
              "      <td>0.0</td>\n",
              "    </tr>\n",
              "    <tr>\n",
              "      <th>2</th>\n",
              "      <td>0.0</td>\n",
              "      <td>0.0</td>\n",
              "      <td>0.0</td>\n",
              "      <td>0.0</td>\n",
              "      <td>0.0</td>\n",
              "      <td>0.0</td>\n",
              "      <td>0.0</td>\n",
              "      <td>0.0</td>\n",
              "      <td>0.0</td>\n",
              "      <td>0.0</td>\n",
              "      <td>0.0</td>\n",
              "      <td>0.0</td>\n",
              "      <td>0.0</td>\n",
              "      <td>0.0</td>\n",
              "      <td>0.0</td>\n",
              "      <td>0.0</td>\n",
              "      <td>0.0</td>\n",
              "      <td>0.0</td>\n",
              "      <td>0.0</td>\n",
              "      <td>0.0</td>\n",
              "      <td>0.0</td>\n",
              "      <td>0.0</td>\n",
              "      <td>0.0</td>\n",
              "      <td>0.0</td>\n",
              "      <td>0.0</td>\n",
              "      <td>0.0</td>\n",
              "      <td>0.0</td>\n",
              "      <td>0.0</td>\n",
              "      <td>0.0</td>\n",
              "      <td>0.0</td>\n",
              "      <td>0.0</td>\n",
              "      <td>0.0</td>\n",
              "      <td>0.0</td>\n",
              "      <td>0.0</td>\n",
              "      <td>0.0</td>\n",
              "      <td>0.0</td>\n",
              "      <td>0.0</td>\n",
              "      <td>0.0</td>\n",
              "      <td>0.0</td>\n",
              "      <td>0.0</td>\n",
              "      <td>...</td>\n",
              "      <td>0.0</td>\n",
              "      <td>0.0</td>\n",
              "      <td>0.0</td>\n",
              "      <td>0.0</td>\n",
              "      <td>0.0</td>\n",
              "      <td>0.0</td>\n",
              "      <td>0.0</td>\n",
              "      <td>0.0</td>\n",
              "      <td>0.0</td>\n",
              "      <td>0.0</td>\n",
              "      <td>0.0</td>\n",
              "      <td>0.0</td>\n",
              "      <td>0.0</td>\n",
              "      <td>0.0</td>\n",
              "      <td>0.0</td>\n",
              "      <td>0.0</td>\n",
              "      <td>0.0</td>\n",
              "      <td>0.0</td>\n",
              "      <td>0.0</td>\n",
              "      <td>0.0</td>\n",
              "      <td>0.0</td>\n",
              "      <td>0.0</td>\n",
              "      <td>0.0</td>\n",
              "      <td>0.0</td>\n",
              "      <td>0.0</td>\n",
              "      <td>0.0</td>\n",
              "      <td>0.0</td>\n",
              "      <td>0.0</td>\n",
              "      <td>0.0</td>\n",
              "      <td>0.0</td>\n",
              "      <td>0.0</td>\n",
              "      <td>0.0</td>\n",
              "      <td>0.0</td>\n",
              "      <td>0.0</td>\n",
              "      <td>0.0</td>\n",
              "      <td>0.0</td>\n",
              "      <td>0.0</td>\n",
              "      <td>0.0</td>\n",
              "      <td>0.0</td>\n",
              "      <td>0.0</td>\n",
              "    </tr>\n",
              "    <tr>\n",
              "      <th>3</th>\n",
              "      <td>0.0</td>\n",
              "      <td>0.0</td>\n",
              "      <td>0.0</td>\n",
              "      <td>0.0</td>\n",
              "      <td>0.0</td>\n",
              "      <td>0.0</td>\n",
              "      <td>0.0</td>\n",
              "      <td>0.0</td>\n",
              "      <td>0.0</td>\n",
              "      <td>0.0</td>\n",
              "      <td>0.0</td>\n",
              "      <td>0.0</td>\n",
              "      <td>0.0</td>\n",
              "      <td>0.0</td>\n",
              "      <td>0.0</td>\n",
              "      <td>0.0</td>\n",
              "      <td>0.0</td>\n",
              "      <td>0.0</td>\n",
              "      <td>0.0</td>\n",
              "      <td>0.0</td>\n",
              "      <td>0.0</td>\n",
              "      <td>0.0</td>\n",
              "      <td>0.0</td>\n",
              "      <td>0.0</td>\n",
              "      <td>0.0</td>\n",
              "      <td>0.0</td>\n",
              "      <td>0.0</td>\n",
              "      <td>0.0</td>\n",
              "      <td>0.0</td>\n",
              "      <td>0.0</td>\n",
              "      <td>0.0</td>\n",
              "      <td>0.0</td>\n",
              "      <td>0.0</td>\n",
              "      <td>0.0</td>\n",
              "      <td>0.0</td>\n",
              "      <td>0.0</td>\n",
              "      <td>0.0</td>\n",
              "      <td>0.0</td>\n",
              "      <td>0.0</td>\n",
              "      <td>0.0</td>\n",
              "      <td>...</td>\n",
              "      <td>0.0</td>\n",
              "      <td>0.0</td>\n",
              "      <td>0.0</td>\n",
              "      <td>0.0</td>\n",
              "      <td>0.0</td>\n",
              "      <td>0.0</td>\n",
              "      <td>0.0</td>\n",
              "      <td>0.0</td>\n",
              "      <td>0.0</td>\n",
              "      <td>0.0</td>\n",
              "      <td>0.0</td>\n",
              "      <td>0.0</td>\n",
              "      <td>0.0</td>\n",
              "      <td>0.0</td>\n",
              "      <td>0.0</td>\n",
              "      <td>0.0</td>\n",
              "      <td>0.0</td>\n",
              "      <td>0.0</td>\n",
              "      <td>0.0</td>\n",
              "      <td>0.0</td>\n",
              "      <td>0.0</td>\n",
              "      <td>0.0</td>\n",
              "      <td>0.0</td>\n",
              "      <td>0.0</td>\n",
              "      <td>0.0</td>\n",
              "      <td>0.0</td>\n",
              "      <td>0.0</td>\n",
              "      <td>0.0</td>\n",
              "      <td>0.0</td>\n",
              "      <td>0.0</td>\n",
              "      <td>0.0</td>\n",
              "      <td>0.0</td>\n",
              "      <td>0.0</td>\n",
              "      <td>0.0</td>\n",
              "      <td>0.0</td>\n",
              "      <td>0.0</td>\n",
              "      <td>0.0</td>\n",
              "      <td>0.0</td>\n",
              "      <td>0.0</td>\n",
              "      <td>0.0</td>\n",
              "    </tr>\n",
              "    <tr>\n",
              "      <th>4</th>\n",
              "      <td>0.0</td>\n",
              "      <td>0.0</td>\n",
              "      <td>0.0</td>\n",
              "      <td>0.0</td>\n",
              "      <td>0.0</td>\n",
              "      <td>0.0</td>\n",
              "      <td>0.0</td>\n",
              "      <td>0.0</td>\n",
              "      <td>0.0</td>\n",
              "      <td>0.0</td>\n",
              "      <td>0.0</td>\n",
              "      <td>0.0</td>\n",
              "      <td>0.0</td>\n",
              "      <td>0.0</td>\n",
              "      <td>0.0</td>\n",
              "      <td>0.0</td>\n",
              "      <td>0.0</td>\n",
              "      <td>0.0</td>\n",
              "      <td>0.0</td>\n",
              "      <td>0.0</td>\n",
              "      <td>0.0</td>\n",
              "      <td>0.0</td>\n",
              "      <td>0.0</td>\n",
              "      <td>0.0</td>\n",
              "      <td>0.0</td>\n",
              "      <td>0.0</td>\n",
              "      <td>0.0</td>\n",
              "      <td>0.0</td>\n",
              "      <td>0.0</td>\n",
              "      <td>0.0</td>\n",
              "      <td>0.0</td>\n",
              "      <td>0.0</td>\n",
              "      <td>0.0</td>\n",
              "      <td>0.0</td>\n",
              "      <td>0.0</td>\n",
              "      <td>0.0</td>\n",
              "      <td>0.0</td>\n",
              "      <td>0.0</td>\n",
              "      <td>0.0</td>\n",
              "      <td>0.0</td>\n",
              "      <td>...</td>\n",
              "      <td>0.0</td>\n",
              "      <td>0.0</td>\n",
              "      <td>0.0</td>\n",
              "      <td>0.0</td>\n",
              "      <td>0.0</td>\n",
              "      <td>0.0</td>\n",
              "      <td>0.0</td>\n",
              "      <td>0.0</td>\n",
              "      <td>0.0</td>\n",
              "      <td>0.0</td>\n",
              "      <td>0.0</td>\n",
              "      <td>0.0</td>\n",
              "      <td>0.0</td>\n",
              "      <td>0.0</td>\n",
              "      <td>0.0</td>\n",
              "      <td>0.0</td>\n",
              "      <td>0.0</td>\n",
              "      <td>0.0</td>\n",
              "      <td>0.0</td>\n",
              "      <td>0.0</td>\n",
              "      <td>0.0</td>\n",
              "      <td>0.0</td>\n",
              "      <td>0.0</td>\n",
              "      <td>0.0</td>\n",
              "      <td>0.0</td>\n",
              "      <td>0.0</td>\n",
              "      <td>0.0</td>\n",
              "      <td>0.0</td>\n",
              "      <td>0.0</td>\n",
              "      <td>0.0</td>\n",
              "      <td>0.0</td>\n",
              "      <td>0.0</td>\n",
              "      <td>0.0</td>\n",
              "      <td>0.0</td>\n",
              "      <td>0.0</td>\n",
              "      <td>0.0</td>\n",
              "      <td>0.0</td>\n",
              "      <td>0.0</td>\n",
              "      <td>0.0</td>\n",
              "      <td>0.0</td>\n",
              "    </tr>\n",
              "  </tbody>\n",
              "</table>\n",
              "<p>5 rows × 784 columns</p>\n",
              "</div>"
            ],
            "text/plain": [
              "   0    1    2    3    4    5    6    ...  777  778  779  780  781  782  783\n",
              "0  0.0  0.0  0.0  0.0  0.0  0.0  0.0  ...  0.0  0.0  0.0  0.0  0.0  0.0  0.0\n",
              "1  0.0  0.0  0.0  0.0  0.0  0.0  0.0  ...  0.0  0.0  0.0  0.0  0.0  0.0  0.0\n",
              "2  0.0  0.0  0.0  0.0  0.0  0.0  0.0  ...  0.0  0.0  0.0  0.0  0.0  0.0  0.0\n",
              "3  0.0  0.0  0.0  0.0  0.0  0.0  0.0  ...  0.0  0.0  0.0  0.0  0.0  0.0  0.0\n",
              "4  0.0  0.0  0.0  0.0  0.0  0.0  0.0  ...  0.0  0.0  0.0  0.0  0.0  0.0  0.0\n",
              "\n",
              "[5 rows x 784 columns]"
            ]
          },
          "metadata": {
            "tags": []
          },
          "execution_count": 7
        }
      ]
    },
    {
      "cell_type": "code",
      "metadata": {
        "id": "qqDFiC9lXnvy",
        "colab_type": "code",
        "colab": {}
      },
      "source": [
        "dati[\"y\"] = y_train"
      ],
      "execution_count": 0,
      "outputs": []
    },
    {
      "cell_type": "code",
      "metadata": {
        "id": "Vszn9Vk1YKnP",
        "colab_type": "code",
        "outputId": "6bd66df5-01a6-47a4-b7f3-3a006326cf45",
        "colab": {
          "base_uri": "https://localhost:8080/",
          "height": 245
        }
      },
      "source": [
        "dati.head()"
      ],
      "execution_count": 9,
      "outputs": [
        {
          "output_type": "execute_result",
          "data": {
            "text/html": [
              "<div>\n",
              "<style scoped>\n",
              "    .dataframe tbody tr th:only-of-type {\n",
              "        vertical-align: middle;\n",
              "    }\n",
              "\n",
              "    .dataframe tbody tr th {\n",
              "        vertical-align: top;\n",
              "    }\n",
              "\n",
              "    .dataframe thead th {\n",
              "        text-align: right;\n",
              "    }\n",
              "</style>\n",
              "<table border=\"1\" class=\"dataframe\">\n",
              "  <thead>\n",
              "    <tr style=\"text-align: right;\">\n",
              "      <th></th>\n",
              "      <th>0</th>\n",
              "      <th>1</th>\n",
              "      <th>2</th>\n",
              "      <th>3</th>\n",
              "      <th>4</th>\n",
              "      <th>5</th>\n",
              "      <th>6</th>\n",
              "      <th>7</th>\n",
              "      <th>8</th>\n",
              "      <th>9</th>\n",
              "      <th>10</th>\n",
              "      <th>11</th>\n",
              "      <th>12</th>\n",
              "      <th>13</th>\n",
              "      <th>14</th>\n",
              "      <th>15</th>\n",
              "      <th>16</th>\n",
              "      <th>17</th>\n",
              "      <th>18</th>\n",
              "      <th>19</th>\n",
              "      <th>20</th>\n",
              "      <th>21</th>\n",
              "      <th>22</th>\n",
              "      <th>23</th>\n",
              "      <th>24</th>\n",
              "      <th>25</th>\n",
              "      <th>26</th>\n",
              "      <th>27</th>\n",
              "      <th>28</th>\n",
              "      <th>29</th>\n",
              "      <th>30</th>\n",
              "      <th>31</th>\n",
              "      <th>32</th>\n",
              "      <th>33</th>\n",
              "      <th>34</th>\n",
              "      <th>35</th>\n",
              "      <th>36</th>\n",
              "      <th>37</th>\n",
              "      <th>38</th>\n",
              "      <th>39</th>\n",
              "      <th>...</th>\n",
              "      <th>745</th>\n",
              "      <th>746</th>\n",
              "      <th>747</th>\n",
              "      <th>748</th>\n",
              "      <th>749</th>\n",
              "      <th>750</th>\n",
              "      <th>751</th>\n",
              "      <th>752</th>\n",
              "      <th>753</th>\n",
              "      <th>754</th>\n",
              "      <th>755</th>\n",
              "      <th>756</th>\n",
              "      <th>757</th>\n",
              "      <th>758</th>\n",
              "      <th>759</th>\n",
              "      <th>760</th>\n",
              "      <th>761</th>\n",
              "      <th>762</th>\n",
              "      <th>763</th>\n",
              "      <th>764</th>\n",
              "      <th>765</th>\n",
              "      <th>766</th>\n",
              "      <th>767</th>\n",
              "      <th>768</th>\n",
              "      <th>769</th>\n",
              "      <th>770</th>\n",
              "      <th>771</th>\n",
              "      <th>772</th>\n",
              "      <th>773</th>\n",
              "      <th>774</th>\n",
              "      <th>775</th>\n",
              "      <th>776</th>\n",
              "      <th>777</th>\n",
              "      <th>778</th>\n",
              "      <th>779</th>\n",
              "      <th>780</th>\n",
              "      <th>781</th>\n",
              "      <th>782</th>\n",
              "      <th>783</th>\n",
              "      <th>y</th>\n",
              "    </tr>\n",
              "  </thead>\n",
              "  <tbody>\n",
              "    <tr>\n",
              "      <th>0</th>\n",
              "      <td>0.0</td>\n",
              "      <td>0.0</td>\n",
              "      <td>0.0</td>\n",
              "      <td>0.0</td>\n",
              "      <td>0.0</td>\n",
              "      <td>0.0</td>\n",
              "      <td>0.0</td>\n",
              "      <td>0.0</td>\n",
              "      <td>0.0</td>\n",
              "      <td>0.0</td>\n",
              "      <td>0.0</td>\n",
              "      <td>0.0</td>\n",
              "      <td>0.0</td>\n",
              "      <td>0.0</td>\n",
              "      <td>0.0</td>\n",
              "      <td>0.0</td>\n",
              "      <td>0.0</td>\n",
              "      <td>0.0</td>\n",
              "      <td>0.0</td>\n",
              "      <td>0.0</td>\n",
              "      <td>0.0</td>\n",
              "      <td>0.0</td>\n",
              "      <td>0.0</td>\n",
              "      <td>0.0</td>\n",
              "      <td>0.0</td>\n",
              "      <td>0.0</td>\n",
              "      <td>0.0</td>\n",
              "      <td>0.0</td>\n",
              "      <td>0.0</td>\n",
              "      <td>0.0</td>\n",
              "      <td>0.0</td>\n",
              "      <td>0.0</td>\n",
              "      <td>0.0</td>\n",
              "      <td>0.0</td>\n",
              "      <td>0.0</td>\n",
              "      <td>0.0</td>\n",
              "      <td>0.0</td>\n",
              "      <td>0.0</td>\n",
              "      <td>0.0</td>\n",
              "      <td>0.0</td>\n",
              "      <td>...</td>\n",
              "      <td>0.0</td>\n",
              "      <td>0.0</td>\n",
              "      <td>0.0</td>\n",
              "      <td>0.0</td>\n",
              "      <td>0.0</td>\n",
              "      <td>0.0</td>\n",
              "      <td>0.0</td>\n",
              "      <td>0.0</td>\n",
              "      <td>0.0</td>\n",
              "      <td>0.0</td>\n",
              "      <td>0.0</td>\n",
              "      <td>0.0</td>\n",
              "      <td>0.0</td>\n",
              "      <td>0.0</td>\n",
              "      <td>0.0</td>\n",
              "      <td>0.0</td>\n",
              "      <td>0.0</td>\n",
              "      <td>0.0</td>\n",
              "      <td>0.0</td>\n",
              "      <td>0.0</td>\n",
              "      <td>0.0</td>\n",
              "      <td>0.0</td>\n",
              "      <td>0.0</td>\n",
              "      <td>0.0</td>\n",
              "      <td>0.0</td>\n",
              "      <td>0.0</td>\n",
              "      <td>0.0</td>\n",
              "      <td>0.0</td>\n",
              "      <td>0.0</td>\n",
              "      <td>0.0</td>\n",
              "      <td>0.0</td>\n",
              "      <td>0.0</td>\n",
              "      <td>0.0</td>\n",
              "      <td>0.0</td>\n",
              "      <td>0.0</td>\n",
              "      <td>0.0</td>\n",
              "      <td>0.0</td>\n",
              "      <td>0.0</td>\n",
              "      <td>0.0</td>\n",
              "      <td>18</td>\n",
              "    </tr>\n",
              "    <tr>\n",
              "      <th>1</th>\n",
              "      <td>0.0</td>\n",
              "      <td>0.0</td>\n",
              "      <td>0.0</td>\n",
              "      <td>0.0</td>\n",
              "      <td>0.0</td>\n",
              "      <td>0.0</td>\n",
              "      <td>0.0</td>\n",
              "      <td>0.0</td>\n",
              "      <td>0.0</td>\n",
              "      <td>0.0</td>\n",
              "      <td>0.0</td>\n",
              "      <td>0.0</td>\n",
              "      <td>0.0</td>\n",
              "      <td>0.0</td>\n",
              "      <td>0.0</td>\n",
              "      <td>0.0</td>\n",
              "      <td>0.0</td>\n",
              "      <td>0.0</td>\n",
              "      <td>0.0</td>\n",
              "      <td>0.0</td>\n",
              "      <td>0.0</td>\n",
              "      <td>0.0</td>\n",
              "      <td>0.0</td>\n",
              "      <td>0.0</td>\n",
              "      <td>0.0</td>\n",
              "      <td>0.0</td>\n",
              "      <td>0.0</td>\n",
              "      <td>0.0</td>\n",
              "      <td>0.0</td>\n",
              "      <td>0.0</td>\n",
              "      <td>0.0</td>\n",
              "      <td>0.0</td>\n",
              "      <td>0.0</td>\n",
              "      <td>0.0</td>\n",
              "      <td>0.0</td>\n",
              "      <td>0.0</td>\n",
              "      <td>0.0</td>\n",
              "      <td>0.0</td>\n",
              "      <td>0.0</td>\n",
              "      <td>0.0</td>\n",
              "      <td>...</td>\n",
              "      <td>0.0</td>\n",
              "      <td>0.0</td>\n",
              "      <td>0.0</td>\n",
              "      <td>0.0</td>\n",
              "      <td>0.0</td>\n",
              "      <td>0.0</td>\n",
              "      <td>0.0</td>\n",
              "      <td>0.0</td>\n",
              "      <td>0.0</td>\n",
              "      <td>0.0</td>\n",
              "      <td>0.0</td>\n",
              "      <td>0.0</td>\n",
              "      <td>0.0</td>\n",
              "      <td>0.0</td>\n",
              "      <td>0.0</td>\n",
              "      <td>0.0</td>\n",
              "      <td>0.0</td>\n",
              "      <td>0.0</td>\n",
              "      <td>0.0</td>\n",
              "      <td>0.0</td>\n",
              "      <td>0.0</td>\n",
              "      <td>0.0</td>\n",
              "      <td>0.0</td>\n",
              "      <td>0.0</td>\n",
              "      <td>0.0</td>\n",
              "      <td>0.0</td>\n",
              "      <td>0.0</td>\n",
              "      <td>0.0</td>\n",
              "      <td>0.0</td>\n",
              "      <td>0.0</td>\n",
              "      <td>0.0</td>\n",
              "      <td>0.0</td>\n",
              "      <td>0.0</td>\n",
              "      <td>0.0</td>\n",
              "      <td>0.0</td>\n",
              "      <td>0.0</td>\n",
              "      <td>0.0</td>\n",
              "      <td>0.0</td>\n",
              "      <td>0.0</td>\n",
              "      <td>21</td>\n",
              "    </tr>\n",
              "    <tr>\n",
              "      <th>2</th>\n",
              "      <td>0.0</td>\n",
              "      <td>0.0</td>\n",
              "      <td>0.0</td>\n",
              "      <td>0.0</td>\n",
              "      <td>0.0</td>\n",
              "      <td>0.0</td>\n",
              "      <td>0.0</td>\n",
              "      <td>0.0</td>\n",
              "      <td>0.0</td>\n",
              "      <td>0.0</td>\n",
              "      <td>0.0</td>\n",
              "      <td>0.0</td>\n",
              "      <td>0.0</td>\n",
              "      <td>0.0</td>\n",
              "      <td>0.0</td>\n",
              "      <td>0.0</td>\n",
              "      <td>0.0</td>\n",
              "      <td>0.0</td>\n",
              "      <td>0.0</td>\n",
              "      <td>0.0</td>\n",
              "      <td>0.0</td>\n",
              "      <td>0.0</td>\n",
              "      <td>0.0</td>\n",
              "      <td>0.0</td>\n",
              "      <td>0.0</td>\n",
              "      <td>0.0</td>\n",
              "      <td>0.0</td>\n",
              "      <td>0.0</td>\n",
              "      <td>0.0</td>\n",
              "      <td>0.0</td>\n",
              "      <td>0.0</td>\n",
              "      <td>0.0</td>\n",
              "      <td>0.0</td>\n",
              "      <td>0.0</td>\n",
              "      <td>0.0</td>\n",
              "      <td>0.0</td>\n",
              "      <td>0.0</td>\n",
              "      <td>0.0</td>\n",
              "      <td>0.0</td>\n",
              "      <td>0.0</td>\n",
              "      <td>...</td>\n",
              "      <td>0.0</td>\n",
              "      <td>0.0</td>\n",
              "      <td>0.0</td>\n",
              "      <td>0.0</td>\n",
              "      <td>0.0</td>\n",
              "      <td>0.0</td>\n",
              "      <td>0.0</td>\n",
              "      <td>0.0</td>\n",
              "      <td>0.0</td>\n",
              "      <td>0.0</td>\n",
              "      <td>0.0</td>\n",
              "      <td>0.0</td>\n",
              "      <td>0.0</td>\n",
              "      <td>0.0</td>\n",
              "      <td>0.0</td>\n",
              "      <td>0.0</td>\n",
              "      <td>0.0</td>\n",
              "      <td>0.0</td>\n",
              "      <td>0.0</td>\n",
              "      <td>0.0</td>\n",
              "      <td>0.0</td>\n",
              "      <td>0.0</td>\n",
              "      <td>0.0</td>\n",
              "      <td>0.0</td>\n",
              "      <td>0.0</td>\n",
              "      <td>0.0</td>\n",
              "      <td>0.0</td>\n",
              "      <td>0.0</td>\n",
              "      <td>0.0</td>\n",
              "      <td>0.0</td>\n",
              "      <td>0.0</td>\n",
              "      <td>0.0</td>\n",
              "      <td>0.0</td>\n",
              "      <td>0.0</td>\n",
              "      <td>0.0</td>\n",
              "      <td>0.0</td>\n",
              "      <td>0.0</td>\n",
              "      <td>0.0</td>\n",
              "      <td>0.0</td>\n",
              "      <td>17</td>\n",
              "    </tr>\n",
              "    <tr>\n",
              "      <th>3</th>\n",
              "      <td>0.0</td>\n",
              "      <td>0.0</td>\n",
              "      <td>0.0</td>\n",
              "      <td>0.0</td>\n",
              "      <td>0.0</td>\n",
              "      <td>0.0</td>\n",
              "      <td>0.0</td>\n",
              "      <td>0.0</td>\n",
              "      <td>0.0</td>\n",
              "      <td>0.0</td>\n",
              "      <td>0.0</td>\n",
              "      <td>0.0</td>\n",
              "      <td>0.0</td>\n",
              "      <td>0.0</td>\n",
              "      <td>0.0</td>\n",
              "      <td>0.0</td>\n",
              "      <td>0.0</td>\n",
              "      <td>0.0</td>\n",
              "      <td>0.0</td>\n",
              "      <td>0.0</td>\n",
              "      <td>0.0</td>\n",
              "      <td>0.0</td>\n",
              "      <td>0.0</td>\n",
              "      <td>0.0</td>\n",
              "      <td>0.0</td>\n",
              "      <td>0.0</td>\n",
              "      <td>0.0</td>\n",
              "      <td>0.0</td>\n",
              "      <td>0.0</td>\n",
              "      <td>0.0</td>\n",
              "      <td>0.0</td>\n",
              "      <td>0.0</td>\n",
              "      <td>0.0</td>\n",
              "      <td>0.0</td>\n",
              "      <td>0.0</td>\n",
              "      <td>0.0</td>\n",
              "      <td>0.0</td>\n",
              "      <td>0.0</td>\n",
              "      <td>0.0</td>\n",
              "      <td>0.0</td>\n",
              "      <td>...</td>\n",
              "      <td>0.0</td>\n",
              "      <td>0.0</td>\n",
              "      <td>0.0</td>\n",
              "      <td>0.0</td>\n",
              "      <td>0.0</td>\n",
              "      <td>0.0</td>\n",
              "      <td>0.0</td>\n",
              "      <td>0.0</td>\n",
              "      <td>0.0</td>\n",
              "      <td>0.0</td>\n",
              "      <td>0.0</td>\n",
              "      <td>0.0</td>\n",
              "      <td>0.0</td>\n",
              "      <td>0.0</td>\n",
              "      <td>0.0</td>\n",
              "      <td>0.0</td>\n",
              "      <td>0.0</td>\n",
              "      <td>0.0</td>\n",
              "      <td>0.0</td>\n",
              "      <td>0.0</td>\n",
              "      <td>0.0</td>\n",
              "      <td>0.0</td>\n",
              "      <td>0.0</td>\n",
              "      <td>0.0</td>\n",
              "      <td>0.0</td>\n",
              "      <td>0.0</td>\n",
              "      <td>0.0</td>\n",
              "      <td>0.0</td>\n",
              "      <td>0.0</td>\n",
              "      <td>0.0</td>\n",
              "      <td>0.0</td>\n",
              "      <td>0.0</td>\n",
              "      <td>0.0</td>\n",
              "      <td>0.0</td>\n",
              "      <td>0.0</td>\n",
              "      <td>0.0</td>\n",
              "      <td>0.0</td>\n",
              "      <td>0.0</td>\n",
              "      <td>0.0</td>\n",
              "      <td>21</td>\n",
              "    </tr>\n",
              "    <tr>\n",
              "      <th>4</th>\n",
              "      <td>0.0</td>\n",
              "      <td>0.0</td>\n",
              "      <td>0.0</td>\n",
              "      <td>0.0</td>\n",
              "      <td>0.0</td>\n",
              "      <td>0.0</td>\n",
              "      <td>0.0</td>\n",
              "      <td>0.0</td>\n",
              "      <td>0.0</td>\n",
              "      <td>0.0</td>\n",
              "      <td>0.0</td>\n",
              "      <td>0.0</td>\n",
              "      <td>0.0</td>\n",
              "      <td>0.0</td>\n",
              "      <td>0.0</td>\n",
              "      <td>0.0</td>\n",
              "      <td>0.0</td>\n",
              "      <td>0.0</td>\n",
              "      <td>0.0</td>\n",
              "      <td>0.0</td>\n",
              "      <td>0.0</td>\n",
              "      <td>0.0</td>\n",
              "      <td>0.0</td>\n",
              "      <td>0.0</td>\n",
              "      <td>0.0</td>\n",
              "      <td>0.0</td>\n",
              "      <td>0.0</td>\n",
              "      <td>0.0</td>\n",
              "      <td>0.0</td>\n",
              "      <td>0.0</td>\n",
              "      <td>0.0</td>\n",
              "      <td>0.0</td>\n",
              "      <td>0.0</td>\n",
              "      <td>0.0</td>\n",
              "      <td>0.0</td>\n",
              "      <td>0.0</td>\n",
              "      <td>0.0</td>\n",
              "      <td>0.0</td>\n",
              "      <td>0.0</td>\n",
              "      <td>0.0</td>\n",
              "      <td>...</td>\n",
              "      <td>0.0</td>\n",
              "      <td>0.0</td>\n",
              "      <td>0.0</td>\n",
              "      <td>0.0</td>\n",
              "      <td>0.0</td>\n",
              "      <td>0.0</td>\n",
              "      <td>0.0</td>\n",
              "      <td>0.0</td>\n",
              "      <td>0.0</td>\n",
              "      <td>0.0</td>\n",
              "      <td>0.0</td>\n",
              "      <td>0.0</td>\n",
              "      <td>0.0</td>\n",
              "      <td>0.0</td>\n",
              "      <td>0.0</td>\n",
              "      <td>0.0</td>\n",
              "      <td>0.0</td>\n",
              "      <td>0.0</td>\n",
              "      <td>0.0</td>\n",
              "      <td>0.0</td>\n",
              "      <td>0.0</td>\n",
              "      <td>0.0</td>\n",
              "      <td>0.0</td>\n",
              "      <td>0.0</td>\n",
              "      <td>0.0</td>\n",
              "      <td>0.0</td>\n",
              "      <td>0.0</td>\n",
              "      <td>0.0</td>\n",
              "      <td>0.0</td>\n",
              "      <td>0.0</td>\n",
              "      <td>0.0</td>\n",
              "      <td>0.0</td>\n",
              "      <td>0.0</td>\n",
              "      <td>0.0</td>\n",
              "      <td>0.0</td>\n",
              "      <td>0.0</td>\n",
              "      <td>0.0</td>\n",
              "      <td>0.0</td>\n",
              "      <td>0.0</td>\n",
              "      <td>23</td>\n",
              "    </tr>\n",
              "  </tbody>\n",
              "</table>\n",
              "<p>5 rows × 785 columns</p>\n",
              "</div>"
            ],
            "text/plain": [
              "     0    1    2    3    4    5    6  ...  778  779  780  781  782  783   y\n",
              "0  0.0  0.0  0.0  0.0  0.0  0.0  0.0  ...  0.0  0.0  0.0  0.0  0.0  0.0  18\n",
              "1  0.0  0.0  0.0  0.0  0.0  0.0  0.0  ...  0.0  0.0  0.0  0.0  0.0  0.0  21\n",
              "2  0.0  0.0  0.0  0.0  0.0  0.0  0.0  ...  0.0  0.0  0.0  0.0  0.0  0.0  17\n",
              "3  0.0  0.0  0.0  0.0  0.0  0.0  0.0  ...  0.0  0.0  0.0  0.0  0.0  0.0  21\n",
              "4  0.0  0.0  0.0  0.0  0.0  0.0  0.0  ...  0.0  0.0  0.0  0.0  0.0  0.0  23\n",
              "\n",
              "[5 rows x 785 columns]"
            ]
          },
          "metadata": {
            "tags": []
          },
          "execution_count": 9
        }
      ]
    },
    {
      "cell_type": "markdown",
      "metadata": {
        "id": "fmAyux00X6Zi",
        "colab_type": "text"
      },
      "source": [
        "Effettuo una separazione dei valori di dati in 80% per train e 20% test, l'80% viene utilizzato per poter trainare un modello e ottimizzare i parametri (tramite validation), il restante 20% viene utilizzato per validare il modello nell'interezza con osservazioni mai viste prima"
      ]
    },
    {
      "cell_type": "code",
      "metadata": {
        "id": "GY71Com0YU0X",
        "colab_type": "code",
        "outputId": "5a3b4e95-5636-4dd5-cfe6-6ca828acff5e",
        "colab": {
          "base_uri": "https://localhost:8080/",
          "height": 33
        }
      },
      "source": [
        "len(dati)*0.8"
      ],
      "execution_count": 10,
      "outputs": [
        {
          "output_type": "execute_result",
          "data": {
            "text/plain": [
              "11200.0"
            ]
          },
          "metadata": {
            "tags": []
          },
          "execution_count": 10
        }
      ]
    },
    {
      "cell_type": "code",
      "metadata": {
        "id": "3o3lGlE0Y-i9",
        "colab_type": "code",
        "colab": {}
      },
      "source": [
        "train = dati.iloc[:11199]\n",
        "test = dati.iloc[11200:]\n",
        "train = train.reset_index()\n",
        "test = test.reset_index()"
      ],
      "execution_count": 0,
      "outputs": []
    },
    {
      "cell_type": "markdown",
      "metadata": {
        "id": "K_sVJ91Ja4Gl",
        "colab_type": "text"
      },
      "source": [
        "Trasformo l'input come richiesto dalla rete neurale"
      ]
    },
    {
      "cell_type": "code",
      "metadata": {
        "id": "8sPtX8LfbAVF",
        "colab_type": "code",
        "colab": {}
      },
      "source": [
        "X_train, y_train = train.iloc[:, :785], train.iloc[:, -1]\n",
        "X_train = X_train.drop(columns=\"index\")\n",
        "\n",
        "X_test, y_test = test.iloc[:, :785], test.iloc[:, -1]\n",
        "X_test = X_test.drop(columns=\"index\")"
      ],
      "execution_count": 0,
      "outputs": []
    },
    {
      "cell_type": "code",
      "metadata": {
        "id": "jAYF0-RhblN0",
        "colab_type": "code",
        "outputId": "8cddf6d6-343b-45ec-c854-195e4486703e",
        "colab": {
          "base_uri": "https://localhost:8080/",
          "height": 156
        }
      },
      "source": [
        "X_train.head(2)"
      ],
      "execution_count": 13,
      "outputs": [
        {
          "output_type": "execute_result",
          "data": {
            "text/html": [
              "<div>\n",
              "<style scoped>\n",
              "    .dataframe tbody tr th:only-of-type {\n",
              "        vertical-align: middle;\n",
              "    }\n",
              "\n",
              "    .dataframe tbody tr th {\n",
              "        vertical-align: top;\n",
              "    }\n",
              "\n",
              "    .dataframe thead th {\n",
              "        text-align: right;\n",
              "    }\n",
              "</style>\n",
              "<table border=\"1\" class=\"dataframe\">\n",
              "  <thead>\n",
              "    <tr style=\"text-align: right;\">\n",
              "      <th></th>\n",
              "      <th>0</th>\n",
              "      <th>1</th>\n",
              "      <th>2</th>\n",
              "      <th>3</th>\n",
              "      <th>4</th>\n",
              "      <th>5</th>\n",
              "      <th>6</th>\n",
              "      <th>7</th>\n",
              "      <th>8</th>\n",
              "      <th>9</th>\n",
              "      <th>10</th>\n",
              "      <th>11</th>\n",
              "      <th>12</th>\n",
              "      <th>13</th>\n",
              "      <th>14</th>\n",
              "      <th>15</th>\n",
              "      <th>16</th>\n",
              "      <th>17</th>\n",
              "      <th>18</th>\n",
              "      <th>19</th>\n",
              "      <th>20</th>\n",
              "      <th>21</th>\n",
              "      <th>22</th>\n",
              "      <th>23</th>\n",
              "      <th>24</th>\n",
              "      <th>25</th>\n",
              "      <th>26</th>\n",
              "      <th>27</th>\n",
              "      <th>28</th>\n",
              "      <th>29</th>\n",
              "      <th>30</th>\n",
              "      <th>31</th>\n",
              "      <th>32</th>\n",
              "      <th>33</th>\n",
              "      <th>34</th>\n",
              "      <th>35</th>\n",
              "      <th>36</th>\n",
              "      <th>37</th>\n",
              "      <th>38</th>\n",
              "      <th>39</th>\n",
              "      <th>...</th>\n",
              "      <th>744</th>\n",
              "      <th>745</th>\n",
              "      <th>746</th>\n",
              "      <th>747</th>\n",
              "      <th>748</th>\n",
              "      <th>749</th>\n",
              "      <th>750</th>\n",
              "      <th>751</th>\n",
              "      <th>752</th>\n",
              "      <th>753</th>\n",
              "      <th>754</th>\n",
              "      <th>755</th>\n",
              "      <th>756</th>\n",
              "      <th>757</th>\n",
              "      <th>758</th>\n",
              "      <th>759</th>\n",
              "      <th>760</th>\n",
              "      <th>761</th>\n",
              "      <th>762</th>\n",
              "      <th>763</th>\n",
              "      <th>764</th>\n",
              "      <th>765</th>\n",
              "      <th>766</th>\n",
              "      <th>767</th>\n",
              "      <th>768</th>\n",
              "      <th>769</th>\n",
              "      <th>770</th>\n",
              "      <th>771</th>\n",
              "      <th>772</th>\n",
              "      <th>773</th>\n",
              "      <th>774</th>\n",
              "      <th>775</th>\n",
              "      <th>776</th>\n",
              "      <th>777</th>\n",
              "      <th>778</th>\n",
              "      <th>779</th>\n",
              "      <th>780</th>\n",
              "      <th>781</th>\n",
              "      <th>782</th>\n",
              "      <th>783</th>\n",
              "    </tr>\n",
              "  </thead>\n",
              "  <tbody>\n",
              "    <tr>\n",
              "      <th>0</th>\n",
              "      <td>0.0</td>\n",
              "      <td>0.0</td>\n",
              "      <td>0.0</td>\n",
              "      <td>0.0</td>\n",
              "      <td>0.0</td>\n",
              "      <td>0.0</td>\n",
              "      <td>0.0</td>\n",
              "      <td>0.0</td>\n",
              "      <td>0.0</td>\n",
              "      <td>0.0</td>\n",
              "      <td>0.0</td>\n",
              "      <td>0.0</td>\n",
              "      <td>0.0</td>\n",
              "      <td>0.0</td>\n",
              "      <td>0.0</td>\n",
              "      <td>0.0</td>\n",
              "      <td>0.0</td>\n",
              "      <td>0.0</td>\n",
              "      <td>0.0</td>\n",
              "      <td>0.0</td>\n",
              "      <td>0.0</td>\n",
              "      <td>0.0</td>\n",
              "      <td>0.0</td>\n",
              "      <td>0.0</td>\n",
              "      <td>0.0</td>\n",
              "      <td>0.0</td>\n",
              "      <td>0.0</td>\n",
              "      <td>0.0</td>\n",
              "      <td>0.0</td>\n",
              "      <td>0.0</td>\n",
              "      <td>0.0</td>\n",
              "      <td>0.0</td>\n",
              "      <td>0.0</td>\n",
              "      <td>0.0</td>\n",
              "      <td>0.0</td>\n",
              "      <td>0.0</td>\n",
              "      <td>0.0</td>\n",
              "      <td>0.0</td>\n",
              "      <td>0.0</td>\n",
              "      <td>0.0</td>\n",
              "      <td>...</td>\n",
              "      <td>0.0</td>\n",
              "      <td>0.0</td>\n",
              "      <td>0.0</td>\n",
              "      <td>0.0</td>\n",
              "      <td>0.0</td>\n",
              "      <td>0.0</td>\n",
              "      <td>0.0</td>\n",
              "      <td>0.0</td>\n",
              "      <td>0.0</td>\n",
              "      <td>0.0</td>\n",
              "      <td>0.0</td>\n",
              "      <td>0.0</td>\n",
              "      <td>0.0</td>\n",
              "      <td>0.0</td>\n",
              "      <td>0.0</td>\n",
              "      <td>0.0</td>\n",
              "      <td>0.0</td>\n",
              "      <td>0.0</td>\n",
              "      <td>0.0</td>\n",
              "      <td>0.0</td>\n",
              "      <td>0.0</td>\n",
              "      <td>0.0</td>\n",
              "      <td>0.0</td>\n",
              "      <td>0.0</td>\n",
              "      <td>0.0</td>\n",
              "      <td>0.0</td>\n",
              "      <td>0.0</td>\n",
              "      <td>0.0</td>\n",
              "      <td>0.0</td>\n",
              "      <td>0.0</td>\n",
              "      <td>0.0</td>\n",
              "      <td>0.0</td>\n",
              "      <td>0.0</td>\n",
              "      <td>0.0</td>\n",
              "      <td>0.0</td>\n",
              "      <td>0.0</td>\n",
              "      <td>0.0</td>\n",
              "      <td>0.0</td>\n",
              "      <td>0.0</td>\n",
              "      <td>0.0</td>\n",
              "    </tr>\n",
              "    <tr>\n",
              "      <th>1</th>\n",
              "      <td>0.0</td>\n",
              "      <td>0.0</td>\n",
              "      <td>0.0</td>\n",
              "      <td>0.0</td>\n",
              "      <td>0.0</td>\n",
              "      <td>0.0</td>\n",
              "      <td>0.0</td>\n",
              "      <td>0.0</td>\n",
              "      <td>0.0</td>\n",
              "      <td>0.0</td>\n",
              "      <td>0.0</td>\n",
              "      <td>0.0</td>\n",
              "      <td>0.0</td>\n",
              "      <td>0.0</td>\n",
              "      <td>0.0</td>\n",
              "      <td>0.0</td>\n",
              "      <td>0.0</td>\n",
              "      <td>0.0</td>\n",
              "      <td>0.0</td>\n",
              "      <td>0.0</td>\n",
              "      <td>0.0</td>\n",
              "      <td>0.0</td>\n",
              "      <td>0.0</td>\n",
              "      <td>0.0</td>\n",
              "      <td>0.0</td>\n",
              "      <td>0.0</td>\n",
              "      <td>0.0</td>\n",
              "      <td>0.0</td>\n",
              "      <td>0.0</td>\n",
              "      <td>0.0</td>\n",
              "      <td>0.0</td>\n",
              "      <td>0.0</td>\n",
              "      <td>0.0</td>\n",
              "      <td>0.0</td>\n",
              "      <td>0.0</td>\n",
              "      <td>0.0</td>\n",
              "      <td>0.0</td>\n",
              "      <td>0.0</td>\n",
              "      <td>0.0</td>\n",
              "      <td>0.0</td>\n",
              "      <td>...</td>\n",
              "      <td>0.0</td>\n",
              "      <td>0.0</td>\n",
              "      <td>0.0</td>\n",
              "      <td>0.0</td>\n",
              "      <td>0.0</td>\n",
              "      <td>0.0</td>\n",
              "      <td>0.0</td>\n",
              "      <td>0.0</td>\n",
              "      <td>0.0</td>\n",
              "      <td>0.0</td>\n",
              "      <td>0.0</td>\n",
              "      <td>0.0</td>\n",
              "      <td>0.0</td>\n",
              "      <td>0.0</td>\n",
              "      <td>0.0</td>\n",
              "      <td>0.0</td>\n",
              "      <td>0.0</td>\n",
              "      <td>0.0</td>\n",
              "      <td>0.0</td>\n",
              "      <td>0.0</td>\n",
              "      <td>0.0</td>\n",
              "      <td>0.0</td>\n",
              "      <td>0.0</td>\n",
              "      <td>0.0</td>\n",
              "      <td>0.0</td>\n",
              "      <td>0.0</td>\n",
              "      <td>0.0</td>\n",
              "      <td>0.0</td>\n",
              "      <td>0.0</td>\n",
              "      <td>0.0</td>\n",
              "      <td>0.0</td>\n",
              "      <td>0.0</td>\n",
              "      <td>0.0</td>\n",
              "      <td>0.0</td>\n",
              "      <td>0.0</td>\n",
              "      <td>0.0</td>\n",
              "      <td>0.0</td>\n",
              "      <td>0.0</td>\n",
              "      <td>0.0</td>\n",
              "      <td>0.0</td>\n",
              "    </tr>\n",
              "  </tbody>\n",
              "</table>\n",
              "<p>2 rows × 784 columns</p>\n",
              "</div>"
            ],
            "text/plain": [
              "   0    1    2    3    4    5    6    ...  777  778  779  780  781  782  783\n",
              "0  0.0  0.0  0.0  0.0  0.0  0.0  0.0  ...  0.0  0.0  0.0  0.0  0.0  0.0  0.0\n",
              "1  0.0  0.0  0.0  0.0  0.0  0.0  0.0  ...  0.0  0.0  0.0  0.0  0.0  0.0  0.0\n",
              "\n",
              "[2 rows x 784 columns]"
            ]
          },
          "metadata": {
            "tags": []
          },
          "execution_count": 13
        }
      ]
    },
    {
      "cell_type": "code",
      "metadata": {
        "id": "iuqVPzgsdYnk",
        "colab_type": "code",
        "outputId": "880ed2a2-9040-4d69-89e3-72e15ffcb49e",
        "colab": {
          "base_uri": "https://localhost:8080/",
          "height": 67
        }
      },
      "source": [
        "y_train.head(2)"
      ],
      "execution_count": 14,
      "outputs": [
        {
          "output_type": "execute_result",
          "data": {
            "text/plain": [
              "0    18\n",
              "1    21\n",
              "Name: y, dtype: uint8"
            ]
          },
          "metadata": {
            "tags": []
          },
          "execution_count": 14
        }
      ]
    },
    {
      "cell_type": "code",
      "metadata": {
        "id": "BVKa3k7mdaug",
        "colab_type": "code",
        "outputId": "349e33ba-ffb2-4a54-87b6-d3a1dead96bd",
        "colab": {
          "base_uri": "https://localhost:8080/",
          "height": 156
        }
      },
      "source": [
        "X_test.head(2)"
      ],
      "execution_count": 15,
      "outputs": [
        {
          "output_type": "execute_result",
          "data": {
            "text/html": [
              "<div>\n",
              "<style scoped>\n",
              "    .dataframe tbody tr th:only-of-type {\n",
              "        vertical-align: middle;\n",
              "    }\n",
              "\n",
              "    .dataframe tbody tr th {\n",
              "        vertical-align: top;\n",
              "    }\n",
              "\n",
              "    .dataframe thead th {\n",
              "        text-align: right;\n",
              "    }\n",
              "</style>\n",
              "<table border=\"1\" class=\"dataframe\">\n",
              "  <thead>\n",
              "    <tr style=\"text-align: right;\">\n",
              "      <th></th>\n",
              "      <th>0</th>\n",
              "      <th>1</th>\n",
              "      <th>2</th>\n",
              "      <th>3</th>\n",
              "      <th>4</th>\n",
              "      <th>5</th>\n",
              "      <th>6</th>\n",
              "      <th>7</th>\n",
              "      <th>8</th>\n",
              "      <th>9</th>\n",
              "      <th>10</th>\n",
              "      <th>11</th>\n",
              "      <th>12</th>\n",
              "      <th>13</th>\n",
              "      <th>14</th>\n",
              "      <th>15</th>\n",
              "      <th>16</th>\n",
              "      <th>17</th>\n",
              "      <th>18</th>\n",
              "      <th>19</th>\n",
              "      <th>20</th>\n",
              "      <th>21</th>\n",
              "      <th>22</th>\n",
              "      <th>23</th>\n",
              "      <th>24</th>\n",
              "      <th>25</th>\n",
              "      <th>26</th>\n",
              "      <th>27</th>\n",
              "      <th>28</th>\n",
              "      <th>29</th>\n",
              "      <th>30</th>\n",
              "      <th>31</th>\n",
              "      <th>32</th>\n",
              "      <th>33</th>\n",
              "      <th>34</th>\n",
              "      <th>35</th>\n",
              "      <th>36</th>\n",
              "      <th>37</th>\n",
              "      <th>38</th>\n",
              "      <th>39</th>\n",
              "      <th>...</th>\n",
              "      <th>744</th>\n",
              "      <th>745</th>\n",
              "      <th>746</th>\n",
              "      <th>747</th>\n",
              "      <th>748</th>\n",
              "      <th>749</th>\n",
              "      <th>750</th>\n",
              "      <th>751</th>\n",
              "      <th>752</th>\n",
              "      <th>753</th>\n",
              "      <th>754</th>\n",
              "      <th>755</th>\n",
              "      <th>756</th>\n",
              "      <th>757</th>\n",
              "      <th>758</th>\n",
              "      <th>759</th>\n",
              "      <th>760</th>\n",
              "      <th>761</th>\n",
              "      <th>762</th>\n",
              "      <th>763</th>\n",
              "      <th>764</th>\n",
              "      <th>765</th>\n",
              "      <th>766</th>\n",
              "      <th>767</th>\n",
              "      <th>768</th>\n",
              "      <th>769</th>\n",
              "      <th>770</th>\n",
              "      <th>771</th>\n",
              "      <th>772</th>\n",
              "      <th>773</th>\n",
              "      <th>774</th>\n",
              "      <th>775</th>\n",
              "      <th>776</th>\n",
              "      <th>777</th>\n",
              "      <th>778</th>\n",
              "      <th>779</th>\n",
              "      <th>780</th>\n",
              "      <th>781</th>\n",
              "      <th>782</th>\n",
              "      <th>783</th>\n",
              "    </tr>\n",
              "  </thead>\n",
              "  <tbody>\n",
              "    <tr>\n",
              "      <th>0</th>\n",
              "      <td>0.0</td>\n",
              "      <td>0.0</td>\n",
              "      <td>0.0</td>\n",
              "      <td>0.0</td>\n",
              "      <td>0.0</td>\n",
              "      <td>0.0</td>\n",
              "      <td>0.0</td>\n",
              "      <td>0.0</td>\n",
              "      <td>0.0</td>\n",
              "      <td>0.0</td>\n",
              "      <td>0.0</td>\n",
              "      <td>0.0</td>\n",
              "      <td>0.0</td>\n",
              "      <td>0.0</td>\n",
              "      <td>0.0</td>\n",
              "      <td>0.0</td>\n",
              "      <td>0.0</td>\n",
              "      <td>0.0</td>\n",
              "      <td>0.0</td>\n",
              "      <td>0.0</td>\n",
              "      <td>0.0</td>\n",
              "      <td>0.0</td>\n",
              "      <td>0.0</td>\n",
              "      <td>0.0</td>\n",
              "      <td>0.0</td>\n",
              "      <td>0.0</td>\n",
              "      <td>0.0</td>\n",
              "      <td>0.0</td>\n",
              "      <td>0.0</td>\n",
              "      <td>0.0</td>\n",
              "      <td>0.0</td>\n",
              "      <td>0.0</td>\n",
              "      <td>0.0</td>\n",
              "      <td>0.0</td>\n",
              "      <td>0.0</td>\n",
              "      <td>0.0</td>\n",
              "      <td>0.0</td>\n",
              "      <td>0.0</td>\n",
              "      <td>0.011765</td>\n",
              "      <td>0.007843</td>\n",
              "      <td>...</td>\n",
              "      <td>0.000000</td>\n",
              "      <td>0.000000</td>\n",
              "      <td>0.0</td>\n",
              "      <td>0.007843</td>\n",
              "      <td>0.015686</td>\n",
              "      <td>0.015686</td>\n",
              "      <td>0.007843</td>\n",
              "      <td>0.0</td>\n",
              "      <td>0.0</td>\n",
              "      <td>0.0</td>\n",
              "      <td>0.0</td>\n",
              "      <td>0.0</td>\n",
              "      <td>0.0</td>\n",
              "      <td>0.0</td>\n",
              "      <td>0.0</td>\n",
              "      <td>0.0</td>\n",
              "      <td>0.0</td>\n",
              "      <td>0.0</td>\n",
              "      <td>0.0</td>\n",
              "      <td>0.0</td>\n",
              "      <td>0.0</td>\n",
              "      <td>0.0</td>\n",
              "      <td>0.0</td>\n",
              "      <td>0.0</td>\n",
              "      <td>0.0</td>\n",
              "      <td>0.0</td>\n",
              "      <td>0.0</td>\n",
              "      <td>0.0</td>\n",
              "      <td>0.0</td>\n",
              "      <td>0.0</td>\n",
              "      <td>0.0</td>\n",
              "      <td>0.0</td>\n",
              "      <td>0.0</td>\n",
              "      <td>0.0</td>\n",
              "      <td>0.0</td>\n",
              "      <td>0.0</td>\n",
              "      <td>0.0</td>\n",
              "      <td>0.0</td>\n",
              "      <td>0.0</td>\n",
              "      <td>0.0</td>\n",
              "    </tr>\n",
              "    <tr>\n",
              "      <th>1</th>\n",
              "      <td>0.0</td>\n",
              "      <td>0.0</td>\n",
              "      <td>0.0</td>\n",
              "      <td>0.0</td>\n",
              "      <td>0.0</td>\n",
              "      <td>0.0</td>\n",
              "      <td>0.0</td>\n",
              "      <td>0.0</td>\n",
              "      <td>0.0</td>\n",
              "      <td>0.0</td>\n",
              "      <td>0.0</td>\n",
              "      <td>0.0</td>\n",
              "      <td>0.0</td>\n",
              "      <td>0.0</td>\n",
              "      <td>0.0</td>\n",
              "      <td>0.0</td>\n",
              "      <td>0.0</td>\n",
              "      <td>0.0</td>\n",
              "      <td>0.0</td>\n",
              "      <td>0.0</td>\n",
              "      <td>0.0</td>\n",
              "      <td>0.0</td>\n",
              "      <td>0.0</td>\n",
              "      <td>0.0</td>\n",
              "      <td>0.0</td>\n",
              "      <td>0.0</td>\n",
              "      <td>0.0</td>\n",
              "      <td>0.0</td>\n",
              "      <td>0.0</td>\n",
              "      <td>0.0</td>\n",
              "      <td>0.0</td>\n",
              "      <td>0.0</td>\n",
              "      <td>0.0</td>\n",
              "      <td>0.0</td>\n",
              "      <td>0.0</td>\n",
              "      <td>0.0</td>\n",
              "      <td>0.0</td>\n",
              "      <td>0.0</td>\n",
              "      <td>0.000000</td>\n",
              "      <td>0.000000</td>\n",
              "      <td>...</td>\n",
              "      <td>0.011765</td>\n",
              "      <td>0.007843</td>\n",
              "      <td>0.0</td>\n",
              "      <td>0.000000</td>\n",
              "      <td>0.000000</td>\n",
              "      <td>0.000000</td>\n",
              "      <td>0.000000</td>\n",
              "      <td>0.0</td>\n",
              "      <td>0.0</td>\n",
              "      <td>0.0</td>\n",
              "      <td>0.0</td>\n",
              "      <td>0.0</td>\n",
              "      <td>0.0</td>\n",
              "      <td>0.0</td>\n",
              "      <td>0.0</td>\n",
              "      <td>0.0</td>\n",
              "      <td>0.0</td>\n",
              "      <td>0.0</td>\n",
              "      <td>0.0</td>\n",
              "      <td>0.0</td>\n",
              "      <td>0.0</td>\n",
              "      <td>0.0</td>\n",
              "      <td>0.0</td>\n",
              "      <td>0.0</td>\n",
              "      <td>0.0</td>\n",
              "      <td>0.0</td>\n",
              "      <td>0.0</td>\n",
              "      <td>0.0</td>\n",
              "      <td>0.0</td>\n",
              "      <td>0.0</td>\n",
              "      <td>0.0</td>\n",
              "      <td>0.0</td>\n",
              "      <td>0.0</td>\n",
              "      <td>0.0</td>\n",
              "      <td>0.0</td>\n",
              "      <td>0.0</td>\n",
              "      <td>0.0</td>\n",
              "      <td>0.0</td>\n",
              "      <td>0.0</td>\n",
              "      <td>0.0</td>\n",
              "    </tr>\n",
              "  </tbody>\n",
              "</table>\n",
              "<p>2 rows × 784 columns</p>\n",
              "</div>"
            ],
            "text/plain": [
              "   0    1    2    3    4    5    6    ...  777  778  779  780  781  782  783\n",
              "0  0.0  0.0  0.0  0.0  0.0  0.0  0.0  ...  0.0  0.0  0.0  0.0  0.0  0.0  0.0\n",
              "1  0.0  0.0  0.0  0.0  0.0  0.0  0.0  ...  0.0  0.0  0.0  0.0  0.0  0.0  0.0\n",
              "\n",
              "[2 rows x 784 columns]"
            ]
          },
          "metadata": {
            "tags": []
          },
          "execution_count": 15
        }
      ]
    },
    {
      "cell_type": "code",
      "metadata": {
        "id": "VuaWGc2tddRa",
        "colab_type": "code",
        "outputId": "25ee32d4-2781-40c3-83ad-dcaecb1fc677",
        "colab": {
          "base_uri": "https://localhost:8080/",
          "height": 67
        }
      },
      "source": [
        "y_test.head(2)"
      ],
      "execution_count": 16,
      "outputs": [
        {
          "output_type": "execute_result",
          "data": {
            "text/plain": [
              "0    24\n",
              "1    22\n",
              "Name: y, dtype: uint8"
            ]
          },
          "metadata": {
            "tags": []
          },
          "execution_count": 16
        }
      ]
    },
    {
      "cell_type": "code",
      "metadata": {
        "id": "JZnyBExTd5RL",
        "colab_type": "code",
        "outputId": "6c02a74d-5d6d-4b65-c970-1b0312326532",
        "colab": {
          "base_uri": "https://localhost:8080/",
          "height": 33
        }
      },
      "source": [
        "len(y_test)"
      ],
      "execution_count": 17,
      "outputs": [
        {
          "output_type": "execute_result",
          "data": {
            "text/plain": [
              "2800"
            ]
          },
          "metadata": {
            "tags": []
          },
          "execution_count": 17
        }
      ]
    },
    {
      "cell_type": "markdown",
      "metadata": {
        "id": "p8LNwfJyX86J",
        "colab_type": "text"
      },
      "source": [
        "Rimuovo dai valori delle lettere espresse in posizione numerica 16, facendo partire i valori da 0 (per la lettera P); <br>Successivamente applico una codifica ohe-hot alla variabile target"
      ]
    },
    {
      "cell_type": "code",
      "metadata": {
        "id": "bdhMBkVteOTK",
        "colab_type": "code",
        "colab": {}
      },
      "source": [
        "y_train = y_train - 16\n",
        "y_train = to_categorical(y_train)\n",
        "y_test = y_test - 16\n",
        "y_test = to_categorical(y_test)"
      ],
      "execution_count": 0,
      "outputs": []
    },
    {
      "cell_type": "code",
      "metadata": {
        "id": "1SDTvrVxegL_",
        "colab_type": "code",
        "outputId": "72039db2-6144-47bf-f4a2-4541617ba135",
        "colab": {
          "base_uri": "https://localhost:8080/",
          "height": 33
        }
      },
      "source": [
        "y_train[0]"
      ],
      "execution_count": 19,
      "outputs": [
        {
          "output_type": "execute_result",
          "data": {
            "text/plain": [
              "array([0., 0., 1., 0., 0., 0., 0., 0., 0., 0., 0.], dtype=float32)"
            ]
          },
          "metadata": {
            "tags": []
          },
          "execution_count": 19
        }
      ]
    },
    {
      "cell_type": "code",
      "metadata": {
        "id": "ZwkJX15Iey2W",
        "colab_type": "code",
        "outputId": "d221ee89-9c79-45d4-8f9d-a9aca50fff64",
        "colab": {
          "base_uri": "https://localhost:8080/",
          "height": 33
        }
      },
      "source": [
        "y_test[0]"
      ],
      "execution_count": 20,
      "outputs": [
        {
          "output_type": "execute_result",
          "data": {
            "text/plain": [
              "array([0., 0., 0., 0., 0., 0., 0., 0., 1., 0., 0.], dtype=float32)"
            ]
          },
          "metadata": {
            "tags": []
          },
          "execution_count": 20
        }
      ]
    },
    {
      "cell_type": "markdown",
      "metadata": {
        "id": "3ZukBw2adoGR",
        "colab_type": "text"
      },
      "source": [
        "Trasformo l'input come richiesto dalla rete neurale"
      ]
    },
    {
      "cell_type": "code",
      "metadata": {
        "id": "E_MrjzHWdyWT",
        "colab_type": "code",
        "outputId": "9363a111-b5b0-4585-9d9c-751ab1a0284d",
        "colab": {
          "base_uri": "https://localhost:8080/",
          "height": 84
        }
      },
      "source": [
        "X_train = X_train.as_matrix()\n",
        "y_train = y_train.reshape(11199,11)\n",
        "\n",
        "X_test = X_test.as_matrix()\n",
        "y_test = y_test.reshape(2800,11)"
      ],
      "execution_count": 21,
      "outputs": [
        {
          "output_type": "stream",
          "text": [
            "/usr/local/lib/python3.6/dist-packages/ipykernel_launcher.py:1: FutureWarning: Method .as_matrix will be removed in a future version. Use .values instead.\n",
            "  \"\"\"Entry point for launching an IPython kernel.\n",
            "/usr/local/lib/python3.6/dist-packages/ipykernel_launcher.py:4: FutureWarning: Method .as_matrix will be removed in a future version. Use .values instead.\n",
            "  after removing the cwd from sys.path.\n"
          ],
          "name": "stderr"
        }
      ]
    },
    {
      "cell_type": "markdown",
      "metadata": {
        "id": "YGkamu7MTp4H",
        "colab_type": "text"
      },
      "source": [
        "# Parte Uno: Classificazione con una Rete Neurale"
      ]
    },
    {
      "cell_type": "markdown",
      "metadata": {
        "id": "JDAKikc9an2z",
        "colab_type": "text"
      },
      "source": [
        "Effettuo il training della rete sull'80% dei dati, successivamente effettuo una evalutate sul test"
      ]
    },
    {
      "cell_type": "markdown",
      "metadata": {
        "id": "Oiq2ksDOhiIb",
        "colab_type": "text"
      },
      "source": [
        "Definisco le metriche necessarie per valutare il modello"
      ]
    },
    {
      "cell_type": "code",
      "metadata": {
        "id": "n_dXcZCKhhBh",
        "colab_type": "code",
        "colab": {}
      },
      "source": [
        "from keras import backend as K\n",
        "def recall_m(y_true, y_pred):\n",
        "        true_positives = K.sum(K.round(K.clip(y_true * y_pred, 0, 1)))\n",
        "        possible_positives = K.sum(K.round(K.clip(y_true, 0, 1)))\n",
        "        recall = true_positives / (possible_positives + K.epsilon())\n",
        "        return recall\n",
        "\n",
        "def precision_m(y_true, y_pred):\n",
        "        true_positives = K.sum(K.round(K.clip(y_true * y_pred, 0, 1)))\n",
        "        predicted_positives = K.sum(K.round(K.clip(y_pred, 0, 1)))\n",
        "        precision = true_positives / (predicted_positives + K.epsilon())\n",
        "        return precision\n",
        "\n",
        "def f1_m(y_true, y_pred):\n",
        "    precision = precision_m(y_true, y_pred)\n",
        "    recall = recall_m(y_true, y_pred)\n",
        "    return 2*((precision*recall)/(precision+recall+K.epsilon()))\n"
      ],
      "execution_count": 0,
      "outputs": []
    },
    {
      "cell_type": "code",
      "metadata": {
        "id": "7rSCt5gZTxX9",
        "colab_type": "code",
        "colab": {}
      },
      "source": [
        "from keras.models import Sequential\n",
        "from keras.layers.core import Dense, Activation, Dropout\n",
        "from keras.optimizers import SGD"
      ],
      "execution_count": 0,
      "outputs": []
    },
    {
      "cell_type": "code",
      "metadata": {
        "id": "ylC5CFGufp2F",
        "colab_type": "code",
        "colab": {}
      },
      "source": [
        "ncol = X_train.shape[1]"
      ],
      "execution_count": 0,
      "outputs": []
    },
    {
      "cell_type": "markdown",
      "metadata": {
        "id": "fjfYiSOQvWCS",
        "colab_type": "text"
      },
      "source": [
        "classitarget = 11\n",
        "\n",
        "model = Sequential()\n",
        "model.add(Dense(64, input_shape=(ncol,)))\n",
        "model.add(Dropout(0.4))\n",
        "model.add(Dense(64, activation='relu'))\n",
        "model.add(Dropout(0.3))\n",
        "model.add(Dense(64, activation='relu'))\n",
        "model.add(Dropout(0.2))\n",
        "model.add(Dense(classitarget, activation='softmax'))"
      ]
    },
    {
      "cell_type": "code",
      "metadata": {
        "id": "Ntn2sh-fausX",
        "colab_type": "code",
        "outputId": "65278c36-e005-4b56-8901-38a928bedbd2",
        "colab": {
          "base_uri": "https://localhost:8080/",
          "height": 221
        }
      },
      "source": [
        "classitarget = 11\n",
        "\n",
        "model = Sequential()\n",
        "model.add(Dense(128, input_shape=(ncol,)))\n",
        "model.add(Dropout(0.4))\n",
        "model.add(Dense(64, activation='relu'))\n",
        "model.add(Dropout(0.3))\n",
        "model.add(Dense(64, activation='relu'))\n",
        "model.add(Dropout(0.2))\n",
        "model.add(Dense(classitarget, activation='softmax'))"
      ],
      "execution_count": 25,
      "outputs": [
        {
          "output_type": "stream",
          "text": [
            "WARNING:tensorflow:From /usr/local/lib/python3.6/dist-packages/keras/backend/tensorflow_backend.py:66: The name tf.get_default_graph is deprecated. Please use tf.compat.v1.get_default_graph instead.\n",
            "\n",
            "WARNING:tensorflow:From /usr/local/lib/python3.6/dist-packages/keras/backend/tensorflow_backend.py:541: The name tf.placeholder is deprecated. Please use tf.compat.v1.placeholder instead.\n",
            "\n",
            "WARNING:tensorflow:From /usr/local/lib/python3.6/dist-packages/keras/backend/tensorflow_backend.py:4432: The name tf.random_uniform is deprecated. Please use tf.random.uniform instead.\n",
            "\n",
            "WARNING:tensorflow:From /usr/local/lib/python3.6/dist-packages/keras/backend/tensorflow_backend.py:148: The name tf.placeholder_with_default is deprecated. Please use tf.compat.v1.placeholder_with_default instead.\n",
            "\n",
            "WARNING:tensorflow:From /usr/local/lib/python3.6/dist-packages/keras/backend/tensorflow_backend.py:3733: calling dropout (from tensorflow.python.ops.nn_ops) with keep_prob is deprecated and will be removed in a future version.\n",
            "Instructions for updating:\n",
            "Please use `rate` instead of `keep_prob`. Rate should be set to `rate = 1 - keep_prob`.\n"
          ],
          "name": "stdout"
        }
      ]
    },
    {
      "cell_type": "markdown",
      "metadata": {
        "id": "cgxhkY080fuH",
        "colab_type": "text"
      },
      "source": [
        "Introduco Early Stop"
      ]
    },
    {
      "cell_type": "code",
      "metadata": {
        "id": "OenWLhfY0fJ-",
        "colab_type": "code",
        "colab": {}
      },
      "source": [
        "stop = callbacks.EarlyStopping(monitor=\"val_loss\", min_delta=0, patience = 6)"
      ],
      "execution_count": 0,
      "outputs": []
    },
    {
      "cell_type": "code",
      "metadata": {
        "id": "wW2fKLREg5DR",
        "colab_type": "code",
        "outputId": "c7ddf566-95cd-4906-c7c2-ae5f1b9a8356",
        "colab": {
          "base_uri": "https://localhost:8080/",
          "height": 385
        }
      },
      "source": [
        "model.summary()"
      ],
      "execution_count": 27,
      "outputs": [
        {
          "output_type": "stream",
          "text": [
            "Model: \"sequential_1\"\n",
            "_________________________________________________________________\n",
            "Layer (type)                 Output Shape              Param #   \n",
            "=================================================================\n",
            "dense_1 (Dense)              (None, 128)               100480    \n",
            "_________________________________________________________________\n",
            "dropout_1 (Dropout)          (None, 128)               0         \n",
            "_________________________________________________________________\n",
            "dense_2 (Dense)              (None, 64)                8256      \n",
            "_________________________________________________________________\n",
            "dropout_2 (Dropout)          (None, 64)                0         \n",
            "_________________________________________________________________\n",
            "dense_3 (Dense)              (None, 64)                4160      \n",
            "_________________________________________________________________\n",
            "dropout_3 (Dropout)          (None, 64)                0         \n",
            "_________________________________________________________________\n",
            "dense_4 (Dense)              (None, 11)                715       \n",
            "=================================================================\n",
            "Total params: 113,611\n",
            "Trainable params: 113,611\n",
            "Non-trainable params: 0\n",
            "_________________________________________________________________\n"
          ],
          "name": "stdout"
        }
      ]
    },
    {
      "cell_type": "code",
      "metadata": {
        "id": "kjYIBOIXTxTe",
        "colab_type": "code",
        "outputId": "6a921fd2-a280-4c11-f4d6-cac79928160f",
        "colab": {
          "base_uri": "https://localhost:8080/",
          "height": 104
        }
      },
      "source": [
        "model.compile(optimizer='adam', loss='categorical_crossentropy', metrics=['accuracy', f1_m])"
      ],
      "execution_count": 28,
      "outputs": [
        {
          "output_type": "stream",
          "text": [
            "WARNING:tensorflow:From /usr/local/lib/python3.6/dist-packages/keras/optimizers.py:793: The name tf.train.Optimizer is deprecated. Please use tf.compat.v1.train.Optimizer instead.\n",
            "\n",
            "WARNING:tensorflow:From /usr/local/lib/python3.6/dist-packages/keras/backend/tensorflow_backend.py:3576: The name tf.log is deprecated. Please use tf.math.log instead.\n",
            "\n"
          ],
          "name": "stdout"
        }
      ]
    },
    {
      "cell_type": "code",
      "metadata": {
        "id": "7zWW3fS2TxQG",
        "colab_type": "code",
        "outputId": "3ec73660-960b-4d18-b006-fa1c5a335f9d",
        "colab": {
          "base_uri": "https://localhost:8080/",
          "height": 1000
        }
      },
      "source": [
        "history = model.fit(X_train, y_train, epochs=100, validation_split = 0.25, batch_size=64, verbose=True, callbacks = [stop])"
      ],
      "execution_count": 29,
      "outputs": [
        {
          "output_type": "stream",
          "text": [
            "WARNING:tensorflow:From /usr/local/lib/python3.6/dist-packages/tensorflow_core/python/ops/math_grad.py:1424: where (from tensorflow.python.ops.array_ops) is deprecated and will be removed in a future version.\n",
            "Instructions for updating:\n",
            "Use tf.where in 2.0, which has the same broadcast rule as np.where\n",
            "WARNING:tensorflow:From /usr/local/lib/python3.6/dist-packages/keras/backend/tensorflow_backend.py:1033: The name tf.assign_add is deprecated. Please use tf.compat.v1.assign_add instead.\n",
            "\n",
            "WARNING:tensorflow:From /usr/local/lib/python3.6/dist-packages/keras/backend/tensorflow_backend.py:1020: The name tf.assign is deprecated. Please use tf.compat.v1.assign instead.\n",
            "\n",
            "WARNING:tensorflow:From /usr/local/lib/python3.6/dist-packages/keras/backend/tensorflow_backend.py:3005: The name tf.Session is deprecated. Please use tf.compat.v1.Session instead.\n",
            "\n",
            "Train on 8399 samples, validate on 2800 samples\n",
            "Epoch 1/100\n",
            "WARNING:tensorflow:From /usr/local/lib/python3.6/dist-packages/keras/backend/tensorflow_backend.py:190: The name tf.get_default_session is deprecated. Please use tf.compat.v1.get_default_session instead.\n",
            "\n",
            "WARNING:tensorflow:From /usr/local/lib/python3.6/dist-packages/keras/backend/tensorflow_backend.py:197: The name tf.ConfigProto is deprecated. Please use tf.compat.v1.ConfigProto instead.\n",
            "\n",
            "WARNING:tensorflow:From /usr/local/lib/python3.6/dist-packages/keras/backend/tensorflow_backend.py:207: The name tf.global_variables is deprecated. Please use tf.compat.v1.global_variables instead.\n",
            "\n",
            "WARNING:tensorflow:From /usr/local/lib/python3.6/dist-packages/keras/backend/tensorflow_backend.py:216: The name tf.is_variable_initialized is deprecated. Please use tf.compat.v1.is_variable_initialized instead.\n",
            "\n",
            "WARNING:tensorflow:From /usr/local/lib/python3.6/dist-packages/keras/backend/tensorflow_backend.py:223: The name tf.variables_initializer is deprecated. Please use tf.compat.v1.variables_initializer instead.\n",
            "\n",
            "8399/8399 [==============================] - 6s 677us/step - loss: 1.5758 - acc: 0.4682 - f1_m: 0.3480 - val_loss: 0.8358 - val_acc: 0.7443 - val_f1_m: 0.7217\n",
            "Epoch 2/100\n",
            "8399/8399 [==============================] - 1s 123us/step - loss: 0.9941 - acc: 0.6785 - f1_m: 0.6492 - val_loss: 0.6913 - val_acc: 0.7829 - val_f1_m: 0.7807\n",
            "Epoch 3/100\n",
            "8399/8399 [==============================] - 1s 122us/step - loss: 0.8835 - acc: 0.7195 - f1_m: 0.7023 - val_loss: 0.6336 - val_acc: 0.8111 - val_f1_m: 0.8052\n",
            "Epoch 4/100\n",
            "8399/8399 [==============================] - 1s 130us/step - loss: 0.7708 - acc: 0.7537 - f1_m: 0.7437 - val_loss: 0.5735 - val_acc: 0.8257 - val_f1_m: 0.8185\n",
            "Epoch 5/100\n",
            "8399/8399 [==============================] - 1s 125us/step - loss: 0.7275 - acc: 0.7726 - f1_m: 0.7615 - val_loss: 0.5322 - val_acc: 0.8393 - val_f1_m: 0.8400\n",
            "Epoch 6/100\n",
            "8399/8399 [==============================] - 1s 128us/step - loss: 0.7009 - acc: 0.7813 - f1_m: 0.7735 - val_loss: 0.5237 - val_acc: 0.8439 - val_f1_m: 0.8460\n",
            "Epoch 7/100\n",
            "8399/8399 [==============================] - 1s 127us/step - loss: 0.6596 - acc: 0.7931 - f1_m: 0.7842 - val_loss: 0.4992 - val_acc: 0.8529 - val_f1_m: 0.8531\n",
            "Epoch 8/100\n",
            "8399/8399 [==============================] - 1s 126us/step - loss: 0.6294 - acc: 0.8033 - f1_m: 0.7958 - val_loss: 0.4759 - val_acc: 0.8546 - val_f1_m: 0.8561\n",
            "Epoch 9/100\n",
            "8399/8399 [==============================] - 1s 120us/step - loss: 0.6081 - acc: 0.8110 - f1_m: 0.8074 - val_loss: 0.4513 - val_acc: 0.8643 - val_f1_m: 0.8695\n",
            "Epoch 10/100\n",
            "8399/8399 [==============================] - 1s 123us/step - loss: 0.5855 - acc: 0.8201 - f1_m: 0.8157 - val_loss: 0.4537 - val_acc: 0.8657 - val_f1_m: 0.8643\n",
            "Epoch 11/100\n",
            "8399/8399 [==============================] - 1s 124us/step - loss: 0.5895 - acc: 0.8182 - f1_m: 0.8116 - val_loss: 0.4475 - val_acc: 0.8636 - val_f1_m: 0.8656\n",
            "Epoch 12/100\n",
            "8399/8399 [==============================] - 1s 126us/step - loss: 0.5579 - acc: 0.8287 - f1_m: 0.8250 - val_loss: 0.4271 - val_acc: 0.8768 - val_f1_m: 0.8759\n",
            "Epoch 13/100\n",
            "8399/8399 [==============================] - 1s 126us/step - loss: 0.5384 - acc: 0.8320 - f1_m: 0.8274 - val_loss: 0.4321 - val_acc: 0.8700 - val_f1_m: 0.8761\n",
            "Epoch 14/100\n",
            "8399/8399 [==============================] - 1s 125us/step - loss: 0.5277 - acc: 0.8326 - f1_m: 0.8301 - val_loss: 0.4200 - val_acc: 0.8746 - val_f1_m: 0.8767\n",
            "Epoch 15/100\n",
            "8399/8399 [==============================] - 1s 122us/step - loss: 0.5114 - acc: 0.8384 - f1_m: 0.8383 - val_loss: 0.4055 - val_acc: 0.8757 - val_f1_m: 0.8817\n",
            "Epoch 16/100\n",
            "8399/8399 [==============================] - 1s 123us/step - loss: 0.5098 - acc: 0.8393 - f1_m: 0.8343 - val_loss: 0.4060 - val_acc: 0.8764 - val_f1_m: 0.8801\n",
            "Epoch 17/100\n",
            "8399/8399 [==============================] - 1s 120us/step - loss: 0.5098 - acc: 0.8362 - f1_m: 0.8337 - val_loss: 0.4014 - val_acc: 0.8825 - val_f1_m: 0.8810\n",
            "Epoch 18/100\n",
            "8399/8399 [==============================] - 1s 124us/step - loss: 0.4816 - acc: 0.8471 - f1_m: 0.8451 - val_loss: 0.4353 - val_acc: 0.8725 - val_f1_m: 0.8740\n",
            "Epoch 19/100\n",
            "8399/8399 [==============================] - 1s 123us/step - loss: 0.4847 - acc: 0.8443 - f1_m: 0.8409 - val_loss: 0.3943 - val_acc: 0.8786 - val_f1_m: 0.8813\n",
            "Epoch 20/100\n",
            "8399/8399 [==============================] - 1s 123us/step - loss: 0.4851 - acc: 0.8447 - f1_m: 0.8429 - val_loss: 0.3909 - val_acc: 0.8818 - val_f1_m: 0.8886\n",
            "Epoch 21/100\n",
            "8399/8399 [==============================] - 1s 120us/step - loss: 0.4737 - acc: 0.8491 - f1_m: 0.8464 - val_loss: 0.4052 - val_acc: 0.8757 - val_f1_m: 0.8820\n",
            "Epoch 22/100\n",
            "8399/8399 [==============================] - 1s 124us/step - loss: 0.4512 - acc: 0.8575 - f1_m: 0.8549 - val_loss: 0.3892 - val_acc: 0.8829 - val_f1_m: 0.8876\n",
            "Epoch 23/100\n",
            "8399/8399 [==============================] - 1s 124us/step - loss: 0.4650 - acc: 0.8545 - f1_m: 0.8528 - val_loss: 0.3970 - val_acc: 0.8811 - val_f1_m: 0.8862\n",
            "Epoch 24/100\n",
            "8399/8399 [==============================] - 1s 127us/step - loss: 0.4610 - acc: 0.8561 - f1_m: 0.8540 - val_loss: 0.3843 - val_acc: 0.8807 - val_f1_m: 0.8865\n",
            "Epoch 25/100\n",
            "8399/8399 [==============================] - 1s 119us/step - loss: 0.4355 - acc: 0.8634 - f1_m: 0.8623 - val_loss: 0.3776 - val_acc: 0.8836 - val_f1_m: 0.8860\n",
            "Epoch 26/100\n",
            "8399/8399 [==============================] - 1s 125us/step - loss: 0.4337 - acc: 0.8630 - f1_m: 0.8622 - val_loss: 0.3905 - val_acc: 0.8839 - val_f1_m: 0.8844\n",
            "Epoch 27/100\n",
            "8399/8399 [==============================] - 1s 129us/step - loss: 0.4402 - acc: 0.8617 - f1_m: 0.8614 - val_loss: 0.3662 - val_acc: 0.8864 - val_f1_m: 0.8911\n",
            "Epoch 28/100\n",
            "8399/8399 [==============================] - 1s 123us/step - loss: 0.4234 - acc: 0.8659 - f1_m: 0.8649 - val_loss: 0.3715 - val_acc: 0.8896 - val_f1_m: 0.8915\n",
            "Epoch 29/100\n",
            "8399/8399 [==============================] - 1s 128us/step - loss: 0.4207 - acc: 0.8693 - f1_m: 0.8692 - val_loss: 0.3769 - val_acc: 0.8864 - val_f1_m: 0.8882\n",
            "Epoch 30/100\n",
            "8399/8399 [==============================] - 1s 125us/step - loss: 0.4073 - acc: 0.8726 - f1_m: 0.8733 - val_loss: 0.3644 - val_acc: 0.8907 - val_f1_m: 0.8935\n",
            "Epoch 31/100\n",
            "8399/8399 [==============================] - 1s 113us/step - loss: 0.4211 - acc: 0.8712 - f1_m: 0.8702 - val_loss: 0.3695 - val_acc: 0.8864 - val_f1_m: 0.8888\n",
            "Epoch 32/100\n",
            "8399/8399 [==============================] - 1s 126us/step - loss: 0.4221 - acc: 0.8672 - f1_m: 0.8672 - val_loss: 0.3800 - val_acc: 0.8818 - val_f1_m: 0.8874\n",
            "Epoch 33/100\n",
            "8399/8399 [==============================] - 1s 123us/step - loss: 0.4103 - acc: 0.8707 - f1_m: 0.8668 - val_loss: 0.3874 - val_acc: 0.8857 - val_f1_m: 0.8897\n",
            "Epoch 34/100\n",
            "8399/8399 [==============================] - 1s 127us/step - loss: 0.4092 - acc: 0.8709 - f1_m: 0.8699 - val_loss: 0.3731 - val_acc: 0.8882 - val_f1_m: 0.8875\n",
            "Epoch 35/100\n",
            "8399/8399 [==============================] - 1s 122us/step - loss: 0.4132 - acc: 0.8706 - f1_m: 0.8687 - val_loss: 0.3872 - val_acc: 0.8843 - val_f1_m: 0.8857\n",
            "Epoch 36/100\n",
            "8399/8399 [==============================] - 1s 119us/step - loss: 0.4028 - acc: 0.8733 - f1_m: 0.8719 - val_loss: 0.3615 - val_acc: 0.8907 - val_f1_m: 0.8920\n",
            "Epoch 37/100\n",
            "8399/8399 [==============================] - 1s 123us/step - loss: 0.3951 - acc: 0.8751 - f1_m: 0.8752 - val_loss: 0.3631 - val_acc: 0.8907 - val_f1_m: 0.8939\n",
            "Epoch 38/100\n",
            "8399/8399 [==============================] - 1s 126us/step - loss: 0.3849 - acc: 0.8772 - f1_m: 0.8774 - val_loss: 0.3763 - val_acc: 0.8857 - val_f1_m: 0.8871\n",
            "Epoch 39/100\n",
            "8399/8399 [==============================] - 1s 132us/step - loss: 0.3969 - acc: 0.8695 - f1_m: 0.8698 - val_loss: 0.3687 - val_acc: 0.8889 - val_f1_m: 0.8906\n",
            "Epoch 40/100\n",
            "8399/8399 [==============================] - 1s 122us/step - loss: 0.3911 - acc: 0.8761 - f1_m: 0.8778 - val_loss: 0.3748 - val_acc: 0.8918 - val_f1_m: 0.8893\n",
            "Epoch 41/100\n",
            "8399/8399 [==============================] - 1s 123us/step - loss: 0.3809 - acc: 0.8772 - f1_m: 0.8779 - val_loss: 0.3595 - val_acc: 0.8932 - val_f1_m: 0.8960\n",
            "Epoch 42/100\n",
            "8399/8399 [==============================] - 1s 122us/step - loss: 0.3610 - acc: 0.8852 - f1_m: 0.8851 - val_loss: 0.3658 - val_acc: 0.8886 - val_f1_m: 0.8925\n",
            "Epoch 43/100\n",
            "8399/8399 [==============================] - 1s 123us/step - loss: 0.3884 - acc: 0.8777 - f1_m: 0.8770 - val_loss: 0.3630 - val_acc: 0.8946 - val_f1_m: 0.8953\n",
            "Epoch 44/100\n",
            "8399/8399 [==============================] - 1s 126us/step - loss: 0.3733 - acc: 0.8821 - f1_m: 0.8809 - val_loss: 0.3636 - val_acc: 0.8925 - val_f1_m: 0.8951\n",
            "Epoch 45/100\n",
            "8399/8399 [==============================] - 1s 122us/step - loss: 0.3743 - acc: 0.8793 - f1_m: 0.8806 - val_loss: 0.3695 - val_acc: 0.8961 - val_f1_m: 0.8981\n",
            "Epoch 46/100\n",
            "8399/8399 [==============================] - 1s 124us/step - loss: 0.3792 - acc: 0.8781 - f1_m: 0.8791 - val_loss: 0.3540 - val_acc: 0.8961 - val_f1_m: 0.9006\n",
            "Epoch 47/100\n",
            "8399/8399 [==============================] - 1s 127us/step - loss: 0.3555 - acc: 0.8856 - f1_m: 0.8857 - val_loss: 0.3574 - val_acc: 0.8921 - val_f1_m: 0.8951\n",
            "Epoch 48/100\n",
            "8399/8399 [==============================] - 1s 132us/step - loss: 0.3687 - acc: 0.8821 - f1_m: 0.8824 - val_loss: 0.3593 - val_acc: 0.8914 - val_f1_m: 0.8953\n",
            "Epoch 49/100\n",
            "8399/8399 [==============================] - 1s 130us/step - loss: 0.3696 - acc: 0.8824 - f1_m: 0.8827 - val_loss: 0.3599 - val_acc: 0.8914 - val_f1_m: 0.8947\n",
            "Epoch 50/100\n",
            "8399/8399 [==============================] - 1s 129us/step - loss: 0.3657 - acc: 0.8850 - f1_m: 0.8840 - val_loss: 0.3773 - val_acc: 0.8893 - val_f1_m: 0.8931\n",
            "Epoch 51/100\n",
            "8399/8399 [==============================] - 1s 131us/step - loss: 0.3543 - acc: 0.8888 - f1_m: 0.8876 - val_loss: 0.3691 - val_acc: 0.8907 - val_f1_m: 0.8934\n",
            "Epoch 52/100\n",
            "8399/8399 [==============================] - 1s 127us/step - loss: 0.3814 - acc: 0.8820 - f1_m: 0.8814 - val_loss: 0.3588 - val_acc: 0.8925 - val_f1_m: 0.8955\n"
          ],
          "name": "stdout"
        }
      ]
    },
    {
      "cell_type": "markdown",
      "metadata": {
        "id": "UDrdvtxzgIFq",
        "colab_type": "text"
      },
      "source": [
        "Definisco la funzione per stampare i grafici"
      ]
    },
    {
      "cell_type": "code",
      "metadata": {
        "id": "7MvHH76AgHmu",
        "colab_type": "code",
        "outputId": "795c5548-cc53-4aaa-c94c-11ac6ede4795",
        "colab": {
          "base_uri": "https://localhost:8080/",
          "height": 803
        }
      },
      "source": [
        "x_plot = list(range(1,history.epoch[-1]+2))\n",
        "\n",
        "def plot_history(network_history):\n",
        "    plt.figure()\n",
        "    plt.xlabel('Epochs')\n",
        "    plt.ylabel('Loss')\n",
        "    plt.plot(x_plot, network_history.history['loss'])\n",
        "    plt.plot(x_plot, network_history.history['val_loss'])\n",
        "    plt.legend(['Training', 'Validation'])\n",
        "    \n",
        "    plt.figure()\n",
        "    plt.xlabel('Epochs')\n",
        "    plt.ylabel('Accuracy')\n",
        "    plt.plot(x_plot, network_history.history['acc'])\n",
        "    plt.plot(x_plot, network_history.history['val_acc'])\n",
        "    plt.legend(['Training', 'Validation'])\n",
        "\n",
        "    plt.figure()\n",
        "    plt.xlabel('Epochs')\n",
        "    plt.ylabel('F1')\n",
        "    plt.plot(x_plot, network_history.history['f1_m'])\n",
        "    plt.plot(x_plot, network_history.history['val_f1_m'])\n",
        "    plt.legend(['Training', 'Validation'], loc='lower right')\n",
        "    plt.show()\n",
        "    \n",
        "plot_history(history)"
      ],
      "execution_count": 30,
      "outputs": [
        {
          "output_type": "display_data",
          "data": {
            "image/png": "[encoded data removed]",
            "text/plain": [
              "<Figure size 432x288 with 1 Axes>"
            ]
          },
          "metadata": {
            "tags": []
          }
        },
        {
          "output_type": "display_data",
          "data": {
            "image/png": "[encoded data removed]",
            "text/plain": [
              "<Figure size 432x288 with 1 Axes>"
            ]
          },
          "metadata": {
            "tags": []
          }
        },
        {
          "output_type": "display_data",
          "data": {
            "image/png": "[encoded data removed]",
            "text/plain": [
              "<Figure size 432x288 with 1 Axes>"
            ]
          },
          "metadata": {
            "tags": []
          }
        }
      ]
    },
    {
      "cell_type": "markdown",
      "metadata": {
        "id": "LnJeLzBYvre6",
        "colab_type": "text"
      },
      "source": [
        "Valutazione delle metriche sul Test Set"
      ]
    },
    {
      "cell_type": "code",
      "metadata": {
        "id": "FNi-DLIVTxNv",
        "colab_type": "code",
        "outputId": "aa4bb9d6-16e6-4bfb-a913-b33eb8375145",
        "colab": {
          "base_uri": "https://localhost:8080/",
          "height": 84
        }
      },
      "source": [
        "test_loss, test_acc, F1 = model.evaluate(X_test, y_test, batch_size=64)\n",
        "print(\"TEST LOSS:\", test_loss)\n",
        "print(\"TEST ACCURACY:\", test_acc)\n",
        "print(\"TEST F1:\", F1)"
      ],
      "execution_count": 31,
      "outputs": [
        {
          "output_type": "stream",
          "text": [
            "2800/2800 [==============================] - 0s 42us/step\n",
            "TEST LOSS: 0.3222558397906167\n",
            "TEST ACCURACY: 0.9078571428571428\n",
            "TEST F1: 0.9111015261922564\n"
          ],
          "name": "stdout"
        }
      ]
    },
    {
      "cell_type": "markdown",
      "metadata": {
        "id": "Zv0_s7Emv0oQ",
        "colab_type": "text"
      },
      "source": [
        "Si effettua una previsione dei valori di X_test per poterli inserire nel file di consegna"
      ]
    },
    {
      "cell_type": "code",
      "metadata": {
        "id": "ptrpHRIyjoYB",
        "colab_type": "code",
        "colab": {}
      },
      "source": [
        "previsioni = model.predict_classes(X_test)"
      ],
      "execution_count": 0,
      "outputs": []
    },
    {
      "cell_type": "code",
      "metadata": {
        "id": "vpktS4AWlNj8",
        "colab_type": "code",
        "colab": {}
      },
      "source": [
        "previsioni = previsioni + 16"
      ],
      "execution_count": 0,
      "outputs": []
    },
    {
      "cell_type": "code",
      "metadata": {
        "id": "Y-LQCZEQGlv-",
        "colab_type": "code",
        "colab": {}
      },
      "source": [
        "y_test = np.argmax(y_test, axis = 1)"
      ],
      "execution_count": 0,
      "outputs": []
    },
    {
      "cell_type": "code",
      "metadata": {
        "id": "bKcdIjdWlP8e",
        "colab_type": "code",
        "outputId": "0755eb27-2f87-4a5a-8372-4e3749ca6097",
        "colab": {
          "base_uri": "https://localhost:8080/",
          "height": 33
        }
      },
      "source": [
        "previsioni"
      ],
      "execution_count": 35,
      "outputs": [
        {
          "output_type": "execute_result",
          "data": {
            "text/plain": [
              "array([24, 22, 21, ..., 20, 20, 16])"
            ]
          },
          "metadata": {
            "tags": []
          },
          "execution_count": 35
        }
      ]
    },
    {
      "cell_type": "code",
      "metadata": {
        "id": "aa2SYwfRlVuG",
        "colab_type": "code",
        "colab": {}
      },
      "source": [
        "y_test = y_test + 16"
      ],
      "execution_count": 0,
      "outputs": []
    },
    {
      "cell_type": "code",
      "metadata": {
        "id": "STrNcj_EIBfu",
        "colab_type": "code",
        "outputId": "d053729d-a8cc-4bb9-d117-31b38b8c8773",
        "colab": {
          "base_uri": "https://localhost:8080/",
          "height": 33
        }
      },
      "source": [
        "y_test"
      ],
      "execution_count": 37,
      "outputs": [
        {
          "output_type": "execute_result",
          "data": {
            "text/plain": [
              "array([24, 22, 21, ..., 20, 20, 16])"
            ]
          },
          "metadata": {
            "tags": []
          },
          "execution_count": 37
        }
      ]
    },
    {
      "cell_type": "markdown",
      "metadata": {
        "id": "iUxdShnAj6-I",
        "colab_type": "text"
      },
      "source": [
        "Valutazione delle metriche pesate:"
      ]
    },
    {
      "cell_type": "code",
      "metadata": {
        "id": "2ZB7dPUWj6pE",
        "colab_type": "code",
        "outputId": "b40cdcc0-1f93-412b-f202-75351e2bca5c",
        "colab": {
          "base_uri": "https://localhost:8080/",
          "height": 318
        }
      },
      "source": [
        "print(classification_report(previsioni, y_test))"
      ],
      "execution_count": 38,
      "outputs": [
        {
          "output_type": "stream",
          "text": [
            "              precision    recall  f1-score   support\n",
            "\n",
            "          16       0.92      0.93      0.93       256\n",
            "          17       0.88      0.92      0.90       259\n",
            "          18       0.89      0.91      0.90       279\n",
            "          19       0.95      0.98      0.96       276\n",
            "          20       0.91      0.92      0.91       261\n",
            "          21       0.95      0.87      0.91       280\n",
            "          22       0.86      0.87      0.86       220\n",
            "          23       0.93      0.93      0.93       258\n",
            "          24       0.91      0.91      0.91       252\n",
            "          25       0.91      0.84      0.87       285\n",
            "          26       0.89      0.92      0.91       174\n",
            "\n",
            "    accuracy                           0.91      2800\n",
            "   macro avg       0.91      0.91      0.91      2800\n",
            "weighted avg       0.91      0.91      0.91      2800\n",
            "\n"
          ],
          "name": "stdout"
        }
      ]
    },
    {
      "cell_type": "markdown",
      "metadata": {
        "id": "ZJqMdCCyQO30",
        "colab_type": "text"
      },
      "source": [
        "Trasformo y_test per riportarlo al valore one-hot per una futura classificazione (Autoencoder + NN)"
      ]
    },
    {
      "cell_type": "code",
      "metadata": {
        "id": "-8tfgQTeQbmV",
        "colab_type": "code",
        "colab": {}
      },
      "source": [
        "y_test = y_test - 16\n",
        "y_test = to_categorical(y_test)"
      ],
      "execution_count": 0,
      "outputs": []
    },
    {
      "cell_type": "markdown",
      "metadata": {
        "id": "iEBZ5aCWmyHL",
        "colab_type": "text"
      },
      "source": [
        "## Previsioni sul Test Set (x_test) e scrittura dei risultati su file"
      ]
    },
    {
      "cell_type": "code",
      "metadata": {
        "id": "HJexnGzhko4U",
        "colab_type": "code",
        "colab": {}
      },
      "source": [
        "results = model.predict_classes(x_test)"
      ],
      "execution_count": 0,
      "outputs": []
    },
    {
      "cell_type": "code",
      "metadata": {
        "id": "6HjCnLIRnAiR",
        "colab_type": "code",
        "outputId": "8a9ca491-9b72-4580-cd52-36afe49fdac9",
        "colab": {
          "base_uri": "https://localhost:8080/",
          "height": 33
        }
      },
      "source": [
        "results = results + 16\n",
        "results"
      ],
      "execution_count": 41,
      "outputs": [
        {
          "output_type": "execute_result",
          "data": {
            "text/plain": [
              "array([22, 26, 25, ..., 22, 23, 20])"
            ]
          },
          "metadata": {
            "tags": []
          },
          "execution_count": 41
        }
      ]
    },
    {
      "cell_type": "code",
      "metadata": {
        "id": "kK_SBmTaoiNb",
        "colab_type": "code",
        "outputId": "95f2f0e8-1147-4812-8cd5-5da92e05b86c",
        "colab": {
          "base_uri": "https://localhost:8080/",
          "height": 33
        }
      },
      "source": [
        "results = results.tolist()\n",
        "results[0:10]"
      ],
      "execution_count": 42,
      "outputs": [
        {
          "output_type": "execute_result",
          "data": {
            "text/plain": [
              "[22, 26, 25, 19, 25, 17, 21, 16, 19, 22]"
            ]
          },
          "metadata": {
            "tags": []
          },
          "execution_count": 42
        }
      ]
    },
    {
      "cell_type": "markdown",
      "metadata": {
        "id": "4yvewIsanFKq",
        "colab_type": "text"
      },
      "source": [
        "Scrivo il risultato su file"
      ]
    },
    {
      "cell_type": "code",
      "metadata": {
        "id": "hzq-JUiRnH_j",
        "colab_type": "code",
        "colab": {}
      },
      "source": [
        "risultati = []\n",
        "for i in results:\n",
        "    risultati.append(i)\n",
        "with open(\"Paolo_Mariani_800307_score2.txt\", \"w\") as f:\n",
        "    for i in risultati:\n",
        "        f.write(\"%s\\n\" % str(i))"
      ],
      "execution_count": 0,
      "outputs": []
    },
    {
      "cell_type": "code",
      "metadata": {
        "id": "CiG_uOoFnyv_",
        "colab_type": "code",
        "outputId": "0c07d0de-56ee-4d3c-da7e-7d2897a22da0",
        "colab": {
          "base_uri": "https://localhost:8080/",
          "height": 196
        }
      },
      "source": [
        "a = pd.read_csv(\"Paolo_Mariani_800307_score2.txt\", header=None)\n",
        "a.head()"
      ],
      "execution_count": 44,
      "outputs": [
        {
          "output_type": "execute_result",
          "data": {
            "text/html": [
              "<div>\n",
              "<style scoped>\n",
              "    .dataframe tbody tr th:only-of-type {\n",
              "        vertical-align: middle;\n",
              "    }\n",
              "\n",
              "    .dataframe tbody tr th {\n",
              "        vertical-align: top;\n",
              "    }\n",
              "\n",
              "    .dataframe thead th {\n",
              "        text-align: right;\n",
              "    }\n",
              "</style>\n",
              "<table border=\"1\" class=\"dataframe\">\n",
              "  <thead>\n",
              "    <tr style=\"text-align: right;\">\n",
              "      <th></th>\n",
              "      <th>0</th>\n",
              "    </tr>\n",
              "  </thead>\n",
              "  <tbody>\n",
              "    <tr>\n",
              "      <th>0</th>\n",
              "      <td>22</td>\n",
              "    </tr>\n",
              "    <tr>\n",
              "      <th>1</th>\n",
              "      <td>26</td>\n",
              "    </tr>\n",
              "    <tr>\n",
              "      <th>2</th>\n",
              "      <td>25</td>\n",
              "    </tr>\n",
              "    <tr>\n",
              "      <th>3</th>\n",
              "      <td>19</td>\n",
              "    </tr>\n",
              "    <tr>\n",
              "      <th>4</th>\n",
              "      <td>25</td>\n",
              "    </tr>\n",
              "  </tbody>\n",
              "</table>\n",
              "</div>"
            ],
            "text/plain": [
              "    0\n",
              "0  22\n",
              "1  26\n",
              "2  25\n",
              "3  19\n",
              "4  25"
            ]
          },
          "metadata": {
            "tags": []
          },
          "execution_count": 44
        }
      ]
    },
    {
      "cell_type": "markdown",
      "metadata": {
        "id": "WCdNz3c_jW_t",
        "colab_type": "text"
      },
      "source": [
        "# Parte Due: Autoencoder"
      ]
    },
    {
      "cell_type": "markdown",
      "metadata": {
        "id": "zIcm7SsLlVRx",
        "colab_type": "text"
      },
      "source": [
        "Normalizzazione valori dei pixel"
      ]
    },
    {
      "cell_type": "code",
      "metadata": {
        "id": "s-YIQllWMpmy",
        "colab_type": "code",
        "colab": {}
      },
      "source": [
        "x_train = x_train/255\n",
        "x_test = x_test/255"
      ],
      "execution_count": 0,
      "outputs": []
    },
    {
      "cell_type": "markdown",
      "metadata": {
        "id": "iab4UGXAlvbi",
        "colab_type": "text"
      },
      "source": [
        "Trasformazione in vettore delle immagini"
      ]
    },
    {
      "cell_type": "code",
      "metadata": {
        "id": "NI9KzDHCMzfy",
        "colab_type": "code",
        "colab": {}
      },
      "source": [
        "x_train = x_train.reshape((len(x_train), np.prod(x_train.shape[1:])))\n",
        "x_test= x_test.reshape((len(x_test), np.prod(x_test.shape[1:])))"
      ],
      "execution_count": 0,
      "outputs": []
    },
    {
      "cell_type": "markdown",
      "metadata": {
        "id": "NEyHNwFxnp_w",
        "colab_type": "text"
      },
      "source": [
        "## Modello"
      ]
    },
    {
      "cell_type": "code",
      "metadata": {
        "id": "iQgmXLXD36hi",
        "colab_type": "code",
        "colab": {}
      },
      "source": [
        "input_img = Input(shape=(784,))\n",
        "encoded1 = Dense(392, activation='relu')(input_img)\n",
        "encoded2 = Dense(196, activation='relu')(encoded1)\n",
        "encoded3 = Dense(98, activation='relu')(encoded2)\n",
        "encoded4 = Dense(49, activation='relu')(encoded3)\n",
        "\n",
        "decoded1 = Dense(98, activation='relu')(encoded4)\n",
        "decoded2 = Dense(196, activation='relu')(decoded1)\n",
        "decoded3 = Dense(392, activation='relu')(decoded2)\n",
        "decoded4 = Dense(784, activation='sigmoid')(decoded3)"
      ],
      "execution_count": 0,
      "outputs": []
    },
    {
      "cell_type": "markdown",
      "metadata": {
        "id": "IOqCbDr24g_h",
        "colab_type": "text"
      },
      "source": [
        "### Autoencoder\n",
        "(Completo)"
      ]
    },
    {
      "cell_type": "code",
      "metadata": {
        "id": "Plxs7o-G4jTb",
        "colab_type": "code",
        "colab": {}
      },
      "source": [
        "autoencoder = Model(input_img, decoded4)\n",
        "autoencoder.compile(optimizer='adam', loss='MSE')"
      ],
      "execution_count": 0,
      "outputs": []
    },
    {
      "cell_type": "markdown",
      "metadata": {
        "id": "IudzfqMy1ieL",
        "colab_type": "text"
      },
      "source": [
        "### Encoder \n",
        "(Parziale solo di codifica)"
      ]
    },
    {
      "cell_type": "code",
      "metadata": {
        "id": "y2Uilwls1hxN",
        "colab_type": "code",
        "colab": {}
      },
      "source": [
        "encoder = Model(input_img, encoded4)"
      ],
      "execution_count": 0,
      "outputs": []
    },
    {
      "cell_type": "markdown",
      "metadata": {
        "id": "O2SUwMTFRHbh",
        "colab_type": "text"
      },
      "source": [
        "### Decoder\n",
        "(Parziale solo di decodifica)"
      ]
    },
    {
      "cell_type": "code",
      "metadata": {
        "id": "Wy4CuC0YRG7H",
        "colab_type": "code",
        "colab": {}
      },
      "source": [
        "encoding_dim = 49\n",
        "encoded_input = Input(shape=(encoding_dim,))\n",
        "dec = autoencoder.layers[-4](encoded_input)\n",
        "dec = autoencoder.layers[-3](dec)\n",
        "dec = autoencoder.layers[-2](dec)\n",
        "dec = autoencoder.layers[-1](dec)\n",
        "decoder = Model(encoded_input, dec)"
      ],
      "execution_count": 0,
      "outputs": []
    },
    {
      "cell_type": "markdown",
      "metadata": {
        "id": "_JRV-JmYr5Vs",
        "colab_type": "text"
      },
      "source": [
        "## Autoencoder Fit"
      ]
    },
    {
      "cell_type": "code",
      "metadata": {
        "id": "9ODBbP16MpUf",
        "colab_type": "code",
        "outputId": "ac0372bc-9f63-4819-e39d-8f6fc825e7dc",
        "colab": {
          "base_uri": "https://localhost:8080/",
          "height": 719
        }
      },
      "source": [
        "autoencoder.fit(X_train, X_train,\n",
        "                epochs=20,\n",
        "                batch_size=64,\n",
        "                shuffle=True,\n",
        "                validation_data = (X_test, X_test))"
      ],
      "execution_count": 51,
      "outputs": [
        {
          "output_type": "stream",
          "text": [
            "Train on 11199 samples, validate on 2800 samples\n",
            "Epoch 1/20\n",
            "11199/11199 [==============================] - 2s 223us/step - loss: 0.0754 - val_loss: 0.0505\n",
            "Epoch 2/20\n",
            "11199/11199 [==============================] - 2s 170us/step - loss: 0.0395 - val_loss: 0.0337\n",
            "Epoch 3/20\n",
            "11199/11199 [==============================] - 2s 172us/step - loss: 0.0290 - val_loss: 0.0265\n",
            "Epoch 4/20\n",
            "11199/11199 [==============================] - 2s 173us/step - loss: 0.0239 - val_loss: 0.0227\n",
            "Epoch 5/20\n",
            "11199/11199 [==============================] - 2s 169us/step - loss: 0.0210 - val_loss: 0.0214\n",
            "Epoch 6/20\n",
            "11199/11199 [==============================] - 2s 172us/step - loss: 0.0189 - val_loss: 0.0190\n",
            "Epoch 7/20\n",
            "11199/11199 [==============================] - 2s 171us/step - loss: 0.0174 - val_loss: 0.0186\n",
            "Epoch 8/20\n",
            "11199/11199 [==============================] - 2s 170us/step - loss: 0.0163 - val_loss: 0.0170\n",
            "Epoch 9/20\n",
            "11199/11199 [==============================] - 2s 172us/step - loss: 0.0155 - val_loss: 0.0163\n",
            "Epoch 10/20\n",
            "11199/11199 [==============================] - 2s 169us/step - loss: 0.0148 - val_loss: 0.0159\n",
            "Epoch 11/20\n",
            "11199/11199 [==============================] - 2s 170us/step - loss: 0.0141 - val_loss: 0.0154\n",
            "Epoch 12/20\n",
            "11199/11199 [==============================] - 2s 172us/step - loss: 0.0136 - val_loss: 0.0150\n",
            "Epoch 13/20\n",
            "11199/11199 [==============================] - 2s 168us/step - loss: 0.0130 - val_loss: 0.0147\n",
            "Epoch 14/20\n",
            "11199/11199 [==============================] - 2s 171us/step - loss: 0.0125 - val_loss: 0.0142\n",
            "Epoch 15/20\n",
            "11199/11199 [==============================] - 2s 171us/step - loss: 0.0123 - val_loss: 0.0138\n",
            "Epoch 16/20\n",
            "11199/11199 [==============================] - 2s 168us/step - loss: 0.0119 - val_loss: 0.0139\n",
            "Epoch 17/20\n",
            "11199/11199 [==============================] - 2s 173us/step - loss: 0.0115 - val_loss: 0.0133\n",
            "Epoch 18/20\n",
            "11199/11199 [==============================] - 2s 172us/step - loss: 0.0112 - val_loss: 0.0131\n",
            "Epoch 19/20\n",
            "11199/11199 [==============================] - 2s 170us/step - loss: 0.0109 - val_loss: 0.0128\n",
            "Epoch 20/20\n",
            "11199/11199 [==============================] - 2s 172us/step - loss: 0.0106 - val_loss: 0.0129\n"
          ],
          "name": "stdout"
        },
        {
          "output_type": "execute_result",
          "data": {
            "text/plain": [
              "<keras.callbacks.History at 0x7fe23d8ae908>"
            ]
          },
          "metadata": {
            "tags": []
          },
          "execution_count": 51
        }
      ]
    },
    {
      "cell_type": "code",
      "metadata": {
        "id": "Sd2fcnISMD9G",
        "colab_type": "code",
        "outputId": "9c820b95-9559-4f9a-96a8-9f04a765719a",
        "colab": {
          "base_uri": "https://localhost:8080/",
          "height": 452
        }
      },
      "source": [
        "autoencoder.summary()"
      ],
      "execution_count": 52,
      "outputs": [
        {
          "output_type": "stream",
          "text": [
            "Model: \"model_1\"\n",
            "_________________________________________________________________\n",
            "Layer (type)                 Output Shape              Param #   \n",
            "=================================================================\n",
            "input_1 (InputLayer)         (None, 784)               0         \n",
            "_________________________________________________________________\n",
            "dense_5 (Dense)              (None, 392)               307720    \n",
            "_________________________________________________________________\n",
            "dense_6 (Dense)              (None, 196)               77028     \n",
            "_________________________________________________________________\n",
            "dense_7 (Dense)              (None, 98)                19306     \n",
            "_________________________________________________________________\n",
            "dense_8 (Dense)              (None, 49)                4851      \n",
            "_________________________________________________________________\n",
            "dense_9 (Dense)              (None, 98)                4900      \n",
            "_________________________________________________________________\n",
            "dense_10 (Dense)             (None, 196)               19404     \n",
            "_________________________________________________________________\n",
            "dense_11 (Dense)             (None, 392)               77224     \n",
            "_________________________________________________________________\n",
            "dense_12 (Dense)             (None, 784)               308112    \n",
            "=================================================================\n",
            "Total params: 818,545\n",
            "Trainable params: 818,545\n",
            "Non-trainable params: 0\n",
            "_________________________________________________________________\n"
          ],
          "name": "stdout"
        }
      ]
    },
    {
      "cell_type": "markdown",
      "metadata": {
        "id": "kGQGivEq44Bm",
        "colab_type": "text"
      },
      "source": [
        "## Visualizzazione del risultato della decodifica con Autoencoder"
      ]
    },
    {
      "cell_type": "code",
      "metadata": {
        "id": "n7XQUtJo43i5",
        "colab_type": "code",
        "outputId": "f424c230-cefc-4e6a-8da0-d0cb4ef9467a",
        "colab": {
          "base_uri": "https://localhost:8080/",
          "height": 200
        }
      },
      "source": [
        "decoded_imgs = autoencoder.predict(X_test, batch_size=64)\n",
        "\n",
        "n = 20\n",
        "plt.figure(figsize=(20, 4))\n",
        "for i in range(n):\n",
        "    # original\n",
        "    ax = plt.subplot(2, n, i + 1)\n",
        "    plt.imshow(X_test[i].reshape(28, 28))\n",
        "    plt.gray()\n",
        "    ax.get_xaxis().set_visible(False)\n",
        "    ax.get_yaxis().set_visible(False)\n",
        "\n",
        "    # reconstruction\n",
        "    ax = plt.subplot(2, n, i + 1 + n)\n",
        "    plt.imshow(decoded_imgs[i].reshape(28, 28))\n",
        "    plt.gray()\n",
        "    ax.get_xaxis().set_visible(False)\n",
        "    ax.get_yaxis().set_visible(False)\n",
        "plt.show()"
      ],
      "execution_count": 53,
      "outputs": [
        {
          "output_type": "display_data",
          "data": {
            "image/png": "[encoded data removed]",
            "text/plain": [
              "<Figure size 1440x288 with 40 Axes>"
            ]
          },
          "metadata": {
            "tags": []
          }
        }
      ]
    },
    {
      "cell_type": "markdown",
      "metadata": {
        "id": "oK5qeiNW12Lf",
        "colab_type": "text"
      },
      "source": [
        "### Encoder fit"
      ]
    },
    {
      "cell_type": "code",
      "metadata": {
        "id": "VLRYpe6D2MMG",
        "colab_type": "code",
        "colab": {}
      },
      "source": [
        "encoder.compile(optimizer='adam', loss='MSE')"
      ],
      "execution_count": 0,
      "outputs": []
    },
    {
      "cell_type": "code",
      "metadata": {
        "id": "T2GC0F7u2W6j",
        "colab_type": "code",
        "outputId": "ae51cb73-24a1-457b-ab36-457551825908",
        "colab": {
          "base_uri": "https://localhost:8080/",
          "height": 318
        }
      },
      "source": [
        "encoder.summary()"
      ],
      "execution_count": 55,
      "outputs": [
        {
          "output_type": "stream",
          "text": [
            "Model: \"model_2\"\n",
            "_________________________________________________________________\n",
            "Layer (type)                 Output Shape              Param #   \n",
            "=================================================================\n",
            "input_1 (InputLayer)         (None, 784)               0         \n",
            "_________________________________________________________________\n",
            "dense_5 (Dense)              (None, 392)               307720    \n",
            "_________________________________________________________________\n",
            "dense_6 (Dense)              (None, 196)               77028     \n",
            "_________________________________________________________________\n",
            "dense_7 (Dense)              (None, 98)                19306     \n",
            "_________________________________________________________________\n",
            "dense_8 (Dense)              (None, 49)                4851      \n",
            "=================================================================\n",
            "Total params: 408,905\n",
            "Trainable params: 408,905\n",
            "Non-trainable params: 0\n",
            "_________________________________________________________________\n"
          ],
          "name": "stdout"
        }
      ]
    },
    {
      "cell_type": "code",
      "metadata": {
        "id": "Qj4I-kJh11v9",
        "colab_type": "code",
        "colab": {}
      },
      "source": [
        "codifica_train = encoder.predict(X_train)"
      ],
      "execution_count": 0,
      "outputs": []
    },
    {
      "cell_type": "markdown",
      "metadata": {
        "colab_type": "text",
        "id": "5I8PODChNXtx"
      },
      "source": [
        "# Parte Tre: classificazione con Rete Neurale su input codificato (generato dall'Encoder)"
      ]
    },
    {
      "cell_type": "markdown",
      "metadata": {
        "id": "c-1GaQxDzXPP",
        "colab_type": "text"
      },
      "source": [
        "Sfrutto la codifica generata al punto precedente e presentata con le immagini che seguono:"
      ]
    },
    {
      "cell_type": "code",
      "metadata": {
        "id": "1yfHSQebzq2y",
        "colab_type": "code",
        "outputId": "f8057dbc-7dcd-45a8-c153-fc6e5b3bfae9",
        "colab": {
          "base_uri": "https://localhost:8080/",
          "height": 200
        }
      },
      "source": [
        "n = 20\n",
        "plt.figure(figsize=(20, 4))\n",
        "for i in range(n):\n",
        "    # original\n",
        "    ax = plt.subplot(2, n, i + 1)\n",
        "    plt.imshow(X_test[i].reshape(28, 28))\n",
        "    plt.gray()\n",
        "    ax.get_xaxis().set_visible(False)\n",
        "    ax.get_yaxis().set_visible(False)\n",
        "\n",
        "    # reconstruction\n",
        "    ax = plt.subplot(2, n, i + 1 + n)\n",
        "    plt.imshow(codifica_train[i].reshape(7, 7))\n",
        "    plt.gray()\n",
        "    ax.get_xaxis().set_visible(False)\n",
        "    ax.get_yaxis().set_visible(False)\n",
        "plt.show()"
      ],
      "execution_count": 57,
      "outputs": [
        {
          "output_type": "display_data",
          "data": {
            "image/png": "[encoded data removed]",
            "text/plain": [
              "<Figure size 1440x288 with 40 Axes>"
            ]
          },
          "metadata": {
            "tags": []
          }
        }
      ]
    },
    {
      "cell_type": "markdown",
      "metadata": {
        "id": "1BrxbdW8zt1A",
        "colab_type": "text"
      },
      "source": [
        "Replico la Rete Neurale già implementata fornendo in input una dimensione diversa (49 pixel)"
      ]
    },
    {
      "cell_type": "code",
      "metadata": {
        "id": "IyHy2UzL3Ii9",
        "colab_type": "code",
        "colab": {}
      },
      "source": [
        "ncol = codifica_train.shape[1]"
      ],
      "execution_count": 0,
      "outputs": []
    },
    {
      "cell_type": "code",
      "metadata": {
        "id": "GMprmqOA3mTA",
        "colab_type": "code",
        "colab": {}
      },
      "source": [
        "classitarget = 11\n",
        "\n",
        "model = Sequential()\n",
        "model.add(Dense(128, input_shape=(ncol,)))\n",
        "model.add(Dropout(0.4))\n",
        "model.add(Dense(64, activation='relu'))\n",
        "model.add(Dropout(0.3))\n",
        "model.add(Dense(64, activation='relu'))\n",
        "model.add(Dropout(0.2))\n",
        "model.add(Dense(classitarget, activation='softmax'))"
      ],
      "execution_count": 0,
      "outputs": []
    },
    {
      "cell_type": "code",
      "metadata": {
        "id": "9yApav4L3xjV",
        "colab_type": "code",
        "outputId": "2d02ab93-1e39-41f3-f084-9453cc2b2647",
        "colab": {
          "base_uri": "https://localhost:8080/",
          "height": 385
        }
      },
      "source": [
        "model.summary()"
      ],
      "execution_count": 60,
      "outputs": [
        {
          "output_type": "stream",
          "text": [
            "Model: \"sequential_2\"\n",
            "_________________________________________________________________\n",
            "Layer (type)                 Output Shape              Param #   \n",
            "=================================================================\n",
            "dense_13 (Dense)             (None, 128)               6400      \n",
            "_________________________________________________________________\n",
            "dropout_4 (Dropout)          (None, 128)               0         \n",
            "_________________________________________________________________\n",
            "dense_14 (Dense)             (None, 64)                8256      \n",
            "_________________________________________________________________\n",
            "dropout_5 (Dropout)          (None, 64)                0         \n",
            "_________________________________________________________________\n",
            "dense_15 (Dense)             (None, 64)                4160      \n",
            "_________________________________________________________________\n",
            "dropout_6 (Dropout)          (None, 64)                0         \n",
            "_________________________________________________________________\n",
            "dense_16 (Dense)             (None, 11)                715       \n",
            "=================================================================\n",
            "Total params: 19,531\n",
            "Trainable params: 19,531\n",
            "Non-trainable params: 0\n",
            "_________________________________________________________________\n"
          ],
          "name": "stdout"
        }
      ]
    },
    {
      "cell_type": "code",
      "metadata": {
        "id": "pMrnM7rU30V9",
        "colab_type": "code",
        "colab": {}
      },
      "source": [
        "model.compile(optimizer='adam', loss='categorical_crossentropy', metrics=['accuracy', f1_m])"
      ],
      "execution_count": 0,
      "outputs": []
    },
    {
      "cell_type": "code",
      "metadata": {
        "id": "SC9qPDWz3_8I",
        "colab_type": "code",
        "outputId": "4b5b536c-3ef1-4f07-f513-23d128be3be8",
        "colab": {
          "base_uri": "https://localhost:8080/",
          "height": 1000
        }
      },
      "source": [
        "history = model.fit(codifica_train, y_train, epochs=100, validation_split = 0.25, batch_size=64, verbose=True, callbacks=[stop])"
      ],
      "execution_count": 62,
      "outputs": [
        {
          "output_type": "stream",
          "text": [
            "Train on 8399 samples, validate on 2800 samples\n",
            "Epoch 1/100\n",
            "8399/8399 [==============================] - 1s 172us/step - loss: 2.5959 - acc: 0.1795 - f1_m: 0.0466 - val_loss: 1.7892 - val_acc: 0.4629 - val_f1_m: 0.0447\n",
            "Epoch 2/100\n",
            "8399/8399 [==============================] - 1s 107us/step - loss: 1.6775 - acc: 0.4258 - f1_m: 0.3207 - val_loss: 0.9861 - val_acc: 0.7100 - val_f1_m: 0.6117\n",
            "Epoch 3/100\n",
            "8399/8399 [==============================] - 1s 105us/step - loss: 1.2705 - acc: 0.5808 - f1_m: 0.5359 - val_loss: 0.7759 - val_acc: 0.7689 - val_f1_m: 0.7333\n",
            "Epoch 4/100\n",
            "8399/8399 [==============================] - 1s 102us/step - loss: 1.0888 - acc: 0.6360 - f1_m: 0.6139 - val_loss: 0.6751 - val_acc: 0.7975 - val_f1_m: 0.7795\n",
            "Epoch 5/100\n",
            "8399/8399 [==============================] - 1s 104us/step - loss: 0.9879 - acc: 0.6700 - f1_m: 0.6536 - val_loss: 0.6156 - val_acc: 0.8096 - val_f1_m: 0.7980\n",
            "Epoch 6/100\n",
            "8399/8399 [==============================] - 1s 106us/step - loss: 0.9367 - acc: 0.6860 - f1_m: 0.6730 - val_loss: 0.5803 - val_acc: 0.8271 - val_f1_m: 0.8174\n",
            "Epoch 7/100\n",
            "8399/8399 [==============================] - 1s 106us/step - loss: 0.8634 - acc: 0.7146 - f1_m: 0.6997 - val_loss: 0.5524 - val_acc: 0.8261 - val_f1_m: 0.8199\n",
            "Epoch 8/100\n",
            "8399/8399 [==============================] - 1s 105us/step - loss: 0.8338 - acc: 0.7304 - f1_m: 0.7176 - val_loss: 0.4995 - val_acc: 0.8518 - val_f1_m: 0.8480\n",
            "Epoch 9/100\n",
            "8399/8399 [==============================] - 1s 103us/step - loss: 0.7875 - acc: 0.7457 - f1_m: 0.7353 - val_loss: 0.4809 - val_acc: 0.8554 - val_f1_m: 0.8512\n",
            "Epoch 10/100\n",
            "8399/8399 [==============================] - 1s 106us/step - loss: 0.7489 - acc: 0.7564 - f1_m: 0.7492 - val_loss: 0.4883 - val_acc: 0.8514 - val_f1_m: 0.8463\n",
            "Epoch 11/100\n",
            "8399/8399 [==============================] - 1s 102us/step - loss: 0.7325 - acc: 0.7595 - f1_m: 0.7517 - val_loss: 0.4808 - val_acc: 0.8504 - val_f1_m: 0.8483\n",
            "Epoch 12/100\n",
            "8399/8399 [==============================] - 1s 103us/step - loss: 0.7252 - acc: 0.7650 - f1_m: 0.7563 - val_loss: 0.4417 - val_acc: 0.8661 - val_f1_m: 0.8643\n",
            "Epoch 13/100\n",
            "8399/8399 [==============================] - 1s 104us/step - loss: 0.6889 - acc: 0.7779 - f1_m: 0.7741 - val_loss: 0.4399 - val_acc: 0.8729 - val_f1_m: 0.8683\n",
            "Epoch 14/100\n",
            "8399/8399 [==============================] - 1s 110us/step - loss: 0.6806 - acc: 0.7846 - f1_m: 0.7743 - val_loss: 0.4243 - val_acc: 0.8736 - val_f1_m: 0.8713\n",
            "Epoch 15/100\n",
            "8399/8399 [==============================] - 1s 106us/step - loss: 0.6556 - acc: 0.7885 - f1_m: 0.7856 - val_loss: 0.4165 - val_acc: 0.8764 - val_f1_m: 0.8773\n",
            "Epoch 16/100\n",
            "8399/8399 [==============================] - 1s 103us/step - loss: 0.6413 - acc: 0.7933 - f1_m: 0.7929 - val_loss: 0.4062 - val_acc: 0.8793 - val_f1_m: 0.8811\n",
            "Epoch 17/100\n",
            "8399/8399 [==============================] - 1s 106us/step - loss: 0.6373 - acc: 0.7935 - f1_m: 0.7921 - val_loss: 0.4166 - val_acc: 0.8736 - val_f1_m: 0.8723\n",
            "Epoch 18/100\n",
            "8399/8399 [==============================] - 1s 103us/step - loss: 0.6167 - acc: 0.8031 - f1_m: 0.7966 - val_loss: 0.3979 - val_acc: 0.8789 - val_f1_m: 0.8755\n",
            "Epoch 19/100\n",
            "8399/8399 [==============================] - 1s 103us/step - loss: 0.6311 - acc: 0.7976 - f1_m: 0.7912 - val_loss: 0.3878 - val_acc: 0.8836 - val_f1_m: 0.8808\n",
            "Epoch 20/100\n",
            "8399/8399 [==============================] - 1s 103us/step - loss: 0.5993 - acc: 0.8088 - f1_m: 0.8048 - val_loss: 0.3996 - val_acc: 0.8821 - val_f1_m: 0.8813\n",
            "Epoch 21/100\n",
            "8399/8399 [==============================] - 1s 106us/step - loss: 0.5947 - acc: 0.8099 - f1_m: 0.8065 - val_loss: 0.3923 - val_acc: 0.8825 - val_f1_m: 0.8806\n",
            "Epoch 22/100\n",
            "8399/8399 [==============================] - 1s 103us/step - loss: 0.5865 - acc: 0.8100 - f1_m: 0.8050 - val_loss: 0.3760 - val_acc: 0.8857 - val_f1_m: 0.8850\n",
            "Epoch 23/100\n",
            "8399/8399 [==============================] - 1s 103us/step - loss: 0.5678 - acc: 0.8133 - f1_m: 0.8091 - val_loss: 0.3844 - val_acc: 0.8861 - val_f1_m: 0.8871\n",
            "Epoch 24/100\n",
            "8399/8399 [==============================] - 1s 103us/step - loss: 0.5755 - acc: 0.8199 - f1_m: 0.8131 - val_loss: 0.3648 - val_acc: 0.8900 - val_f1_m: 0.8901\n",
            "Epoch 25/100\n",
            "8399/8399 [==============================] - 1s 102us/step - loss: 0.5665 - acc: 0.8143 - f1_m: 0.8136 - val_loss: 0.3592 - val_acc: 0.8904 - val_f1_m: 0.8921\n",
            "Epoch 26/100\n",
            "8399/8399 [==============================] - 1s 110us/step - loss: 0.5507 - acc: 0.8233 - f1_m: 0.8202 - val_loss: 0.3580 - val_acc: 0.8929 - val_f1_m: 0.8925\n",
            "Epoch 27/100\n",
            "8399/8399 [==============================] - 1s 105us/step - loss: 0.5380 - acc: 0.8253 - f1_m: 0.8228 - val_loss: 0.3607 - val_acc: 0.8904 - val_f1_m: 0.8912\n",
            "Epoch 28/100\n",
            "8399/8399 [==============================] - 1s 108us/step - loss: 0.5482 - acc: 0.8251 - f1_m: 0.8190 - val_loss: 0.3552 - val_acc: 0.8861 - val_f1_m: 0.8915\n",
            "Epoch 29/100\n",
            "8399/8399 [==============================] - 1s 103us/step - loss: 0.5457 - acc: 0.8258 - f1_m: 0.8203 - val_loss: 0.3494 - val_acc: 0.8943 - val_f1_m: 0.8970\n",
            "Epoch 30/100\n",
            "8399/8399 [==============================] - 1s 106us/step - loss: 0.5335 - acc: 0.8326 - f1_m: 0.8269 - val_loss: 0.3539 - val_acc: 0.8936 - val_f1_m: 0.8981\n",
            "Epoch 31/100\n",
            "8399/8399 [==============================] - 1s 103us/step - loss: 0.5290 - acc: 0.8309 - f1_m: 0.8298 - val_loss: 0.3463 - val_acc: 0.8914 - val_f1_m: 0.8932\n",
            "Epoch 32/100\n",
            "8399/8399 [==============================] - 1s 106us/step - loss: 0.5330 - acc: 0.8296 - f1_m: 0.8274 - val_loss: 0.3561 - val_acc: 0.8918 - val_f1_m: 0.8924\n",
            "Epoch 33/100\n",
            "8399/8399 [==============================] - 1s 103us/step - loss: 0.5195 - acc: 0.8326 - f1_m: 0.8349 - val_loss: 0.3537 - val_acc: 0.8929 - val_f1_m: 0.8955\n",
            "Epoch 34/100\n",
            "8399/8399 [==============================] - 1s 105us/step - loss: 0.5309 - acc: 0.8353 - f1_m: 0.8312 - val_loss: 0.3409 - val_acc: 0.8946 - val_f1_m: 0.9005\n",
            "Epoch 35/100\n",
            "8399/8399 [==============================] - 1s 103us/step - loss: 0.5351 - acc: 0.8274 - f1_m: 0.8261 - val_loss: 0.3587 - val_acc: 0.8886 - val_f1_m: 0.8908\n",
            "Epoch 36/100\n",
            "8399/8399 [==============================] - 1s 104us/step - loss: 0.5176 - acc: 0.8362 - f1_m: 0.8326 - val_loss: 0.3377 - val_acc: 0.8975 - val_f1_m: 0.9015\n",
            "Epoch 37/100\n",
            "8399/8399 [==============================] - 1s 101us/step - loss: 0.5115 - acc: 0.8396 - f1_m: 0.8336 - val_loss: 0.3487 - val_acc: 0.8943 - val_f1_m: 0.8954\n",
            "Epoch 38/100\n",
            "8399/8399 [==============================] - 1s 110us/step - loss: 0.5068 - acc: 0.8363 - f1_m: 0.8356 - val_loss: 0.3347 - val_acc: 0.8964 - val_f1_m: 0.8991\n",
            "Epoch 39/100\n",
            "8399/8399 [==============================] - 1s 105us/step - loss: 0.5080 - acc: 0.8371 - f1_m: 0.8352 - val_loss: 0.3384 - val_acc: 0.8950 - val_f1_m: 0.8984\n",
            "Epoch 40/100\n",
            "8399/8399 [==============================] - 1s 105us/step - loss: 0.5095 - acc: 0.8334 - f1_m: 0.8342 - val_loss: 0.3223 - val_acc: 0.8986 - val_f1_m: 0.9013\n",
            "Epoch 41/100\n",
            "8399/8399 [==============================] - 1s 103us/step - loss: 0.5085 - acc: 0.8377 - f1_m: 0.8346 - val_loss: 0.3341 - val_acc: 0.8957 - val_f1_m: 0.8994\n",
            "Epoch 42/100\n",
            "8399/8399 [==============================] - 1s 104us/step - loss: 0.4947 - acc: 0.8414 - f1_m: 0.8406 - val_loss: 0.3373 - val_acc: 0.8964 - val_f1_m: 0.8994\n",
            "Epoch 43/100\n",
            "8399/8399 [==============================] - 1s 113us/step - loss: 0.5057 - acc: 0.8369 - f1_m: 0.8379 - val_loss: 0.3322 - val_acc: 0.8993 - val_f1_m: 0.8996\n",
            "Epoch 44/100\n",
            "8399/8399 [==============================] - 1s 106us/step - loss: 0.4917 - acc: 0.8426 - f1_m: 0.8410 - val_loss: 0.3219 - val_acc: 0.9039 - val_f1_m: 0.9044\n",
            "Epoch 45/100\n",
            "8399/8399 [==============================] - 1s 105us/step - loss: 0.4990 - acc: 0.8406 - f1_m: 0.8399 - val_loss: 0.3342 - val_acc: 0.8989 - val_f1_m: 0.8995\n",
            "Epoch 46/100\n",
            "8399/8399 [==============================] - 1s 108us/step - loss: 0.4903 - acc: 0.8490 - f1_m: 0.8487 - val_loss: 0.3343 - val_acc: 0.8975 - val_f1_m: 0.8975\n",
            "Epoch 47/100\n",
            "8399/8399 [==============================] - 1s 104us/step - loss: 0.4810 - acc: 0.8472 - f1_m: 0.8434 - val_loss: 0.3145 - val_acc: 0.9025 - val_f1_m: 0.9049\n",
            "Epoch 48/100\n",
            "8399/8399 [==============================] - 1s 104us/step - loss: 0.4893 - acc: 0.8420 - f1_m: 0.8401 - val_loss: 0.3427 - val_acc: 0.8925 - val_f1_m: 0.8928\n",
            "Epoch 49/100\n",
            "8399/8399 [==============================] - 1s 104us/step - loss: 0.4833 - acc: 0.8459 - f1_m: 0.8431 - val_loss: 0.3458 - val_acc: 0.8896 - val_f1_m: 0.8936\n",
            "Epoch 50/100\n",
            "8399/8399 [==============================] - 1s 111us/step - loss: 0.4823 - acc: 0.8451 - f1_m: 0.8431 - val_loss: 0.3292 - val_acc: 0.9011 - val_f1_m: 0.8996\n",
            "Epoch 51/100\n",
            "8399/8399 [==============================] - 1s 106us/step - loss: 0.4791 - acc: 0.8459 - f1_m: 0.8467 - val_loss: 0.3410 - val_acc: 0.8968 - val_f1_m: 0.9006\n",
            "Epoch 52/100\n",
            "8399/8399 [==============================] - 1s 107us/step - loss: 0.4834 - acc: 0.8464 - f1_m: 0.8450 - val_loss: 0.3286 - val_acc: 0.8989 - val_f1_m: 0.8999\n",
            "Epoch 53/100\n",
            "8399/8399 [==============================] - 1s 107us/step - loss: 0.4869 - acc: 0.8478 - f1_m: 0.8423 - val_loss: 0.3261 - val_acc: 0.8982 - val_f1_m: 0.8994\n"
          ],
          "name": "stdout"
        }
      ]
    },
    {
      "cell_type": "code",
      "metadata": {
        "id": "kSFqOBK24R0_",
        "colab_type": "code",
        "outputId": "28e10959-f839-4361-9160-1aeca8261f08",
        "colab": {
          "base_uri": "https://localhost:8080/",
          "height": 803
        }
      },
      "source": [
        "x_plot = list(range(1,history.epoch[-1]+2))\n",
        "\n",
        "def plot_history(network_history):\n",
        "    plt.figure()\n",
        "    plt.xlabel('Epochs')\n",
        "    plt.ylabel('Loss')\n",
        "    plt.plot(x_plot, network_history.history['loss'])\n",
        "    plt.plot(x_plot, network_history.history['val_loss'])\n",
        "    plt.legend(['Training', 'Validation'])\n",
        "    \n",
        "    plt.figure()\n",
        "    plt.xlabel('Epochs')\n",
        "    plt.ylabel('Accuracy')\n",
        "    plt.plot(x_plot, network_history.history['acc'])\n",
        "    plt.plot(x_plot, network_history.history['val_acc'])\n",
        "    plt.legend(['Training', 'Validation'])\n",
        "\n",
        "    plt.figure()\n",
        "    plt.xlabel('Epochs')\n",
        "    plt.ylabel('F1')\n",
        "    plt.plot(x_plot, network_history.history['f1_m'])\n",
        "    plt.plot(x_plot, network_history.history['val_f1_m'])\n",
        "    plt.legend(['Training', 'Validation'], loc='lower right')\n",
        "    plt.show()\n",
        "    \n",
        "plot_history(history)"
      ],
      "execution_count": 63,
      "outputs": [
        {
          "output_type": "display_data",
          "data": {
            "image/png": "[encoded data removed]",
            "text/plain": [
              "<Figure size 432x288 with 1 Axes>"
            ]
          },
          "metadata": {
            "tags": []
          }
        },
        {
          "output_type": "display_data",
          "data": {
            "image/png": "[encoded data removed]",
            "text/plain": [
              "<Figure size 432x288 with 1 Axes>"
            ]
          },
          "metadata": {
            "tags": []
          }
        },
        {
          "output_type": "display_data",
          "data": {
            "image/png": "[encoded data removed]",
            "text/plain": [
              "<Figure size 432x288 with 1 Axes>"
            ]
          },
          "metadata": {
            "tags": []
          }
        }
      ]
    },
    {
      "cell_type": "markdown",
      "metadata": {
        "id": "fmoCkOYm0Jnc",
        "colab_type": "text"
      },
      "source": [
        "Si effettua la codifica del rimanente 20% dei dati"
      ]
    },
    {
      "cell_type": "code",
      "metadata": {
        "id": "_ykf1Ujj5yV3",
        "colab_type": "code",
        "colab": {}
      },
      "source": [
        "codifica_test = encoder.predict(X_test)"
      ],
      "execution_count": 0,
      "outputs": []
    },
    {
      "cell_type": "markdown",
      "metadata": {
        "id": "THl9leYp0NrA",
        "colab_type": "text"
      },
      "source": [
        "Il risultato del modello è presentato tramite le seguenti metirche:"
      ]
    },
    {
      "cell_type": "code",
      "metadata": {
        "id": "_KBEsc6V5LTT",
        "colab_type": "code",
        "outputId": "3b17c59b-44cc-4577-9648-90e9a70e157a",
        "colab": {
          "base_uri": "https://localhost:8080/",
          "height": 84
        }
      },
      "source": [
        "test_loss, test_acc, F1 = model.evaluate(codifica_test, y_test, batch_size=64)\n",
        "print(\"TEST LOSS:\", test_loss)\n",
        "print(\"TEST ACCURACY:\", test_acc)\n",
        "print(\"TEST F1:\", F1)"
      ],
      "execution_count": 65,
      "outputs": [
        {
          "output_type": "stream",
          "text": [
            "2800/2800 [==============================] - 0s 31us/step\n",
            "TEST LOSS: 0.31418820704732625\n",
            "TEST ACCURACY: 0.9071428574834551\n",
            "TEST F1: 0.9067240398270743\n"
          ],
          "name": "stdout"
        }
      ]
    },
    {
      "cell_type": "markdown",
      "metadata": {
        "id": "NS0p6Hog58BN",
        "colab_type": "text"
      },
      "source": [
        "## Test del modello \"misto\"\n",
        "\n"
      ]
    },
    {
      "cell_type": "code",
      "metadata": {
        "id": "m6YuCrz65Rq4",
        "colab_type": "code",
        "colab": {}
      },
      "source": [
        "previsioni = model.predict_classes(codifica_test)"
      ],
      "execution_count": 0,
      "outputs": []
    },
    {
      "cell_type": "code",
      "metadata": {
        "id": "Q-9SVgCR5Tum",
        "colab_type": "code",
        "outputId": "ec17d988-4926-44ab-edbd-0f2cfb777e61",
        "colab": {
          "base_uri": "https://localhost:8080/",
          "height": 33
        }
      },
      "source": [
        "previsioni = previsioni + 16\n",
        "previsioni"
      ],
      "execution_count": 67,
      "outputs": [
        {
          "output_type": "execute_result",
          "data": {
            "text/plain": [
              "array([24, 22, 21, ..., 20, 20, 16])"
            ]
          },
          "metadata": {
            "tags": []
          },
          "execution_count": 67
        }
      ]
    },
    {
      "cell_type": "code",
      "metadata": {
        "id": "a9MuhAog5XnN",
        "colab_type": "code",
        "outputId": "22791a5f-69e3-458a-8537-2d8ce9e94da3",
        "colab": {
          "base_uri": "https://localhost:8080/",
          "height": 33
        }
      },
      "source": [
        "y_test = np.argmax(y_test, axis=1)\n",
        "y_test = y_test + 16\n",
        "y_test"
      ],
      "execution_count": 68,
      "outputs": [
        {
          "output_type": "execute_result",
          "data": {
            "text/plain": [
              "array([24, 22, 21, ..., 20, 20, 16])"
            ]
          },
          "metadata": {
            "tags": []
          },
          "execution_count": 68
        }
      ]
    },
    {
      "cell_type": "code",
      "metadata": {
        "id": "rOWniEck5ann",
        "colab_type": "code",
        "outputId": "e777bfd0-bb6f-499e-b682-28998be09536",
        "colab": {
          "base_uri": "https://localhost:8080/",
          "height": 318
        }
      },
      "source": [
        "print(classification_report(previsioni, y_test))"
      ],
      "execution_count": 69,
      "outputs": [
        {
          "output_type": "stream",
          "text": [
            "              precision    recall  f1-score   support\n",
            "\n",
            "          16       0.94      0.94      0.94       259\n",
            "          17       0.86      0.94      0.90       246\n",
            "          18       0.91      0.88      0.89       295\n",
            "          19       0.96      0.95      0.95       290\n",
            "          20       0.91      0.91      0.91       263\n",
            "          21       0.91      0.90      0.91       262\n",
            "          22       0.85      0.88      0.86       216\n",
            "          23       0.94      0.85      0.89       285\n",
            "          24       0.91      0.92      0.92       249\n",
            "          25       0.86      0.90      0.88       250\n",
            "          26       0.93      0.90      0.92       185\n",
            "\n",
            "    accuracy                           0.91      2800\n",
            "   macro avg       0.91      0.91      0.91      2800\n",
            "weighted avg       0.91      0.91      0.91      2800\n",
            "\n"
          ],
          "name": "stdout"
        }
      ]
    }
  ]
}