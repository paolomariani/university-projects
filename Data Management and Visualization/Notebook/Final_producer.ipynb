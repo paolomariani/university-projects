{
 "cells": [
  {
   "cell_type": "code",
   "execution_count": 1,
   "metadata": {},
   "outputs": [],
   "source": [
    "from __future__ import print_function\n",
    "import tweepy\n",
    "import json\n",
    "from pymongo import MongoClient\n",
    "import numpy as np\n",
    "import pandas as pd\n",
    "from datetime import datetime\n",
    "import time\n",
    "from datetime import timedelta\n",
    "from kafka import KafkaProducer\n",
    "import requests"
   ]
  },
  {
   "cell_type": "code",
   "execution_count": 2,
   "metadata": {},
   "outputs": [],
   "source": [
    "def troncahashtag (lista):\n",
    "    for i in range(0, len(lista)):\n",
    "        lista[i] = lista[i][1:]\n",
    "    return lista"
   ]
  },
  {
   "cell_type": "code",
   "execution_count": 4,
   "metadata": {},
   "outputs": [],
   "source": [
    "CONSUMER_KEY = \"key\" \n",
    "CONSUMER_SECRET = \"key\"\n",
    "\n",
    "ACCESS_TOKEN = \"key\" \n",
    "ACCESS_TOKEN_SECRET = \"key\" "
   ]
  },
  {
   "cell_type": "code",
   "execution_count": 5,
   "metadata": {},
   "outputs": [],
   "source": [
    "def minuscolo(hashtags):\n",
    "    for i in range(0,len(hashtags)):\n",
    "        hashtags[i] = hashtags[i].lower()\n",
    "    return (hashtags)"
   ]
  },
  {
   "cell_type": "code",
   "execution_count": 6,
   "metadata": {},
   "outputs": [],
   "source": [
    "now=datetime.now()\n",
    "Match = minuscolo([\"#WeTheNorth\", \"#Raptors\", \"#TorontoRaptors\", \"#NBAFinals\", \"#NBAPlayoffs\", \"RTZ\",\n",
    "                   \"#DubNation\", \"#WarriorsGround\", \"#StrengthInNumbers\", \"#GoldenStateWarriors\", \"#GswvsTor\", \"#TorvsGsw\" ])\n",
    "Away = minuscolo([\"#WeTheNorth\", \"#Raptors\", \"#TorontoRaptors\", \"RTZ\"])\n",
    "Home = minuscolo([\"#DubNation\", \"#WarriorsGround\", \"#StrengthInNumbers\", \"#GoldenStateWarriors\"])\n",
    "N = minuscolo([\"#NBAFinals\", \"#NBAPlayoffs\", \"#GswvsTor\", \"#TorvsGsw\"])\n"
   ]
  },
  {
   "cell_type": "code",
   "execution_count": 7,
   "metadata": {},
   "outputs": [],
   "source": [
    "producer = KafkaProducer(bootstrap_servers='sandbox-hdp.hortonworks.com:6667',\n",
    "                         value_serializer=lambda v: json.dumps(v).encode('utf-8'))"
   ]
  },
  {
   "cell_type": "markdown",
   "metadata": {},
   "source": [
    "## Stats"
   ]
  },
  {
   "cell_type": "code",
   "execution_count": 8,
   "metadata": {},
   "outputs": [],
   "source": [
    "def integrazione(tweetFiltered, statistiche):\n",
    "    tweetFiltered[\"stats\"] = statistiche\n",
    "    return tweetFiltered"
   ]
  },
  {
   "cell_type": "markdown",
   "metadata": {},
   "source": [
    "## Listener"
   ]
  },
  {
   "cell_type": "code",
   "execution_count": 13,
   "metadata": {},
   "outputs": [],
   "source": [
    "i = 407003"
   ]
  },
  {
   "cell_type": "code",
   "execution_count": 14,
   "metadata": {},
   "outputs": [],
   "source": [
    "class StreamListener(tweepy.StreamListener):    \n",
    " \n",
    "    def on_connect(self):\n",
    "        print(\"Connessione con l'API avvenuta\")\n",
    " \n",
    "    def on_error(self, status_code):\n",
    "        print('An Error has occured: ' + repr(status_code))\n",
    "        return False\n",
    " \n",
    "    def on_data(self, data):\n",
    "        \n",
    "        try:\n",
    "                %store -r statistiche    # con questi 2 comandi carico su questo notebook le variabili statistiche e richiesta\n",
    "                %store -r richiesta      # calcolate in un altro notebook\n",
    "                statistiche\n",
    "                richiesta\n",
    "                global i\n",
    "                datajson = json.loads(data) #datajson contiene tutta la struttura del tweet\n",
    "                \n",
    "                timeTweet=datajson['created_at']\n",
    "                userLoc=datajson['user'].get('location')\n",
    "                tweetFiltered={'_id': datajson['id_str'],\n",
    "                               'n_tweet' : i,\n",
    "                               'time_tweet': time.strftime(\"%H:%M:%S\"),\n",
    "                               'date_tweet' : time.strftime(\"%Y-%m-%d\"),\n",
    "                               'source': datajson['source'],\n",
    "                               'retweet_count':datajson['retweet_count'],\n",
    "                               'placeTweet': datajson['coordinates'],\n",
    "                               'placeUser': userLoc}\n",
    "                tweetFiltered = integrazione(tweetFiltered,statistiche)\n",
    "                i = i+1\n",
    "                \n",
    "                if ('retweeted_status' in datajson): #controllo se oggetto è retweet no commentato oppure tweet/retweet commentato\n",
    "                        if ('extended_tweet' in datajson['retweeted_status']): #controllo se retweet non commentato è lungo oppure corto\n",
    "                            text=datajson['retweeted_status']['extended_tweet']['full_text']\n",
    "                            print(\"RETWEET NON COMMENTATO LUNGO:\", text)\n",
    "                            hashtag=minuscolo(flatted(datajson['retweeted_status']['extended_tweet']['entities']['hashtags']))\n",
    "                        else:\n",
    "                            text=datajson['retweeted_status']['text']\n",
    "                            print(\"RETWEET NON COMMENTATO CORTO: \", text)\n",
    "                            hashtag=minuscolo(flatted(datajson['retweeted_status']['entities']['hashtags']))\n",
    "                        idRetweet=datajson['retweeted_status']['id_str']\n",
    "                        tweetFiltered['retweetId']=idRetweet\n",
    "                else:\n",
    "                    if (datajson['is_quote_status']== True): #controllo se retweeet è commentato o no\n",
    "                        print(\"COMMENTO\")\n",
    "                        idQuote=datajson['quoted_status_id_str']\n",
    "                        if ('extended_tweet' in datajson): #controllo se commento è lungo oppure corto\n",
    "                            if ('extended_tweet' in datajson['quoted_status']): #controllo se original lungo o corto\n",
    "                                text=datajson['extended_tweet']['full_text']\n",
    "                                hashtagQuote=flatted(datajson['extended_tweet']['entities']['hashtags'])\n",
    "                                hashtagOriginal=flatted(datajson['quoted_status']['extended_tweet']['entities']['hashtags'])\n",
    "                                hashtag=minuscolo(hashtagQuote+hashtagOriginal)\n",
    "                                print(\"RETWEET COMMENTATO LUNGO ORIGINALE LUNGO: \", text)\n",
    "                            else:\n",
    "                                text=datajson['extended_tweet']['full_text']\n",
    "                                hashtagQuote=flatted(datajson['extended_tweet']['entities']['hashtags'])\n",
    "                                hashtagOriginal=flatted(datajson['quoted_status']['entities']['hashtags'])\n",
    "                                hashtag=minuscolo(hashtagQuote+hashtagOriginal)\n",
    "                                print(\"RETWEET COMMENTATO LUNGO ORIGINALE CORTO: \", text)\n",
    "                        else:\n",
    "                            if ('extended_tweet' in datajson['quoted_status']): #controllo se original lungo o corto\n",
    "                                text=datajson['text']\n",
    "                                hashtagQuote=flatted(datajson['entities']['hashtags'])\n",
    "                                hashtagOriginal=flatted(datajson['quoted_status']['extended_tweet']['entities']['hashtags'])\n",
    "                                hashtag=minuscolo(hashtagQuote+hashtagOriginal)\n",
    "                                print(\"RETWEET COMMENTATO CORTO ORIGINALE LUNGO: \", text)\n",
    "                            else:\n",
    "                                text=datajson['text']\n",
    "                                hashtagQuote=flatted(datajson['entities']['hashtags'])\n",
    "                                hashtagOriginal=flatted(datajson['quoted_status']['entities']['hashtags'])\n",
    "                                hashtag=minuscolo(hashtagQuote+hashtagOriginal)\n",
    "                                print(\"RETWEET COMMENTATO CORTO ORIGINALE CORTO: \", text)\n",
    "                        tweetFiltered['retweetId']=idQuote\n",
    "                    else:\n",
    "                        if ('extended_tweet' in datajson):\n",
    "                            text=datajson['extended_tweet']['full_text']\n",
    "                            print(\"TWEET LUNGO: \", text)\n",
    "                            hashtag=minuscolo(flatted(datajson['extended_tweet']['entities']['hashtags']))\n",
    "                        else:\n",
    "                            text=datajson['text']\n",
    "                            print(\"TWEET BREVE: \", text)\n",
    "                            hashtag=minuscolo(flatted(datajson['entities']['hashtags']))\n",
    "                tweetFiltered['text']=text\n",
    "                tweetFiltered['hashtag']=list(set(hashtag))\n",
    "                print(\" Gli hashtag sono: \", hashtag)\n",
    "                print(\"\\n\\n\")   \n",
    "                        \n",
    "                #print(\"NOW: %s | ORA LIMITE: %s\" % (now,prova))\n",
    "                \n",
    "                ########################################\n",
    "                #QUI INSERISCO IL CODICE PER INVIO SUL TOPIC\n",
    "                producer.send('gara1', [tweetFiltered, richiesta, data])\n",
    "                \n",
    "                \n",
    "                ########################################\n",
    "                \n",
    "                tweetFiltered.clear()\n",
    "         \n",
    "        except Exception as e:\n",
    "            print(e)"
   ]
  },
  {
   "cell_type": "code",
   "execution_count": null,
   "metadata": {},
   "outputs": [
    {
     "name": "stdout",
     "output_type": "stream",
     "text": [
      "ORA PARTITA: 2019-06-06 01:00:00 | ORA INIZIO STREAM: 2019-06-06 00:00:00 \n",
      "NOW: 2019-06-05 17:16:38.178674 | CONFRONTO: 2019-06-06 00:00:00\n",
      "\n",
      "WAIT: 2019-06-05 17:16:38.179099\n",
      "WAIT: 2019-06-05 17:16:43.183034\n"
     ]
    }
   ],
   "source": [
    "auth = tweepy.OAuthHandler(CONSUMER_KEY, CONSUMER_SECRET)\n",
    "auth.set_access_token(ACCESS_TOKEN, ACCESS_TOKEN_SECRET)\n",
    "\n",
    "\n",
    "listener = StreamListener(api=tweepy.API(wait_on_rate_limit=True)) \n",
    "streamer = tweepy.Stream(auth=auth, listener=listener)\n",
    "\n",
    "\n",
    "ora_now=datetime.now()\n",
    "ora_partita=datetime(ora_now.year,ora_now.month,ora_now.day+1,1,0) #orario GMT (2 ore indietro italia)\n",
    "inizio_stream=ora_partita-timedelta(hours=1)\n",
    "print(\"ORA PARTITA: %s | ORA INIZIO STREAM: %s \" %(ora_partita,inizio_stream))\n",
    "\n",
    "print(\"NOW: %s | CONFRONTO: %s\\n\" %(ora_now,inizio_stream))\n",
    "\n",
    "while (datetime.now()<inizio_stream):\n",
    "    print(\"WAIT: %s\" % datetime.now())\n",
    "    time.sleep(5)\n",
    "\n",
    "\n",
    "print(\"INIZIO STREAM: %s\\n\" % datetime.now())\n",
    "print(\"Sto ascoltando: \" + str(Match))\n",
    "streamer.filter(track=Match,languages=['en'])"
   ]
  }
 ],
 "metadata": {
  "kernelspec": {
   "display_name": "Python 3",
   "language": "python",
   "name": "python3"
  },
  "language_info": {
   "codemirror_mode": {
    "name": "ipython",
    "version": 3
   },
   "file_extension": ".py",
   "mimetype": "text/x-python",
   "name": "python",
   "nbconvert_exporter": "python",
   "pygments_lexer": "ipython3",
   "version": "3.6.5"
  }
 },
 "nbformat": 4,
 "nbformat_minor": 2
}
