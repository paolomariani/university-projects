{
 "cells": [
  {
   "cell_type": "code",
   "execution_count": 2,
   "metadata": {},
   "outputs": [],
   "source": [
    "import requests\n",
    "import json\n",
    "import time"
   ]
  },
  {
   "cell_type": "code",
   "execution_count": 3,
   "metadata": {},
   "outputs": [],
   "source": [
    "key = \"59397cc5de2b76d6f8bdb6428cbdfa2529e4bb70d184b90103658b8b51458463\"    # chiave per le richieste\n",
    "\n",
    "URL = \"https://allsportsapi.com/api/basketball/?\"              # richiesta da effetuare\n",
    "\n",
    "PARAMS = {\"met\" : \"Livescore\", \"APIkey\" : key, \"leagueId\" : \"787\"}"
   ]
  },
  {
   "cell_type": "code",
   "execution_count": 4,
   "metadata": {},
   "outputs": [],
   "source": [
    "def stats_pulite(dizionario):\n",
    "    risultati_voluti = {\"event_date\" : dizionario[\"result\"][0][\"event_date\"],\n",
    "                        \"event_key\" : dizionario[\"result\"][0][\"event_key\"],\n",
    "                        \"time\" : time.strftime(\"%H:%M:%S\"),\n",
    "                        \"event_status\" : dizionario[\"result\"][0][\"event_status\"],\n",
    "                        \"final_score\": dizionario[\"result\"][0][\"event_final_result\"],\n",
    "                        \"scores\" : dizionario[\"result\"][0][\"scores\"],\n",
    "                        \"statistics\" :  {\"Match\" : dizionario[\"result\"][0][\"statistics\"][\"Match\"][0:21],\n",
    "                                     \"1stQuarter\" :  dizionario[\"result\"][0][\"statistics\"][\"1stQuarter\"],\n",
    "                                     \"2ndQuarter\" :  dizionario[\"result\"][0][\"statistics\"][\"2ndQuarter\"],\n",
    "                                     \"3rdQuarter\" :  dizionario[\"result\"][0][\"statistics\"][\"3rdQuarter\"],\n",
    "                                     \"4thQuarter\" :  dizionario[\"result\"][0][\"statistics\"][\"4thQuarter\"]}\n",
    "                    \n",
    "                   }\n",
    "    return risultati_voluti"
   ]
  },
  {
   "cell_type": "markdown",
   "metadata": {},
   "source": [
    "## Funzione per richiesta ogni 30 sec"
   ]
  },
  {
   "cell_type": "code",
   "execution_count": null,
   "metadata": {},
   "outputs": [
    {
     "name": "stdout",
     "output_type": "stream",
     "text": [
      "Stored 'statistiche' (NoneType)\n",
      "Stored 'richiesta' (dict)\n"
     ]
    }
   ],
   "source": [
    "while (1):\n",
    "    r = requests.get(url = URL, params = PARAMS)                                                 # richiesta\n",
    "    richiesta = r.json()\n",
    "    statistiche = r.json()\n",
    "    if len(statistiche) > 1:\n",
    "        if statistiche[\"result\"][0][\"event_status\"] == \"Finished\":\n",
    "            statistiche = stats_pulite(statistiche)\n",
    "            %store statistiche\n",
    "            %store richiesta\n",
    "            break\n",
    "        else:\n",
    "            statistiche = stats_pulite(statistiche)\n",
    "            with open(\"stats_non_pulite\", \"a\") as stats_non_pulite:\n",
    "                json.dump(richiesta, stats_non_pulite, indent = 1)\n",
    "            %store statistiche\n",
    "            %store richiesta\n",
    "            del statistiche\n",
    "            del richiesta\n",
    "    else:\n",
    "        statistiche = None\n",
    "        %store statistiche       # con questi due comandi salvo le variabili statistiche e richiesta per utilizzarle in altri notebook\n",
    "        %store richiesta\n",
    "        del statistiche          # con questi due comandi pulisco la memoria\n",
    "        del richiesta\n",
    "    time.sleep(30)"
   ]
  },
  {
   "cell_type": "code",
   "execution_count": null,
   "metadata": {},
   "outputs": [],
   "source": []
  }
 ],
 "metadata": {
  "kernelspec": {
   "display_name": "Python 3",
   "language": "python",
   "name": "python3"
  },
  "language_info": {
   "codemirror_mode": {
    "name": "ipython",
    "version": 3
   },
   "file_extension": ".py",
   "mimetype": "text/x-python",
   "name": "python",
   "nbconvert_exporter": "python",
   "pygments_lexer": "ipython3",
   "version": "3.6.5"
  }
 },
 "nbformat": 4,
 "nbformat_minor": 2
}
