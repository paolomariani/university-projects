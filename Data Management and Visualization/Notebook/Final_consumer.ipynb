{
 "cells": [
  {
   "cell_type": "code",
   "execution_count": 1,
   "metadata": {
    "scrolled": true
   },
   "outputs": [],
   "source": [
    "from __future__ import print_function\n",
    "import tweepy\n",
    "import json\n",
    "from pymongo import MongoClient\n",
    "import numpy as np\n",
    "import pandas as pd\n",
    "from datetime import datetime\n",
    "import time\n",
    "from datetime import timedelta\n",
    "from kafka import KafkaConsumer\n",
    "import requests"
   ]
  },
  {
   "cell_type": "markdown",
   "metadata": {},
   "source": [
    "## In questo File si eseguono tutte le operazioni dedicate al Consumer:"
   ]
  },
  {
   "cell_type": "markdown",
   "metadata": {},
   "source": [
    "## Definisco dove salvare ogni oggetto in arrivo dal topic"
   ]
  },
  {
   "cell_type": "code",
   "execution_count": 2,
   "metadata": {},
   "outputs": [],
   "source": [
    "MONGO_HOST= 'mongodb://localhost/test' "
   ]
  },
  {
   "cell_type": "code",
   "execution_count": 3,
   "metadata": {},
   "outputs": [],
   "source": [
    "def troncahashtag (lista):\n",
    "    for i in range(0, len(lista)):\n",
    "        lista[i] = lista[i][1:]\n",
    "    return lista"
   ]
  },
  {
   "cell_type": "code",
   "execution_count": 4,
   "metadata": {},
   "outputs": [],
   "source": [
    "def minuscolo(hashtags):\n",
    "    for i in range(0,len(hashtags)):\n",
    "        hashtags[i] = hashtags[i].lower()\n",
    "    return (hashtags)"
   ]
  },
  {
   "cell_type": "code",
   "execution_count": 5,
   "metadata": {},
   "outputs": [],
   "source": [
    "Match = minuscolo([\"#WeTheNorth\", \"#Raptors\", \"#TorontoRaptors\", \"#NBAFinals\", \"#NBAPlayoffs\", \"#RTZ\",\n",
    "                   \"#DubNation\", \"#WarriorsGround\", \"#StrengthInNumbers\", \"#GoldenStateWarriors\", \"#GswvsTor\", \"#TorvsGsw\" ])\n",
    "Away = minuscolo([\"#WeTheNorth\", \"#Raptors\", \"#TorontoRaptors\", \"#RTZ\"])\n",
    "Home = minuscolo([\"#DubNation\", \"#WarriorsGround\", \"#StrengthInNumbers\", \"#GoldenStateWarriors\"])\n",
    "N = minuscolo([\"#NBAFinals\", \"#NBAPlayoffs\", \"#GswvsTor\", \"#TorvsGsw\"])\n",
    "\n",
    "\n",
    "Home2 = troncahashtag(Home)\n",
    "Away2 = troncahashtag(Away)\n",
    "client = MongoClient(MONGO_HOST)\n",
    "db = client.test"
   ]
  },
  {
   "cell_type": "markdown",
   "metadata": {},
   "source": [
    "## Funzione per indirizzare al salvataggio l'oggetto appena arrivato dal topic"
   ]
  },
  {
   "cell_type": "code",
   "execution_count": 374,
   "metadata": {
    "scrolled": true
   },
   "outputs": [],
   "source": [
    "def Filter(tweetobj, data):\n",
    "    if (bool(set(tweetobj[\"hashtag\"]) & set(Home2)) and  bool(set(tweetobj[\"hashtag\"]) & set(Away2))):\n",
    "        print(\"\\n Neutro\")\n",
    "        with open(\"Neutro.json\", \"a\") as neutro:\n",
    "            json.dump(final, neutro, indent = 1)\n",
    "            neutro.write(\"\\n \\n \\n \\n\")\n",
    "        print(\"Il tweet è stato correttamente inserito nel file Neutro.json \\n\")\n",
    "        #Inserimento nella Collection\n",
    "        db.Neutro.insert_one(final) \n",
    "        with open(\"Neutro_tweet.json\", \"a\") as neutro_tweet:\n",
    "            json.dump(data, neutro_tweet, indent = 1)\n",
    "            neutro_tweet.write(\"\\n \\n \\n \\n\")\n",
    "        print(\"Il tweet è stato correttamente inserito nella collection Neutro\\n\")\n",
    "    elif bool(set(tweetobj[\"hashtag\"]) & set(Home2)) and not bool(set(tweetobj[\"hashtag\"]) & set(Away2)):\n",
    "        #Inserimento del tweet nel File e nella Mongo Collection\n",
    "        #Inserimento nel File\n",
    "        print(\"\\n Team 1\")\n",
    "        with open(\"Team1.json\", \"a\") as team1:\n",
    "            json.dump(final, team1, indent = 1)\n",
    "            team1.write(\"\\n \\n \\n \\n\")\n",
    "        print(\"Il tweet è stato correttamente inserito nel file Team1.json \\n\")\n",
    "        #Inserimento nella Collection\n",
    "        db.GoldenState.insert_one(final)\n",
    "        with open(\"Team1_tweet.json\", \"a\") as team1_tweet:\n",
    "            json.dump(data, team1_tweet, indent = 1)\n",
    "            team1_tweet.write(\"\\n \\n \\n \\n\")        \n",
    "        print(\"Il tweet è stato correttamente inserito nella collection Team1 \\n\")\n",
    "    elif not bool(set(tweetobj[\"hashtag\"]) & set(Home2)) and bool(set(tweetobj[\"hashtag\"]) & set(Away2)):\n",
    "        #Inserimento del tweet nel File e nella Mongo Collection\n",
    "        #Inserimento nel File\n",
    "        print(\"\\n Team 2\")\n",
    "        with open(\"Team2.json\", \"a\") as team2:\n",
    "            json.dump(final, team2, indent = 1)\n",
    "            team2.write(\"\\n \\n \\n \\n\")\n",
    "        print(\"Il tweet è stato correttamente inserito nel file Team2.json \\n\")\n",
    "        #Inserimento nella Collection\n",
    "        db.Toronto.insert_one(final)\n",
    "        with open(\"Team2_tweet.json\", \"a\") as team2_tweet:\n",
    "            json.dump(data, team2_tweet, indent = 1)\n",
    "            team2_tweet.write(\"\\n \\n \\n \\n\")        \n",
    "        print(\"Il tweet è stato correttamente inserito nella collection Team2 \\n\")\n",
    "    else:\n",
    "        with open(\"Neutro.json\", \"a\") as neutro:\n",
    "            print(\"\\n Neutro\")\n",
    "            json.dump(final, neutro, indent = 1)\n",
    "            neutro.write(\"\\n \\n \\n \\n\")\n",
    "            print(\"Il tweet è stato correttamente inserito nel file Neutro.json \\n\")\n",
    "            #Inserimento nella Collection\n",
    "            db.Neutro.insert_one(final)\n",
    "        with open(\"Neutro_tweet.json\", \"a\") as neutro_tweet:\n",
    "            json.dump(data, neutro_tweet, indent = 1)\n",
    "            neutro_tweet.write(\"\\n \\n \\n \\n\")            \n",
    "        print(\"Il tweet è stato correttamente inserito nella collection Neutro\\n\")"
   ]
  },
  {
   "cell_type": "markdown",
   "metadata": {},
   "source": [
    "## Creazione del consumer e connessione con il Topic:"
   ]
  },
  {
   "cell_type": "code",
   "execution_count": 375,
   "metadata": {},
   "outputs": [],
   "source": [
    "consumer = KafkaConsumer(bootstrap_servers='sandbox-hdp.hortonworks.com:6667', value_deserializer=lambda m: json.loads(m.decode('utf-8')))\n",
    "consumer.subscribe(['gara1'])"
   ]
  },
  {
   "cell_type": "markdown",
   "metadata": {},
   "source": [
    "## Lasciamo commentata\n",
    "\n",
    "i = 0\n",
    "while(1):\n",
    "    r = requests.get(url = URL, params = PARAMS)                                                 # richiesta\n",
    "    statistiche = r.json()\n",
    "    if len(statistiche) > 1:\n",
    "        statistiche = stats_pulite(statistiche)\n",
    "        with open(\"/home/maria_dev/dati_NBA/tanti_file/integrazione/data\" + str(i) + \".json\", 'w') as outfile:\n",
    "            json.dump(statistiche, outfile, indent = 1)\n",
    "            i = i+1\n",
    "        time.sleep(30)"
   ]
  },
  {
   "cell_type": "markdown",
   "metadata": {},
   "source": [
    "## Ciclo che permette di ottenere il messaggio dal Producer via Topic e replicarlo nel database:"
   ]
  },
  {
   "cell_type": "code",
   "execution_count": 833,
   "metadata": {},
   "outputs": [
    {
     "name": "stdout",
     "output_type": "stream",
     "text": [
      "\n",
      "\n",
      "\n",
      " Il risultato dell'integrazione è il seguente\n",
      "\n",
      " Neutro\n",
      "Il tweet è stato correttamente inserito nel file Neutro.json \n",
      "\n",
      "Il tweet è stato correttamente inserito nella collection Neutro\n",
      "\n",
      "{'_id': '1139394021694922752', 'n_tweet': 1438003, 'time_tweet': '04:48:03', 'date_tweet': '2019-06-14', 'source': '<a href=\"http://twitter.com/download/iphone\" rel=\"nofollow\">Twitter for iPhone</a>', 'retweet_count': 0, 'placeTweet': None, 'placeUser': '717 x 412', 'stats': {'event_date': '2019-06-14', 'event_key': '42208', 'time': '03:49:19', 'event_status': 'Finished', 'final_score': '110 - 114', 'scores': {'1stQuarter': [{'score_home': '32', 'score_away': '33'}], '2ndQuarter': [{'score_home': '25', 'score_away': '27'}], '3rdQuarter': [{'score_home': '31', 'score_away': '26'}], '4thQuarter': [{'score_home': '22', 'score_away': '28'}]}, 'statistics': {'Match': [{'type': 'Field Goals Attempted', 'home': '79', 'away': '82'}, {'type': 'Field Goals Made', 'home': '39', 'away': '39'}, {'type': 'Field Goals %', 'home': '49.4%', 'away': '47.6%'}, {'type': '2-Point Field G. Attempted', 'home': '49', 'away': '49'}, {'type': '2-Point Field Goals Made', 'home': '28', 'away': '26'}, {'type': '2-Point Field Goals %', 'home': '57.1%', 'away': '53.1%'}, {'type': '3-Point Field G. Attempted', 'home': '30', 'away': '33'}, {'type': '3-Point Field Goals Made', 'home': '11', 'away': '13'}, {'type': '3-Point Field Goals %', 'home': '36.7%', 'away': '39.4%'}, {'type': 'Free Throws Attempted', 'home': '30', 'away': '29'}, {'type': 'Free Throws Made', 'home': '21', 'away': '23'}, {'type': 'Free Throws %', 'home': '70%', 'away': '79.3%'}, {'type': 'Offensive Rebounds', 'home': '11', 'away': '11'}, {'type': 'Defensive Rebounds', 'home': '31', 'away': '28'}, {'type': 'Total Rebounds', 'home': '42', 'away': '39'}, {'type': 'Assists', 'home': '27', 'away': '25'}, {'type': 'Blocks', 'home': '6', 'away': '2'}, {'type': 'Turnovers', 'home': '16', 'away': '12'}, {'type': 'Steals', 'home': '9', 'away': '8'}, {'type': 'Personal Fouls', 'home': '22', 'away': '23'}, {'type': 'Technical Fouls', 'home': '0', 'away': '0'}], '1stQuarter': [{'type': 'Field Goals Attempted', 'home': '21', 'away': '23'}, {'type': 'Field Goals Made', 'home': '12', 'away': '12'}, {'type': 'Field Goals %', 'home': '57.1%', 'away': '52.2%'}, {'type': '2-Point Field G. Attempted', 'home': '14', 'away': '9'}, {'type': '2-Point Field Goals Made', 'home': '8', 'away': '5'}, {'type': '2-Point Field Goals %', 'home': '57.1%', 'away': '55.6%'}, {'type': '3-Point Field G. Attempted', 'home': '7', 'away': '14'}, {'type': '3-Point Field Goals Made', 'home': '4', 'away': '7'}, {'type': '3-Point Field Goals %', 'home': '57.1%', 'away': '50%'}, {'type': 'Free Throws Attempted', 'home': '6', 'away': '4'}, {'type': 'Free Throws Made', 'home': '5', 'away': '2'}, {'type': 'Free Throws %', 'home': '83.3%', 'away': '50%'}, {'type': 'Offensive Rebounds', 'home': '3', 'away': '0'}, {'type': 'Defensive Rebounds', 'home': '10', 'away': '7'}, {'type': 'Total Rebounds', 'home': '13', 'away': '7'}, {'type': 'Assists', 'home': '8', 'away': '7'}, {'type': 'Blocks', 'home': '0', 'away': '1'}, {'type': 'Turnovers', 'home': '6', 'away': '2'}, {'type': 'Steals', 'home': '0', 'away': '3'}, {'type': 'Personal Fouls', 'home': '4', 'away': '5'}, {'type': 'Technical Fouls', 'home': '0', 'away': '0'}], '2ndQuarter': [{'type': 'Field Goals Attempted', 'home': '21', 'away': '21'}, {'type': 'Field Goals Made', 'home': '8', 'away': '11'}, {'type': 'Field Goals %', 'home': '38.1%', 'away': '52.4%'}, {'type': '2-Point Field G. Attempted', 'home': '16', 'away': '17'}, {'type': '2-Point Field Goals Made', 'home': '8', 'away': '9'}, {'type': '2-Point Field Goals %', 'home': '50%', 'away': '52.9%'}, {'type': '3-Point Field G. Attempted', 'home': '5', 'away': '4'}, {'type': '3-Point Field Goals Made', 'home': '0', 'away': '2'}, {'type': '3-Point Field Goals %', 'home': '0%', 'away': '50%'}, {'type': 'Free Throws Attempted', 'home': '8', 'away': '3'}, {'type': 'Free Throws Made', 'home': '8', 'away': '3'}, {'type': 'Free Throws %', 'home': '100%', 'away': '100%'}, {'type': 'Offensive Rebounds', 'home': '3', 'away': '3'}, {'type': 'Defensive Rebounds', 'home': '6', 'away': '7'}, {'type': 'Total Rebounds', 'home': '9', 'away': '10'}, {'type': 'Assists', 'home': '6', 'away': '8'}, {'type': 'Blocks', 'home': '4', 'away': '0'}, {'type': 'Turnovers', 'home': '4', 'away': '4'}, {'type': 'Steals', 'home': '4', 'away': '1'}, {'type': 'Personal Fouls', 'home': '5', 'away': '5'}, {'type': 'Technical Fouls', 'home': '0', 'away': '0'}], '3rdQuarter': [{'type': 'Field Goals Attempted', 'home': '20', 'away': '19'}, {'type': 'Field Goals Made', 'home': '11', 'away': '8'}, {'type': 'Field Goals %', 'home': '55%', 'away': '42.1%'}, {'type': '2-Point Field G. Attempted', 'home': '8', 'away': '13'}, {'type': '2-Point Field Goals Made', 'home': '5', 'away': '7'}, {'type': '2-Point Field Goals %', 'home': '62.5%', 'away': '53.8%'}, {'type': '3-Point Field G. Attempted', 'home': '12', 'away': '6'}, {'type': '3-Point Field Goals Made', 'home': '6', 'away': '1'}, {'type': '3-Point Field Goals %', 'home': '50%', 'away': '16.7%'}, {'type': 'Free Throws Attempted', 'home': '8', 'away': '12'}, {'type': 'Free Throws Made', 'home': '3', 'away': '9'}, {'type': 'Free Throws %', 'home': '37.5%', 'away': '75%'}, {'type': 'Offensive Rebounds', 'home': '2', 'away': '4'}, {'type': 'Defensive Rebounds', 'home': '8', 'away': '8'}, {'type': 'Total Rebounds', 'home': '10', 'away': '12'}, {'type': 'Assists', 'home': '6', 'away': '5'}, {'type': 'Blocks', 'home': '1', 'away': '0'}, {'type': 'Turnovers', 'home': '2', 'away': '2'}, {'type': 'Steals', 'home': '2', 'away': '2'}, {'type': 'Personal Fouls', 'home': '9', 'away': '6'}, {'type': 'Technical Fouls', 'home': '0', 'away': '0'}], '4thQuarter': [{'type': 'Field Goals Attempted', 'home': '17', 'away': '19'}, {'type': 'Field Goals Made', 'home': '8', 'away': '8'}, {'type': 'Field Goals %', 'home': '47.1%', 'away': '42.1%'}, {'type': '2-Point Field G. Attempted', 'home': '11', 'away': '10'}, {'type': '2-Point Field Goals Made', 'home': '7', 'away': '5'}, {'type': '2-Point Field Goals %', 'home': '63.6%', 'away': '50%'}, {'type': '3-Point Field G. Attempted', 'home': '6', 'away': '9'}, {'type': '3-Point Field Goals Made', 'home': '1', 'away': '3'}, {'type': '3-Point Field Goals %', 'home': '16.7%', 'away': '33.3%'}, {'type': 'Free Throws Attempted', 'home': '8', 'away': '10'}, {'type': 'Free Throws Made', 'home': '5', 'away': '9'}, {'type': 'Free Throws %', 'home': '62.5%', 'away': '90%'}, {'type': 'Offensive Rebounds', 'home': '3', 'away': '4'}, {'type': 'Defensive Rebounds', 'home': '7', 'away': '6'}]}}, 'retweetId': '1139385174494289921', 'text': \"#NBAFinals Drake's producers rn \\n\\nhttps://t.co/6bw62WU9Ee\", 'hashtag': ['nbafinals']}\n",
      "\n",
      "\n",
      "\n",
      " Il risultato dell'integrazione è il seguente\n",
      "\n",
      " Team 2\n",
      "Il tweet è stato correttamente inserito nel file Team2.json \n",
      "\n",
      "Il tweet è stato correttamente inserito nella collection Team2 \n",
      "\n",
      "{'_id': '1139394021736894470', 'n_tweet': 1438004, 'time_tweet': '04:48:03', 'date_tweet': '2019-06-14', 'source': '<a href=\"http://twitter.com/download/android\" rel=\"nofollow\">Twitter for Android</a>', 'retweet_count': 0, 'placeTweet': None, 'placeUser': 'Canada', 'stats': {'event_date': '2019-06-14', 'event_key': '42208', 'time': '03:49:19', 'event_status': 'Finished', 'final_score': '110 - 114', 'scores': {'1stQuarter': [{'score_home': '32', 'score_away': '33'}], '2ndQuarter': [{'score_home': '25', 'score_away': '27'}], '3rdQuarter': [{'score_home': '31', 'score_away': '26'}], '4thQuarter': [{'score_home': '22', 'score_away': '28'}]}, 'statistics': {'Match': [{'type': 'Field Goals Attempted', 'home': '79', 'away': '82'}, {'type': 'Field Goals Made', 'home': '39', 'away': '39'}, {'type': 'Field Goals %', 'home': '49.4%', 'away': '47.6%'}, {'type': '2-Point Field G. Attempted', 'home': '49', 'away': '49'}, {'type': '2-Point Field Goals Made', 'home': '28', 'away': '26'}, {'type': '2-Point Field Goals %', 'home': '57.1%', 'away': '53.1%'}, {'type': '3-Point Field G. Attempted', 'home': '30', 'away': '33'}, {'type': '3-Point Field Goals Made', 'home': '11', 'away': '13'}, {'type': '3-Point Field Goals %', 'home': '36.7%', 'away': '39.4%'}, {'type': 'Free Throws Attempted', 'home': '30', 'away': '29'}, {'type': 'Free Throws Made', 'home': '21', 'away': '23'}, {'type': 'Free Throws %', 'home': '70%', 'away': '79.3%'}, {'type': 'Offensive Rebounds', 'home': '11', 'away': '11'}, {'type': 'Defensive Rebounds', 'home': '31', 'away': '28'}, {'type': 'Total Rebounds', 'home': '42', 'away': '39'}, {'type': 'Assists', 'home': '27', 'away': '25'}, {'type': 'Blocks', 'home': '6', 'away': '2'}, {'type': 'Turnovers', 'home': '16', 'away': '12'}, {'type': 'Steals', 'home': '9', 'away': '8'}, {'type': 'Personal Fouls', 'home': '22', 'away': '23'}, {'type': 'Technical Fouls', 'home': '0', 'away': '0'}], '1stQuarter': [{'type': 'Field Goals Attempted', 'home': '21', 'away': '23'}, {'type': 'Field Goals Made', 'home': '12', 'away': '12'}, {'type': 'Field Goals %', 'home': '57.1%', 'away': '52.2%'}, {'type': '2-Point Field G. Attempted', 'home': '14', 'away': '9'}, {'type': '2-Point Field Goals Made', 'home': '8', 'away': '5'}, {'type': '2-Point Field Goals %', 'home': '57.1%', 'away': '55.6%'}, {'type': '3-Point Field G. Attempted', 'home': '7', 'away': '14'}, {'type': '3-Point Field Goals Made', 'home': '4', 'away': '7'}, {'type': '3-Point Field Goals %', 'home': '57.1%', 'away': '50%'}, {'type': 'Free Throws Attempted', 'home': '6', 'away': '4'}, {'type': 'Free Throws Made', 'home': '5', 'away': '2'}, {'type': 'Free Throws %', 'home': '83.3%', 'away': '50%'}, {'type': 'Offensive Rebounds', 'home': '3', 'away': '0'}, {'type': 'Defensive Rebounds', 'home': '10', 'away': '7'}, {'type': 'Total Rebounds', 'home': '13', 'away': '7'}, {'type': 'Assists', 'home': '8', 'away': '7'}, {'type': 'Blocks', 'home': '0', 'away': '1'}, {'type': 'Turnovers', 'home': '6', 'away': '2'}, {'type': 'Steals', 'home': '0', 'away': '3'}, {'type': 'Personal Fouls', 'home': '4', 'away': '5'}, {'type': 'Technical Fouls', 'home': '0', 'away': '0'}], '2ndQuarter': [{'type': 'Field Goals Attempted', 'home': '21', 'away': '21'}, {'type': 'Field Goals Made', 'home': '8', 'away': '11'}, {'type': 'Field Goals %', 'home': '38.1%', 'away': '52.4%'}, {'type': '2-Point Field G. Attempted', 'home': '16', 'away': '17'}, {'type': '2-Point Field Goals Made', 'home': '8', 'away': '9'}, {'type': '2-Point Field Goals %', 'home': '50%', 'away': '52.9%'}, {'type': '3-Point Field G. Attempted', 'home': '5', 'away': '4'}, {'type': '3-Point Field Goals Made', 'home': '0', 'away': '2'}, {'type': '3-Point Field Goals %', 'home': '0%', 'away': '50%'}, {'type': 'Free Throws Attempted', 'home': '8', 'away': '3'}, {'type': 'Free Throws Made', 'home': '8', 'away': '3'}, {'type': 'Free Throws %', 'home': '100%', 'away': '100%'}, {'type': 'Offensive Rebounds', 'home': '3', 'away': '3'}, {'type': 'Defensive Rebounds', 'home': '6', 'away': '7'}, {'type': 'Total Rebounds', 'home': '9', 'away': '10'}, {'type': 'Assists', 'home': '6', 'away': '8'}, {'type': 'Blocks', 'home': '4', 'away': '0'}, {'type': 'Turnovers', 'home': '4', 'away': '4'}, {'type': 'Steals', 'home': '4', 'away': '1'}, {'type': 'Personal Fouls', 'home': '5', 'away': '5'}, {'type': 'Technical Fouls', 'home': '0', 'away': '0'}], '3rdQuarter': [{'type': 'Field Goals Attempted', 'home': '20', 'away': '19'}, {'type': 'Field Goals Made', 'home': '11', 'away': '8'}, {'type': 'Field Goals %', 'home': '55%', 'away': '42.1%'}, {'type': '2-Point Field G. Attempted', 'home': '8', 'away': '13'}, {'type': '2-Point Field Goals Made', 'home': '5', 'away': '7'}, {'type': '2-Point Field Goals %', 'home': '62.5%', 'away': '53.8%'}, {'type': '3-Point Field G. Attempted', 'home': '12', 'away': '6'}, {'type': '3-Point Field Goals Made', 'home': '6', 'away': '1'}, {'type': '3-Point Field Goals %', 'home': '50%', 'away': '16.7%'}, {'type': 'Free Throws Attempted', 'home': '8', 'away': '12'}, {'type': 'Free Throws Made', 'home': '3', 'away': '9'}, {'type': 'Free Throws %', 'home': '37.5%', 'away': '75%'}, {'type': 'Offensive Rebounds', 'home': '2', 'away': '4'}, {'type': 'Defensive Rebounds', 'home': '8', 'away': '8'}, {'type': 'Total Rebounds', 'home': '10', 'away': '12'}, {'type': 'Assists', 'home': '6', 'away': '5'}, {'type': 'Blocks', 'home': '1', 'away': '0'}, {'type': 'Turnovers', 'home': '2', 'away': '2'}, {'type': 'Steals', 'home': '2', 'away': '2'}, {'type': 'Personal Fouls', 'home': '9', 'away': '6'}, {'type': 'Technical Fouls', 'home': '0', 'away': '0'}], '4thQuarter': [{'type': 'Field Goals Attempted', 'home': '17', 'away': '19'}, {'type': 'Field Goals Made', 'home': '8', 'away': '8'}, {'type': 'Field Goals %', 'home': '47.1%', 'away': '42.1%'}, {'type': '2-Point Field G. Attempted', 'home': '11', 'away': '10'}, {'type': '2-Point Field Goals Made', 'home': '7', 'away': '5'}, {'type': '2-Point Field Goals %', 'home': '63.6%', 'away': '50%'}, {'type': '3-Point Field G. Attempted', 'home': '6', 'away': '9'}, {'type': '3-Point Field Goals Made', 'home': '1', 'away': '3'}, {'type': '3-Point Field Goals %', 'home': '16.7%', 'away': '33.3%'}, {'type': 'Free Throws Attempted', 'home': '8', 'away': '10'}, {'type': 'Free Throws Made', 'home': '5', 'away': '9'}, {'type': 'Free Throws %', 'home': '62.5%', 'away': '90%'}, {'type': 'Offensive Rebounds', 'home': '3', 'away': '4'}, {'type': 'Defensive Rebounds', 'home': '7', 'away': '6'}]}}, 'text': 'Raptors win in 6! 🏀❤ #WeTheNorth', 'hashtag': ['wethenorth']}\n",
      "\n",
      "\n",
      "\n",
      " Il risultato dell'integrazione è il seguente\n",
      "\n",
      " Team 2\n",
      "Il tweet è stato correttamente inserito nel file Team2.json \n",
      "\n",
      "Il tweet è stato correttamente inserito nella collection Team2 \n",
      "\n",
      "{'_id': '1139394021707489281', 'n_tweet': 1438005, 'time_tweet': '04:48:03', 'date_tweet': '2019-06-14', 'source': '<a href=\"http://twitter.com/download/iphone\" rel=\"nofollow\">Twitter for iPhone</a>', 'retweet_count': 0, 'placeTweet': None, 'placeUser': 'Grenoble, France ', 'stats': {'event_date': '2019-06-14', 'event_key': '42208', 'time': '03:49:19', 'event_status': 'Finished', 'final_score': '110 - 114', 'scores': {'1stQuarter': [{'score_home': '32', 'score_away': '33'}], '2ndQuarter': [{'score_home': '25', 'score_away': '27'}], '3rdQuarter': [{'score_home': '31', 'score_away': '26'}], '4thQuarter': [{'score_home': '22', 'score_away': '28'}]}, 'statistics': {'Match': [{'type': 'Field Goals Attempted', 'home': '79', 'away': '82'}, {'type': 'Field Goals Made', 'home': '39', 'away': '39'}, {'type': 'Field Goals %', 'home': '49.4%', 'away': '47.6%'}, {'type': '2-Point Field G. Attempted', 'home': '49', 'away': '49'}, {'type': '2-Point Field Goals Made', 'home': '28', 'away': '26'}, {'type': '2-Point Field Goals %', 'home': '57.1%', 'away': '53.1%'}, {'type': '3-Point Field G. Attempted', 'home': '30', 'away': '33'}, {'type': '3-Point Field Goals Made', 'home': '11', 'away': '13'}, {'type': '3-Point Field Goals %', 'home': '36.7%', 'away': '39.4%'}, {'type': 'Free Throws Attempted', 'home': '30', 'away': '29'}, {'type': 'Free Throws Made', 'home': '21', 'away': '23'}, {'type': 'Free Throws %', 'home': '70%', 'away': '79.3%'}, {'type': 'Offensive Rebounds', 'home': '11', 'away': '11'}, {'type': 'Defensive Rebounds', 'home': '31', 'away': '28'}, {'type': 'Total Rebounds', 'home': '42', 'away': '39'}, {'type': 'Assists', 'home': '27', 'away': '25'}, {'type': 'Blocks', 'home': '6', 'away': '2'}, {'type': 'Turnovers', 'home': '16', 'away': '12'}, {'type': 'Steals', 'home': '9', 'away': '8'}, {'type': 'Personal Fouls', 'home': '22', 'away': '23'}, {'type': 'Technical Fouls', 'home': '0', 'away': '0'}], '1stQuarter': [{'type': 'Field Goals Attempted', 'home': '21', 'away': '23'}, {'type': 'Field Goals Made', 'home': '12', 'away': '12'}, {'type': 'Field Goals %', 'home': '57.1%', 'away': '52.2%'}, {'type': '2-Point Field G. Attempted', 'home': '14', 'away': '9'}, {'type': '2-Point Field Goals Made', 'home': '8', 'away': '5'}, {'type': '2-Point Field Goals %', 'home': '57.1%', 'away': '55.6%'}, {'type': '3-Point Field G. Attempted', 'home': '7', 'away': '14'}, {'type': '3-Point Field Goals Made', 'home': '4', 'away': '7'}, {'type': '3-Point Field Goals %', 'home': '57.1%', 'away': '50%'}, {'type': 'Free Throws Attempted', 'home': '6', 'away': '4'}, {'type': 'Free Throws Made', 'home': '5', 'away': '2'}, {'type': 'Free Throws %', 'home': '83.3%', 'away': '50%'}, {'type': 'Offensive Rebounds', 'home': '3', 'away': '0'}, {'type': 'Defensive Rebounds', 'home': '10', 'away': '7'}, {'type': 'Total Rebounds', 'home': '13', 'away': '7'}, {'type': 'Assists', 'home': '8', 'away': '7'}, {'type': 'Blocks', 'home': '0', 'away': '1'}, {'type': 'Turnovers', 'home': '6', 'away': '2'}, {'type': 'Steals', 'home': '0', 'away': '3'}, {'type': 'Personal Fouls', 'home': '4', 'away': '5'}, {'type': 'Technical Fouls', 'home': '0', 'away': '0'}], '2ndQuarter': [{'type': 'Field Goals Attempted', 'home': '21', 'away': '21'}, {'type': 'Field Goals Made', 'home': '8', 'away': '11'}, {'type': 'Field Goals %', 'home': '38.1%', 'away': '52.4%'}, {'type': '2-Point Field G. Attempted', 'home': '16', 'away': '17'}, {'type': '2-Point Field Goals Made', 'home': '8', 'away': '9'}, {'type': '2-Point Field Goals %', 'home': '50%', 'away': '52.9%'}, {'type': '3-Point Field G. Attempted', 'home': '5', 'away': '4'}, {'type': '3-Point Field Goals Made', 'home': '0', 'away': '2'}, {'type': '3-Point Field Goals %', 'home': '0%', 'away': '50%'}, {'type': 'Free Throws Attempted', 'home': '8', 'away': '3'}, {'type': 'Free Throws Made', 'home': '8', 'away': '3'}, {'type': 'Free Throws %', 'home': '100%', 'away': '100%'}, {'type': 'Offensive Rebounds', 'home': '3', 'away': '3'}, {'type': 'Defensive Rebounds', 'home': '6', 'away': '7'}, {'type': 'Total Rebounds', 'home': '9', 'away': '10'}, {'type': 'Assists', 'home': '6', 'away': '8'}, {'type': 'Blocks', 'home': '4', 'away': '0'}, {'type': 'Turnovers', 'home': '4', 'away': '4'}, {'type': 'Steals', 'home': '4', 'away': '1'}, {'type': 'Personal Fouls', 'home': '5', 'away': '5'}, {'type': 'Technical Fouls', 'home': '0', 'away': '0'}], '3rdQuarter': [{'type': 'Field Goals Attempted', 'home': '20', 'away': '19'}, {'type': 'Field Goals Made', 'home': '11', 'away': '8'}, {'type': 'Field Goals %', 'home': '55%', 'away': '42.1%'}, {'type': '2-Point Field G. Attempted', 'home': '8', 'away': '13'}, {'type': '2-Point Field Goals Made', 'home': '5', 'away': '7'}, {'type': '2-Point Field Goals %', 'home': '62.5%', 'away': '53.8%'}, {'type': '3-Point Field G. Attempted', 'home': '12', 'away': '6'}, {'type': '3-Point Field Goals Made', 'home': '6', 'away': '1'}, {'type': '3-Point Field Goals %', 'home': '50%', 'away': '16.7%'}, {'type': 'Free Throws Attempted', 'home': '8', 'away': '12'}, {'type': 'Free Throws Made', 'home': '3', 'away': '9'}, {'type': 'Free Throws %', 'home': '37.5%', 'away': '75%'}, {'type': 'Offensive Rebounds', 'home': '2', 'away': '4'}, {'type': 'Defensive Rebounds', 'home': '8', 'away': '8'}, {'type': 'Total Rebounds', 'home': '10', 'away': '12'}, {'type': 'Assists', 'home': '6', 'away': '5'}, {'type': 'Blocks', 'home': '1', 'away': '0'}, {'type': 'Turnovers', 'home': '2', 'away': '2'}, {'type': 'Steals', 'home': '2', 'away': '2'}, {'type': 'Personal Fouls', 'home': '9', 'away': '6'}, {'type': 'Technical Fouls', 'home': '0', 'away': '0'}], '4thQuarter': [{'type': 'Field Goals Attempted', 'home': '17', 'away': '19'}, {'type': 'Field Goals Made', 'home': '8', 'away': '8'}, {'type': 'Field Goals %', 'home': '47.1%', 'away': '42.1%'}, {'type': '2-Point Field G. Attempted', 'home': '11', 'away': '10'}, {'type': '2-Point Field Goals Made', 'home': '7', 'away': '5'}, {'type': '2-Point Field Goals %', 'home': '63.6%', 'away': '50%'}, {'type': '3-Point Field G. Attempted', 'home': '6', 'away': '9'}, {'type': '3-Point Field Goals Made', 'home': '1', 'away': '3'}, {'type': '3-Point Field Goals %', 'home': '16.7%', 'away': '33.3%'}, {'type': 'Free Throws Attempted', 'home': '8', 'away': '10'}, {'type': 'Free Throws Made', 'home': '5', 'away': '9'}, {'type': 'Free Throws %', 'home': '62.5%', 'away': '90%'}, {'type': 'Offensive Rebounds', 'home': '3', 'away': '4'}, {'type': 'Defensive Rebounds', 'home': '7', 'away': '6'}]}}, 'retweetId': '1139388236143321088', 'text': 'HISTORY! #WeTheNorth https://t.co/F6nKao43jf', 'hashtag': ['wethenorth']}\n",
      "\n",
      "\n",
      "\n",
      " Il risultato dell'integrazione è il seguente\n",
      "\n",
      " Team 2\n",
      "Il tweet è stato correttamente inserito nel file Team2.json \n",
      "\n",
      "Il tweet è stato correttamente inserito nella collection Team2 \n",
      "\n",
      "{'_id': '1139394021799804930', 'n_tweet': 1438006, 'time_tweet': '04:48:03', 'date_tweet': '2019-06-14', 'source': '<a href=\"http://twitter.com/download/iphone\" rel=\"nofollow\">Twitter for iPhone</a>', 'retweet_count': 0, 'placeTweet': None, 'placeUser': None, 'stats': {'event_date': '2019-06-14', 'event_key': '42208', 'time': '03:49:19', 'event_status': 'Finished', 'final_score': '110 - 114', 'scores': {'1stQuarter': [{'score_home': '32', 'score_away': '33'}], '2ndQuarter': [{'score_home': '25', 'score_away': '27'}], '3rdQuarter': [{'score_home': '31', 'score_away': '26'}], '4thQuarter': [{'score_home': '22', 'score_away': '28'}]}, 'statistics': {'Match': [{'type': 'Field Goals Attempted', 'home': '79', 'away': '82'}, {'type': 'Field Goals Made', 'home': '39', 'away': '39'}, {'type': 'Field Goals %', 'home': '49.4%', 'away': '47.6%'}, {'type': '2-Point Field G. Attempted', 'home': '49', 'away': '49'}, {'type': '2-Point Field Goals Made', 'home': '28', 'away': '26'}, {'type': '2-Point Field Goals %', 'home': '57.1%', 'away': '53.1%'}, {'type': '3-Point Field G. Attempted', 'home': '30', 'away': '33'}, {'type': '3-Point Field Goals Made', 'home': '11', 'away': '13'}, {'type': '3-Point Field Goals %', 'home': '36.7%', 'away': '39.4%'}, {'type': 'Free Throws Attempted', 'home': '30', 'away': '29'}, {'type': 'Free Throws Made', 'home': '21', 'away': '23'}, {'type': 'Free Throws %', 'home': '70%', 'away': '79.3%'}, {'type': 'Offensive Rebounds', 'home': '11', 'away': '11'}, {'type': 'Defensive Rebounds', 'home': '31', 'away': '28'}, {'type': 'Total Rebounds', 'home': '42', 'away': '39'}, {'type': 'Assists', 'home': '27', 'away': '25'}, {'type': 'Blocks', 'home': '6', 'away': '2'}, {'type': 'Turnovers', 'home': '16', 'away': '12'}, {'type': 'Steals', 'home': '9', 'away': '8'}, {'type': 'Personal Fouls', 'home': '22', 'away': '23'}, {'type': 'Technical Fouls', 'home': '0', 'away': '0'}], '1stQuarter': [{'type': 'Field Goals Attempted', 'home': '21', 'away': '23'}, {'type': 'Field Goals Made', 'home': '12', 'away': '12'}, {'type': 'Field Goals %', 'home': '57.1%', 'away': '52.2%'}, {'type': '2-Point Field G. Attempted', 'home': '14', 'away': '9'}, {'type': '2-Point Field Goals Made', 'home': '8', 'away': '5'}, {'type': '2-Point Field Goals %', 'home': '57.1%', 'away': '55.6%'}, {'type': '3-Point Field G. Attempted', 'home': '7', 'away': '14'}, {'type': '3-Point Field Goals Made', 'home': '4', 'away': '7'}, {'type': '3-Point Field Goals %', 'home': '57.1%', 'away': '50%'}, {'type': 'Free Throws Attempted', 'home': '6', 'away': '4'}, {'type': 'Free Throws Made', 'home': '5', 'away': '2'}, {'type': 'Free Throws %', 'home': '83.3%', 'away': '50%'}, {'type': 'Offensive Rebounds', 'home': '3', 'away': '0'}, {'type': 'Defensive Rebounds', 'home': '10', 'away': '7'}, {'type': 'Total Rebounds', 'home': '13', 'away': '7'}, {'type': 'Assists', 'home': '8', 'away': '7'}, {'type': 'Blocks', 'home': '0', 'away': '1'}, {'type': 'Turnovers', 'home': '6', 'away': '2'}, {'type': 'Steals', 'home': '0', 'away': '3'}, {'type': 'Personal Fouls', 'home': '4', 'away': '5'}, {'type': 'Technical Fouls', 'home': '0', 'away': '0'}], '2ndQuarter': [{'type': 'Field Goals Attempted', 'home': '21', 'away': '21'}, {'type': 'Field Goals Made', 'home': '8', 'away': '11'}, {'type': 'Field Goals %', 'home': '38.1%', 'away': '52.4%'}, {'type': '2-Point Field G. Attempted', 'home': '16', 'away': '17'}, {'type': '2-Point Field Goals Made', 'home': '8', 'away': '9'}, {'type': '2-Point Field Goals %', 'home': '50%', 'away': '52.9%'}, {'type': '3-Point Field G. Attempted', 'home': '5', 'away': '4'}, {'type': '3-Point Field Goals Made', 'home': '0', 'away': '2'}, {'type': '3-Point Field Goals %', 'home': '0%', 'away': '50%'}, {'type': 'Free Throws Attempted', 'home': '8', 'away': '3'}, {'type': 'Free Throws Made', 'home': '8', 'away': '3'}, {'type': 'Free Throws %', 'home': '100%', 'away': '100%'}, {'type': 'Offensive Rebounds', 'home': '3', 'away': '3'}, {'type': 'Defensive Rebounds', 'home': '6', 'away': '7'}, {'type': 'Total Rebounds', 'home': '9', 'away': '10'}, {'type': 'Assists', 'home': '6', 'away': '8'}, {'type': 'Blocks', 'home': '4', 'away': '0'}, {'type': 'Turnovers', 'home': '4', 'away': '4'}, {'type': 'Steals', 'home': '4', 'away': '1'}, {'type': 'Personal Fouls', 'home': '5', 'away': '5'}, {'type': 'Technical Fouls', 'home': '0', 'away': '0'}], '3rdQuarter': [{'type': 'Field Goals Attempted', 'home': '20', 'away': '19'}, {'type': 'Field Goals Made', 'home': '11', 'away': '8'}, {'type': 'Field Goals %', 'home': '55%', 'away': '42.1%'}, {'type': '2-Point Field G. Attempted', 'home': '8', 'away': '13'}, {'type': '2-Point Field Goals Made', 'home': '5', 'away': '7'}, {'type': '2-Point Field Goals %', 'home': '62.5%', 'away': '53.8%'}, {'type': '3-Point Field G. Attempted', 'home': '12', 'away': '6'}, {'type': '3-Point Field Goals Made', 'home': '6', 'away': '1'}, {'type': '3-Point Field Goals %', 'home': '50%', 'away': '16.7%'}, {'type': 'Free Throws Attempted', 'home': '8', 'away': '12'}, {'type': 'Free Throws Made', 'home': '3', 'away': '9'}, {'type': 'Free Throws %', 'home': '37.5%', 'away': '75%'}, {'type': 'Offensive Rebounds', 'home': '2', 'away': '4'}, {'type': 'Defensive Rebounds', 'home': '8', 'away': '8'}, {'type': 'Total Rebounds', 'home': '10', 'away': '12'}, {'type': 'Assists', 'home': '6', 'away': '5'}, {'type': 'Blocks', 'home': '1', 'away': '0'}, {'type': 'Turnovers', 'home': '2', 'away': '2'}, {'type': 'Steals', 'home': '2', 'away': '2'}, {'type': 'Personal Fouls', 'home': '9', 'away': '6'}, {'type': 'Technical Fouls', 'home': '0', 'away': '0'}], '4thQuarter': [{'type': 'Field Goals Attempted', 'home': '17', 'away': '19'}, {'type': 'Field Goals Made', 'home': '8', 'away': '8'}, {'type': 'Field Goals %', 'home': '47.1%', 'away': '42.1%'}, {'type': '2-Point Field G. Attempted', 'home': '11', 'away': '10'}, {'type': '2-Point Field Goals Made', 'home': '7', 'away': '5'}, {'type': '2-Point Field Goals %', 'home': '63.6%', 'away': '50%'}, {'type': '3-Point Field G. Attempted', 'home': '6', 'away': '9'}, {'type': '3-Point Field Goals Made', 'home': '1', 'away': '3'}, {'type': '3-Point Field Goals %', 'home': '16.7%', 'away': '33.3%'}, {'type': 'Free Throws Attempted', 'home': '8', 'away': '10'}, {'type': 'Free Throws Made', 'home': '5', 'away': '9'}, {'type': 'Free Throws %', 'home': '62.5%', 'away': '90%'}, {'type': 'Offensive Rebounds', 'home': '3', 'away': '4'}, {'type': 'Defensive Rebounds', 'home': '7', 'away': '6'}]}}, 'retweetId': '1139393814592757760', 'text': 'Inside the @raptors lockerroom celebration! #WeTheNorth https://t.co/7ovDvRoHhX', 'hashtag': ['wethenorth']}\n",
      "\n",
      "\n",
      "\n",
      " Il risultato dell'integrazione è il seguente\n",
      "\n",
      " Team 2\n",
      "Il tweet è stato correttamente inserito nel file Team2.json \n",
      "\n",
      "Il tweet è stato correttamente inserito nella collection Team2 \n",
      "\n",
      "{'_id': '1139394021955010560', 'n_tweet': 1438007, 'time_tweet': '04:48:03', 'date_tweet': '2019-06-14', 'source': '<a href=\"http://twitter.com/download/iphone\" rel=\"nofollow\">Twitter for iPhone</a>', 'retweet_count': 0, 'placeTweet': None, 'placeUser': 'toronto ', 'stats': {'event_date': '2019-06-14', 'event_key': '42208', 'time': '03:49:19', 'event_status': 'Finished', 'final_score': '110 - 114', 'scores': {'1stQuarter': [{'score_home': '32', 'score_away': '33'}], '2ndQuarter': [{'score_home': '25', 'score_away': '27'}], '3rdQuarter': [{'score_home': '31', 'score_away': '26'}], '4thQuarter': [{'score_home': '22', 'score_away': '28'}]}, 'statistics': {'Match': [{'type': 'Field Goals Attempted', 'home': '79', 'away': '82'}, {'type': 'Field Goals Made', 'home': '39', 'away': '39'}, {'type': 'Field Goals %', 'home': '49.4%', 'away': '47.6%'}, {'type': '2-Point Field G. Attempted', 'home': '49', 'away': '49'}, {'type': '2-Point Field Goals Made', 'home': '28', 'away': '26'}, {'type': '2-Point Field Goals %', 'home': '57.1%', 'away': '53.1%'}, {'type': '3-Point Field G. Attempted', 'home': '30', 'away': '33'}, {'type': '3-Point Field Goals Made', 'home': '11', 'away': '13'}, {'type': '3-Point Field Goals %', 'home': '36.7%', 'away': '39.4%'}, {'type': 'Free Throws Attempted', 'home': '30', 'away': '29'}, {'type': 'Free Throws Made', 'home': '21', 'away': '23'}, {'type': 'Free Throws %', 'home': '70%', 'away': '79.3%'}, {'type': 'Offensive Rebounds', 'home': '11', 'away': '11'}, {'type': 'Defensive Rebounds', 'home': '31', 'away': '28'}, {'type': 'Total Rebounds', 'home': '42', 'away': '39'}, {'type': 'Assists', 'home': '27', 'away': '25'}, {'type': 'Blocks', 'home': '6', 'away': '2'}, {'type': 'Turnovers', 'home': '16', 'away': '12'}, {'type': 'Steals', 'home': '9', 'away': '8'}, {'type': 'Personal Fouls', 'home': '22', 'away': '23'}, {'type': 'Technical Fouls', 'home': '0', 'away': '0'}], '1stQuarter': [{'type': 'Field Goals Attempted', 'home': '21', 'away': '23'}, {'type': 'Field Goals Made', 'home': '12', 'away': '12'}, {'type': 'Field Goals %', 'home': '57.1%', 'away': '52.2%'}, {'type': '2-Point Field G. Attempted', 'home': '14', 'away': '9'}, {'type': '2-Point Field Goals Made', 'home': '8', 'away': '5'}, {'type': '2-Point Field Goals %', 'home': '57.1%', 'away': '55.6%'}, {'type': '3-Point Field G. Attempted', 'home': '7', 'away': '14'}, {'type': '3-Point Field Goals Made', 'home': '4', 'away': '7'}, {'type': '3-Point Field Goals %', 'home': '57.1%', 'away': '50%'}, {'type': 'Free Throws Attempted', 'home': '6', 'away': '4'}, {'type': 'Free Throws Made', 'home': '5', 'away': '2'}, {'type': 'Free Throws %', 'home': '83.3%', 'away': '50%'}, {'type': 'Offensive Rebounds', 'home': '3', 'away': '0'}, {'type': 'Defensive Rebounds', 'home': '10', 'away': '7'}, {'type': 'Total Rebounds', 'home': '13', 'away': '7'}, {'type': 'Assists', 'home': '8', 'away': '7'}, {'type': 'Blocks', 'home': '0', 'away': '1'}, {'type': 'Turnovers', 'home': '6', 'away': '2'}, {'type': 'Steals', 'home': '0', 'away': '3'}, {'type': 'Personal Fouls', 'home': '4', 'away': '5'}, {'type': 'Technical Fouls', 'home': '0', 'away': '0'}], '2ndQuarter': [{'type': 'Field Goals Attempted', 'home': '21', 'away': '21'}, {'type': 'Field Goals Made', 'home': '8', 'away': '11'}, {'type': 'Field Goals %', 'home': '38.1%', 'away': '52.4%'}, {'type': '2-Point Field G. Attempted', 'home': '16', 'away': '17'}, {'type': '2-Point Field Goals Made', 'home': '8', 'away': '9'}, {'type': '2-Point Field Goals %', 'home': '50%', 'away': '52.9%'}, {'type': '3-Point Field G. Attempted', 'home': '5', 'away': '4'}, {'type': '3-Point Field Goals Made', 'home': '0', 'away': '2'}, {'type': '3-Point Field Goals %', 'home': '0%', 'away': '50%'}, {'type': 'Free Throws Attempted', 'home': '8', 'away': '3'}, {'type': 'Free Throws Made', 'home': '8', 'away': '3'}, {'type': 'Free Throws %', 'home': '100%', 'away': '100%'}, {'type': 'Offensive Rebounds', 'home': '3', 'away': '3'}, {'type': 'Defensive Rebounds', 'home': '6', 'away': '7'}, {'type': 'Total Rebounds', 'home': '9', 'away': '10'}, {'type': 'Assists', 'home': '6', 'away': '8'}, {'type': 'Blocks', 'home': '4', 'away': '0'}, {'type': 'Turnovers', 'home': '4', 'away': '4'}, {'type': 'Steals', 'home': '4', 'away': '1'}, {'type': 'Personal Fouls', 'home': '5', 'away': '5'}, {'type': 'Technical Fouls', 'home': '0', 'away': '0'}], '3rdQuarter': [{'type': 'Field Goals Attempted', 'home': '20', 'away': '19'}, {'type': 'Field Goals Made', 'home': '11', 'away': '8'}, {'type': 'Field Goals %', 'home': '55%', 'away': '42.1%'}, {'type': '2-Point Field G. Attempted', 'home': '8', 'away': '13'}, {'type': '2-Point Field Goals Made', 'home': '5', 'away': '7'}, {'type': '2-Point Field Goals %', 'home': '62.5%', 'away': '53.8%'}, {'type': '3-Point Field G. Attempted', 'home': '12', 'away': '6'}, {'type': '3-Point Field Goals Made', 'home': '6', 'away': '1'}, {'type': '3-Point Field Goals %', 'home': '50%', 'away': '16.7%'}, {'type': 'Free Throws Attempted', 'home': '8', 'away': '12'}, {'type': 'Free Throws Made', 'home': '3', 'away': '9'}, {'type': 'Free Throws %', 'home': '37.5%', 'away': '75%'}, {'type': 'Offensive Rebounds', 'home': '2', 'away': '4'}, {'type': 'Defensive Rebounds', 'home': '8', 'away': '8'}, {'type': 'Total Rebounds', 'home': '10', 'away': '12'}, {'type': 'Assists', 'home': '6', 'away': '5'}, {'type': 'Blocks', 'home': '1', 'away': '0'}, {'type': 'Turnovers', 'home': '2', 'away': '2'}, {'type': 'Steals', 'home': '2', 'away': '2'}, {'type': 'Personal Fouls', 'home': '9', 'away': '6'}, {'type': 'Technical Fouls', 'home': '0', 'away': '0'}], '4thQuarter': [{'type': 'Field Goals Attempted', 'home': '17', 'away': '19'}, {'type': 'Field Goals Made', 'home': '8', 'away': '8'}, {'type': 'Field Goals %', 'home': '47.1%', 'away': '42.1%'}, {'type': '2-Point Field G. Attempted', 'home': '11', 'away': '10'}, {'type': '2-Point Field Goals Made', 'home': '7', 'away': '5'}, {'type': '2-Point Field Goals %', 'home': '63.6%', 'away': '50%'}, {'type': '3-Point Field G. Attempted', 'home': '6', 'away': '9'}, {'type': '3-Point Field Goals Made', 'home': '1', 'away': '3'}, {'type': '3-Point Field Goals %', 'home': '16.7%', 'away': '33.3%'}, {'type': 'Free Throws Attempted', 'home': '8', 'away': '10'}, {'type': 'Free Throws Made', 'home': '5', 'away': '9'}, {'type': 'Free Throws %', 'home': '62.5%', 'away': '90%'}, {'type': 'Offensive Rebounds', 'home': '3', 'away': '4'}, {'type': 'Defensive Rebounds', 'home': '7', 'away': '6'}]}}, 'retweetId': '1139379691163230211', 'text': 'CANADA, THE @NBA TITLE IS YOURS! #WeTheNorth https://t.co/QaCvuX5bsK', 'hashtag': ['wethenorth']}\n",
      "\n",
      "\n",
      "\n",
      " Il risultato dell'integrazione è il seguente\n",
      "\n",
      " Neutro\n",
      "Il tweet è stato correttamente inserito nel file Neutro.json \n",
      "\n",
      "Il tweet è stato correttamente inserito nella collection Neutro\n",
      "\n",
      "{'_id': '1139394021883691014', 'n_tweet': 1438008, 'time_tweet': '04:48:03', 'date_tweet': '2019-06-14', 'source': '<a href=\"http://twitter.com/download/iphone\" rel=\"nofollow\">Twitter for iPhone</a>', 'retweet_count': 0, 'placeTweet': None, 'placeUser': None, 'stats': {'event_date': '2019-06-14', 'event_key': '42208', 'time': '03:49:19', 'event_status': 'Finished', 'final_score': '110 - 114', 'scores': {'1stQuarter': [{'score_home': '32', 'score_away': '33'}], '2ndQuarter': [{'score_home': '25', 'score_away': '27'}], '3rdQuarter': [{'score_home': '31', 'score_away': '26'}], '4thQuarter': [{'score_home': '22', 'score_away': '28'}]}, 'statistics': {'Match': [{'type': 'Field Goals Attempted', 'home': '79', 'away': '82'}, {'type': 'Field Goals Made', 'home': '39', 'away': '39'}, {'type': 'Field Goals %', 'home': '49.4%', 'away': '47.6%'}, {'type': '2-Point Field G. Attempted', 'home': '49', 'away': '49'}, {'type': '2-Point Field Goals Made', 'home': '28', 'away': '26'}, {'type': '2-Point Field Goals %', 'home': '57.1%', 'away': '53.1%'}, {'type': '3-Point Field G. Attempted', 'home': '30', 'away': '33'}, {'type': '3-Point Field Goals Made', 'home': '11', 'away': '13'}, {'type': '3-Point Field Goals %', 'home': '36.7%', 'away': '39.4%'}, {'type': 'Free Throws Attempted', 'home': '30', 'away': '29'}, {'type': 'Free Throws Made', 'home': '21', 'away': '23'}, {'type': 'Free Throws %', 'home': '70%', 'away': '79.3%'}, {'type': 'Offensive Rebounds', 'home': '11', 'away': '11'}, {'type': 'Defensive Rebounds', 'home': '31', 'away': '28'}, {'type': 'Total Rebounds', 'home': '42', 'away': '39'}, {'type': 'Assists', 'home': '27', 'away': '25'}, {'type': 'Blocks', 'home': '6', 'away': '2'}, {'type': 'Turnovers', 'home': '16', 'away': '12'}, {'type': 'Steals', 'home': '9', 'away': '8'}, {'type': 'Personal Fouls', 'home': '22', 'away': '23'}, {'type': 'Technical Fouls', 'home': '0', 'away': '0'}], '1stQuarter': [{'type': 'Field Goals Attempted', 'home': '21', 'away': '23'}, {'type': 'Field Goals Made', 'home': '12', 'away': '12'}, {'type': 'Field Goals %', 'home': '57.1%', 'away': '52.2%'}, {'type': '2-Point Field G. Attempted', 'home': '14', 'away': '9'}, {'type': '2-Point Field Goals Made', 'home': '8', 'away': '5'}, {'type': '2-Point Field Goals %', 'home': '57.1%', 'away': '55.6%'}, {'type': '3-Point Field G. Attempted', 'home': '7', 'away': '14'}, {'type': '3-Point Field Goals Made', 'home': '4', 'away': '7'}, {'type': '3-Point Field Goals %', 'home': '57.1%', 'away': '50%'}, {'type': 'Free Throws Attempted', 'home': '6', 'away': '4'}, {'type': 'Free Throws Made', 'home': '5', 'away': '2'}, {'type': 'Free Throws %', 'home': '83.3%', 'away': '50%'}, {'type': 'Offensive Rebounds', 'home': '3', 'away': '0'}, {'type': 'Defensive Rebounds', 'home': '10', 'away': '7'}, {'type': 'Total Rebounds', 'home': '13', 'away': '7'}, {'type': 'Assists', 'home': '8', 'away': '7'}, {'type': 'Blocks', 'home': '0', 'away': '1'}, {'type': 'Turnovers', 'home': '6', 'away': '2'}, {'type': 'Steals', 'home': '0', 'away': '3'}, {'type': 'Personal Fouls', 'home': '4', 'away': '5'}, {'type': 'Technical Fouls', 'home': '0', 'away': '0'}], '2ndQuarter': [{'type': 'Field Goals Attempted', 'home': '21', 'away': '21'}, {'type': 'Field Goals Made', 'home': '8', 'away': '11'}, {'type': 'Field Goals %', 'home': '38.1%', 'away': '52.4%'}, {'type': '2-Point Field G. Attempted', 'home': '16', 'away': '17'}, {'type': '2-Point Field Goals Made', 'home': '8', 'away': '9'}, {'type': '2-Point Field Goals %', 'home': '50%', 'away': '52.9%'}, {'type': '3-Point Field G. Attempted', 'home': '5', 'away': '4'}, {'type': '3-Point Field Goals Made', 'home': '0', 'away': '2'}, {'type': '3-Point Field Goals %', 'home': '0%', 'away': '50%'}, {'type': 'Free Throws Attempted', 'home': '8', 'away': '3'}, {'type': 'Free Throws Made', 'home': '8', 'away': '3'}, {'type': 'Free Throws %', 'home': '100%', 'away': '100%'}, {'type': 'Offensive Rebounds', 'home': '3', 'away': '3'}, {'type': 'Defensive Rebounds', 'home': '6', 'away': '7'}, {'type': 'Total Rebounds', 'home': '9', 'away': '10'}, {'type': 'Assists', 'home': '6', 'away': '8'}, {'type': 'Blocks', 'home': '4', 'away': '0'}, {'type': 'Turnovers', 'home': '4', 'away': '4'}, {'type': 'Steals', 'home': '4', 'away': '1'}, {'type': 'Personal Fouls', 'home': '5', 'away': '5'}, {'type': 'Technical Fouls', 'home': '0', 'away': '0'}], '3rdQuarter': [{'type': 'Field Goals Attempted', 'home': '20', 'away': '19'}, {'type': 'Field Goals Made', 'home': '11', 'away': '8'}, {'type': 'Field Goals %', 'home': '55%', 'away': '42.1%'}, {'type': '2-Point Field G. Attempted', 'home': '8', 'away': '13'}, {'type': '2-Point Field Goals Made', 'home': '5', 'away': '7'}, {'type': '2-Point Field Goals %', 'home': '62.5%', 'away': '53.8%'}, {'type': '3-Point Field G. Attempted', 'home': '12', 'away': '6'}, {'type': '3-Point Field Goals Made', 'home': '6', 'away': '1'}, {'type': '3-Point Field Goals %', 'home': '50%', 'away': '16.7%'}, {'type': 'Free Throws Attempted', 'home': '8', 'away': '12'}, {'type': 'Free Throws Made', 'home': '3', 'away': '9'}, {'type': 'Free Throws %', 'home': '37.5%', 'away': '75%'}, {'type': 'Offensive Rebounds', 'home': '2', 'away': '4'}, {'type': 'Defensive Rebounds', 'home': '8', 'away': '8'}, {'type': 'Total Rebounds', 'home': '10', 'away': '12'}, {'type': 'Assists', 'home': '6', 'away': '5'}, {'type': 'Blocks', 'home': '1', 'away': '0'}, {'type': 'Turnovers', 'home': '2', 'away': '2'}, {'type': 'Steals', 'home': '2', 'away': '2'}, {'type': 'Personal Fouls', 'home': '9', 'away': '6'}, {'type': 'Technical Fouls', 'home': '0', 'away': '0'}], '4thQuarter': [{'type': 'Field Goals Attempted', 'home': '17', 'away': '19'}, {'type': 'Field Goals Made', 'home': '8', 'away': '8'}, {'type': 'Field Goals %', 'home': '47.1%', 'away': '42.1%'}, {'type': '2-Point Field G. Attempted', 'home': '11', 'away': '10'}, {'type': '2-Point Field Goals Made', 'home': '7', 'away': '5'}, {'type': '2-Point Field Goals %', 'home': '63.6%', 'away': '50%'}, {'type': '3-Point Field G. Attempted', 'home': '6', 'away': '9'}, {'type': '3-Point Field Goals Made', 'home': '1', 'away': '3'}, {'type': '3-Point Field Goals %', 'home': '16.7%', 'away': '33.3%'}, {'type': 'Free Throws Attempted', 'home': '8', 'away': '10'}, {'type': 'Free Throws Made', 'home': '5', 'away': '9'}, {'type': 'Free Throws %', 'home': '62.5%', 'away': '90%'}, {'type': 'Offensive Rebounds', 'home': '3', 'away': '4'}, {'type': 'Defensive Rebounds', 'home': '7', 'away': '6'}]}}, 'retweetId': '1139388009512443907', 'text': 'Nigga got more rings than minutes https://t.co/kHAkKLClJz', 'hashtag': []}\n",
      "\n",
      "\n",
      "\n",
      " Il risultato dell'integrazione è il seguente\n",
      "\n",
      " Team 2\n",
      "Il tweet è stato correttamente inserito nel file Team2.json \n",
      "\n",
      "Il tweet è stato correttamente inserito nella collection Team2 \n",
      "\n",
      "{'_id': '1139394022038884358', 'n_tweet': 1438009, 'time_tweet': '04:48:03', 'date_tweet': '2019-06-14', 'source': '<a href=\"http://twitter.com/download/android\" rel=\"nofollow\">Twitter for Android</a>', 'retweet_count': 0, 'placeTweet': None, 'placeUser': 'Capas, Central Luzon', 'stats': {'event_date': '2019-06-14', 'event_key': '42208', 'time': '03:49:19', 'event_status': 'Finished', 'final_score': '110 - 114', 'scores': {'1stQuarter': [{'score_home': '32', 'score_away': '33'}], '2ndQuarter': [{'score_home': '25', 'score_away': '27'}], '3rdQuarter': [{'score_home': '31', 'score_away': '26'}], '4thQuarter': [{'score_home': '22', 'score_away': '28'}]}, 'statistics': {'Match': [{'type': 'Field Goals Attempted', 'home': '79', 'away': '82'}, {'type': 'Field Goals Made', 'home': '39', 'away': '39'}, {'type': 'Field Goals %', 'home': '49.4%', 'away': '47.6%'}, {'type': '2-Point Field G. Attempted', 'home': '49', 'away': '49'}, {'type': '2-Point Field Goals Made', 'home': '28', 'away': '26'}, {'type': '2-Point Field Goals %', 'home': '57.1%', 'away': '53.1%'}, {'type': '3-Point Field G. Attempted', 'home': '30', 'away': '33'}, {'type': '3-Point Field Goals Made', 'home': '11', 'away': '13'}, {'type': '3-Point Field Goals %', 'home': '36.7%', 'away': '39.4%'}, {'type': 'Free Throws Attempted', 'home': '30', 'away': '29'}, {'type': 'Free Throws Made', 'home': '21', 'away': '23'}, {'type': 'Free Throws %', 'home': '70%', 'away': '79.3%'}, {'type': 'Offensive Rebounds', 'home': '11', 'away': '11'}, {'type': 'Defensive Rebounds', 'home': '31', 'away': '28'}, {'type': 'Total Rebounds', 'home': '42', 'away': '39'}, {'type': 'Assists', 'home': '27', 'away': '25'}, {'type': 'Blocks', 'home': '6', 'away': '2'}, {'type': 'Turnovers', 'home': '16', 'away': '12'}, {'type': 'Steals', 'home': '9', 'away': '8'}, {'type': 'Personal Fouls', 'home': '22', 'away': '23'}, {'type': 'Technical Fouls', 'home': '0', 'away': '0'}], '1stQuarter': [{'type': 'Field Goals Attempted', 'home': '21', 'away': '23'}, {'type': 'Field Goals Made', 'home': '12', 'away': '12'}, {'type': 'Field Goals %', 'home': '57.1%', 'away': '52.2%'}, {'type': '2-Point Field G. Attempted', 'home': '14', 'away': '9'}, {'type': '2-Point Field Goals Made', 'home': '8', 'away': '5'}, {'type': '2-Point Field Goals %', 'home': '57.1%', 'away': '55.6%'}, {'type': '3-Point Field G. Attempted', 'home': '7', 'away': '14'}, {'type': '3-Point Field Goals Made', 'home': '4', 'away': '7'}, {'type': '3-Point Field Goals %', 'home': '57.1%', 'away': '50%'}, {'type': 'Free Throws Attempted', 'home': '6', 'away': '4'}, {'type': 'Free Throws Made', 'home': '5', 'away': '2'}, {'type': 'Free Throws %', 'home': '83.3%', 'away': '50%'}, {'type': 'Offensive Rebounds', 'home': '3', 'away': '0'}, {'type': 'Defensive Rebounds', 'home': '10', 'away': '7'}, {'type': 'Total Rebounds', 'home': '13', 'away': '7'}, {'type': 'Assists', 'home': '8', 'away': '7'}, {'type': 'Blocks', 'home': '0', 'away': '1'}, {'type': 'Turnovers', 'home': '6', 'away': '2'}, {'type': 'Steals', 'home': '0', 'away': '3'}, {'type': 'Personal Fouls', 'home': '4', 'away': '5'}, {'type': 'Technical Fouls', 'home': '0', 'away': '0'}], '2ndQuarter': [{'type': 'Field Goals Attempted', 'home': '21', 'away': '21'}, {'type': 'Field Goals Made', 'home': '8', 'away': '11'}, {'type': 'Field Goals %', 'home': '38.1%', 'away': '52.4%'}, {'type': '2-Point Field G. Attempted', 'home': '16', 'away': '17'}, {'type': '2-Point Field Goals Made', 'home': '8', 'away': '9'}, {'type': '2-Point Field Goals %', 'home': '50%', 'away': '52.9%'}, {'type': '3-Point Field G. Attempted', 'home': '5', 'away': '4'}, {'type': '3-Point Field Goals Made', 'home': '0', 'away': '2'}, {'type': '3-Point Field Goals %', 'home': '0%', 'away': '50%'}, {'type': 'Free Throws Attempted', 'home': '8', 'away': '3'}, {'type': 'Free Throws Made', 'home': '8', 'away': '3'}, {'type': 'Free Throws %', 'home': '100%', 'away': '100%'}, {'type': 'Offensive Rebounds', 'home': '3', 'away': '3'}, {'type': 'Defensive Rebounds', 'home': '6', 'away': '7'}, {'type': 'Total Rebounds', 'home': '9', 'away': '10'}, {'type': 'Assists', 'home': '6', 'away': '8'}, {'type': 'Blocks', 'home': '4', 'away': '0'}, {'type': 'Turnovers', 'home': '4', 'away': '4'}, {'type': 'Steals', 'home': '4', 'away': '1'}, {'type': 'Personal Fouls', 'home': '5', 'away': '5'}, {'type': 'Technical Fouls', 'home': '0', 'away': '0'}], '3rdQuarter': [{'type': 'Field Goals Attempted', 'home': '20', 'away': '19'}, {'type': 'Field Goals Made', 'home': '11', 'away': '8'}, {'type': 'Field Goals %', 'home': '55%', 'away': '42.1%'}, {'type': '2-Point Field G. Attempted', 'home': '8', 'away': '13'}, {'type': '2-Point Field Goals Made', 'home': '5', 'away': '7'}, {'type': '2-Point Field Goals %', 'home': '62.5%', 'away': '53.8%'}, {'type': '3-Point Field G. Attempted', 'home': '12', 'away': '6'}, {'type': '3-Point Field Goals Made', 'home': '6', 'away': '1'}, {'type': '3-Point Field Goals %', 'home': '50%', 'away': '16.7%'}, {'type': 'Free Throws Attempted', 'home': '8', 'away': '12'}, {'type': 'Free Throws Made', 'home': '3', 'away': '9'}, {'type': 'Free Throws %', 'home': '37.5%', 'away': '75%'}, {'type': 'Offensive Rebounds', 'home': '2', 'away': '4'}, {'type': 'Defensive Rebounds', 'home': '8', 'away': '8'}, {'type': 'Total Rebounds', 'home': '10', 'away': '12'}, {'type': 'Assists', 'home': '6', 'away': '5'}, {'type': 'Blocks', 'home': '1', 'away': '0'}, {'type': 'Turnovers', 'home': '2', 'away': '2'}, {'type': 'Steals', 'home': '2', 'away': '2'}, {'type': 'Personal Fouls', 'home': '9', 'away': '6'}, {'type': 'Technical Fouls', 'home': '0', 'away': '0'}], '4thQuarter': [{'type': 'Field Goals Attempted', 'home': '17', 'away': '19'}, {'type': 'Field Goals Made', 'home': '8', 'away': '8'}, {'type': 'Field Goals %', 'home': '47.1%', 'away': '42.1%'}, {'type': '2-Point Field G. Attempted', 'home': '11', 'away': '10'}, {'type': '2-Point Field Goals Made', 'home': '7', 'away': '5'}, {'type': '2-Point Field Goals %', 'home': '63.6%', 'away': '50%'}, {'type': '3-Point Field G. Attempted', 'home': '6', 'away': '9'}, {'type': '3-Point Field Goals Made', 'home': '1', 'away': '3'}, {'type': '3-Point Field Goals %', 'home': '16.7%', 'away': '33.3%'}, {'type': 'Free Throws Attempted', 'home': '8', 'away': '10'}, {'type': 'Free Throws Made', 'home': '5', 'away': '9'}, {'type': 'Free Throws %', 'home': '62.5%', 'away': '90%'}, {'type': 'Offensive Rebounds', 'home': '3', 'away': '4'}, {'type': 'Defensive Rebounds', 'home': '7', 'away': '6'}]}}, 'retweetId': '1139388236143321088', 'text': 'HISTORY! #WeTheNorth https://t.co/F6nKao43jf', 'hashtag': ['wethenorth']}\n",
      "\n",
      "\n",
      "\n",
      " Il risultato dell'integrazione è il seguente\n",
      "\n",
      " Team 2\n",
      "Il tweet è stato correttamente inserito nel file Team2.json \n",
      "\n"
     ]
    },
    {
     "ename": "DuplicateKeyError",
     "evalue": "E11000 duplicate key error collection: test.Toronto index: _id_ dup key: { : \"1139394017433538560\" }",
     "output_type": "error",
     "traceback": [
      "\u001b[0;31m---------------------------------------------------------------------------\u001b[0m",
      "\u001b[0;31mDuplicateKeyError\u001b[0m                         Traceback (most recent call last)",
      "\u001b[0;32m<ipython-input-833-f32d04fff8da>\u001b[0m in \u001b[0;36m<module>\u001b[0;34m\u001b[0m\n\u001b[1;32m     22\u001b[0m         \u001b[0mprint\u001b[0m\u001b[0;34m(\u001b[0m\u001b[0;34m\"\\n\\n\\n Il risultato dell'integrazione è il seguente\"\u001b[0m\u001b[0;34m)\u001b[0m \u001b[0;31m#4:48\u001b[0m\u001b[0;34m\u001b[0m\u001b[0m\n\u001b[1;32m     23\u001b[0m         \u001b[0mfinal\u001b[0m \u001b[0;34m=\u001b[0m \u001b[0mtweetFiltered\u001b[0m\u001b[0;34m\u001b[0m\u001b[0m\n\u001b[0;32m---> 24\u001b[0;31m         \u001b[0mFilter\u001b[0m\u001b[0;34m(\u001b[0m\u001b[0mfinal\u001b[0m\u001b[0;34m,\u001b[0m \u001b[0mdata\u001b[0m\u001b[0;34m)\u001b[0m\u001b[0;34m\u001b[0m\u001b[0m\n\u001b[0m\u001b[1;32m     25\u001b[0m         \u001b[0mprint\u001b[0m\u001b[0;34m(\u001b[0m\u001b[0mfinal\u001b[0m\u001b[0;34m)\u001b[0m\u001b[0;34m\u001b[0m\u001b[0m\n\u001b[1;32m     26\u001b[0m \u001b[0;31m#        time.sleep(30)\u001b[0m\u001b[0;34m\u001b[0m\u001b[0;34m\u001b[0m\u001b[0m\n",
      "\u001b[0;32m<ipython-input-374-c8e8f95a216e>\u001b[0m in \u001b[0;36mFilter\u001b[0;34m(tweetobj, data)\u001b[0m\n\u001b[1;32m     35\u001b[0m         \u001b[0mprint\u001b[0m\u001b[0;34m(\u001b[0m\u001b[0;34m\"Il tweet è stato correttamente inserito nel file Team2.json \\n\"\u001b[0m\u001b[0;34m)\u001b[0m\u001b[0;34m\u001b[0m\u001b[0m\n\u001b[1;32m     36\u001b[0m         \u001b[0;31m#Inserimento nella Collection\u001b[0m\u001b[0;34m\u001b[0m\u001b[0;34m\u001b[0m\u001b[0m\n\u001b[0;32m---> 37\u001b[0;31m         \u001b[0mdb\u001b[0m\u001b[0;34m.\u001b[0m\u001b[0mToronto\u001b[0m\u001b[0;34m.\u001b[0m\u001b[0minsert_one\u001b[0m\u001b[0;34m(\u001b[0m\u001b[0mfinal\u001b[0m\u001b[0;34m)\u001b[0m\u001b[0;34m\u001b[0m\u001b[0m\n\u001b[0m\u001b[1;32m     38\u001b[0m         \u001b[0;32mwith\u001b[0m \u001b[0mopen\u001b[0m\u001b[0;34m(\u001b[0m\u001b[0;34m\"Team2_tweet.json\"\u001b[0m\u001b[0;34m,\u001b[0m \u001b[0;34m\"a\"\u001b[0m\u001b[0;34m)\u001b[0m \u001b[0;32mas\u001b[0m \u001b[0mteam2_tweet\u001b[0m\u001b[0;34m:\u001b[0m\u001b[0;34m\u001b[0m\u001b[0m\n\u001b[1;32m     39\u001b[0m             \u001b[0mjson\u001b[0m\u001b[0;34m.\u001b[0m\u001b[0mdump\u001b[0m\u001b[0;34m(\u001b[0m\u001b[0mdata\u001b[0m\u001b[0;34m,\u001b[0m \u001b[0mteam2_tweet\u001b[0m\u001b[0;34m,\u001b[0m \u001b[0mindent\u001b[0m \u001b[0;34m=\u001b[0m \u001b[0;36m1\u001b[0m\u001b[0;34m)\u001b[0m\u001b[0;34m\u001b[0m\u001b[0m\n",
      "\u001b[0;32m~/my_new_project/my_project_venv/lib64/python3.6/site-packages/pymongo/collection.py\u001b[0m in \u001b[0;36minsert_one\u001b[0;34m(self, document, bypass_document_validation, session)\u001b[0m\n\u001b[1;32m    698\u001b[0m                          \u001b[0mwrite_concern\u001b[0m\u001b[0;34m=\u001b[0m\u001b[0mwrite_concern\u001b[0m\u001b[0;34m,\u001b[0m\u001b[0;34m\u001b[0m\u001b[0m\n\u001b[1;32m    699\u001b[0m                          \u001b[0mbypass_doc_val\u001b[0m\u001b[0;34m=\u001b[0m\u001b[0mbypass_document_validation\u001b[0m\u001b[0;34m,\u001b[0m\u001b[0;34m\u001b[0m\u001b[0m\n\u001b[0;32m--> 700\u001b[0;31m                          session=session),\n\u001b[0m\u001b[1;32m    701\u001b[0m             write_concern.acknowledged)\n\u001b[1;32m    702\u001b[0m \u001b[0;34m\u001b[0m\u001b[0m\n",
      "\u001b[0;32m~/my_new_project/my_project_venv/lib64/python3.6/site-packages/pymongo/collection.py\u001b[0m in \u001b[0;36m_insert\u001b[0;34m(self, docs, ordered, check_keys, manipulate, write_concern, op_id, bypass_doc_val, session)\u001b[0m\n\u001b[1;32m    612\u001b[0m             return self._insert_one(\n\u001b[1;32m    613\u001b[0m                 \u001b[0mdocs\u001b[0m\u001b[0;34m,\u001b[0m \u001b[0mordered\u001b[0m\u001b[0;34m,\u001b[0m \u001b[0mcheck_keys\u001b[0m\u001b[0;34m,\u001b[0m \u001b[0mmanipulate\u001b[0m\u001b[0;34m,\u001b[0m \u001b[0mwrite_concern\u001b[0m\u001b[0;34m,\u001b[0m \u001b[0mop_id\u001b[0m\u001b[0;34m,\u001b[0m\u001b[0;34m\u001b[0m\u001b[0m\n\u001b[0;32m--> 614\u001b[0;31m                 bypass_doc_val, session)\n\u001b[0m\u001b[1;32m    615\u001b[0m \u001b[0;34m\u001b[0m\u001b[0m\n\u001b[1;32m    616\u001b[0m         \u001b[0mids\u001b[0m \u001b[0;34m=\u001b[0m \u001b[0;34m[\u001b[0m\u001b[0;34m]\u001b[0m\u001b[0;34m\u001b[0m\u001b[0m\n",
      "\u001b[0;32m~/my_new_project/my_project_venv/lib64/python3.6/site-packages/pymongo/collection.py\u001b[0m in \u001b[0;36m_insert_one\u001b[0;34m(self, doc, ordered, check_keys, manipulate, write_concern, op_id, bypass_doc_val, session)\u001b[0m\n\u001b[1;32m    600\u001b[0m \u001b[0;34m\u001b[0m\u001b[0m\n\u001b[1;32m    601\u001b[0m         self.__database.client._retryable_write(\n\u001b[0;32m--> 602\u001b[0;31m             acknowledged, _insert_command, session)\n\u001b[0m\u001b[1;32m    603\u001b[0m \u001b[0;34m\u001b[0m\u001b[0m\n\u001b[1;32m    604\u001b[0m         \u001b[0;32mif\u001b[0m \u001b[0;32mnot\u001b[0m \u001b[0misinstance\u001b[0m\u001b[0;34m(\u001b[0m\u001b[0mdoc\u001b[0m\u001b[0;34m,\u001b[0m \u001b[0mRawBSONDocument\u001b[0m\u001b[0;34m)\u001b[0m\u001b[0;34m:\u001b[0m\u001b[0;34m\u001b[0m\u001b[0m\n",
      "\u001b[0;32m~/my_new_project/my_project_venv/lib64/python3.6/site-packages/pymongo/mongo_client.py\u001b[0m in \u001b[0;36m_retryable_write\u001b[0;34m(self, retryable, func, session)\u001b[0m\n\u001b[1;32m   1278\u001b[0m         \u001b[0;34m\"\"\"Internal retryable write helper.\"\"\"\u001b[0m\u001b[0;34m\u001b[0m\u001b[0m\n\u001b[1;32m   1279\u001b[0m         \u001b[0;32mwith\u001b[0m \u001b[0mself\u001b[0m\u001b[0;34m.\u001b[0m\u001b[0m_tmp_session\u001b[0m\u001b[0;34m(\u001b[0m\u001b[0msession\u001b[0m\u001b[0;34m)\u001b[0m \u001b[0;32mas\u001b[0m \u001b[0ms\u001b[0m\u001b[0;34m:\u001b[0m\u001b[0;34m\u001b[0m\u001b[0m\n\u001b[0;32m-> 1280\u001b[0;31m             \u001b[0;32mreturn\u001b[0m \u001b[0mself\u001b[0m\u001b[0;34m.\u001b[0m\u001b[0m_retry_with_session\u001b[0m\u001b[0;34m(\u001b[0m\u001b[0mretryable\u001b[0m\u001b[0;34m,\u001b[0m \u001b[0mfunc\u001b[0m\u001b[0;34m,\u001b[0m \u001b[0ms\u001b[0m\u001b[0;34m,\u001b[0m \u001b[0;32mNone\u001b[0m\u001b[0;34m)\u001b[0m\u001b[0;34m\u001b[0m\u001b[0m\n\u001b[0m\u001b[1;32m   1281\u001b[0m \u001b[0;34m\u001b[0m\u001b[0m\n\u001b[1;32m   1282\u001b[0m     \u001b[0;32mdef\u001b[0m \u001b[0m__reset_server\u001b[0m\u001b[0;34m(\u001b[0m\u001b[0mself\u001b[0m\u001b[0;34m,\u001b[0m \u001b[0maddress\u001b[0m\u001b[0;34m)\u001b[0m\u001b[0;34m:\u001b[0m\u001b[0;34m\u001b[0m\u001b[0m\n",
      "\u001b[0;32m~/my_new_project/my_project_venv/lib64/python3.6/site-packages/pymongo/mongo_client.py\u001b[0m in \u001b[0;36m_retry_with_session\u001b[0;34m(self, retryable, func, session, bulk)\u001b[0m\n\u001b[1;32m   1231\u001b[0m                             \u001b[0;32mraise\u001b[0m \u001b[0mlast_error\u001b[0m\u001b[0;34m\u001b[0m\u001b[0m\n\u001b[1;32m   1232\u001b[0m                         \u001b[0mretryable\u001b[0m \u001b[0;34m=\u001b[0m \u001b[0;32mFalse\u001b[0m\u001b[0;34m\u001b[0m\u001b[0m\n\u001b[0;32m-> 1233\u001b[0;31m                     \u001b[0;32mreturn\u001b[0m \u001b[0mfunc\u001b[0m\u001b[0;34m(\u001b[0m\u001b[0msession\u001b[0m\u001b[0;34m,\u001b[0m \u001b[0msock_info\u001b[0m\u001b[0;34m,\u001b[0m \u001b[0mretryable\u001b[0m\u001b[0;34m)\u001b[0m\u001b[0;34m\u001b[0m\u001b[0m\n\u001b[0m\u001b[1;32m   1234\u001b[0m             \u001b[0;32mexcept\u001b[0m \u001b[0mServerSelectionTimeoutError\u001b[0m\u001b[0;34m:\u001b[0m\u001b[0;34m\u001b[0m\u001b[0m\n\u001b[1;32m   1235\u001b[0m                 \u001b[0;32mif\u001b[0m \u001b[0mis_retrying\u001b[0m\u001b[0;34m(\u001b[0m\u001b[0;34m)\u001b[0m\u001b[0;34m:\u001b[0m\u001b[0;34m\u001b[0m\u001b[0m\n",
      "\u001b[0;32m~/my_new_project/my_project_venv/lib64/python3.6/site-packages/pymongo/collection.py\u001b[0m in \u001b[0;36m_insert_command\u001b[0;34m(session, sock_info, retryable_write)\u001b[0m\n\u001b[1;32m    597\u001b[0m                 retryable_write=retryable_write)\n\u001b[1;32m    598\u001b[0m \u001b[0;34m\u001b[0m\u001b[0m\n\u001b[0;32m--> 599\u001b[0;31m             \u001b[0m_check_write_command_response\u001b[0m\u001b[0;34m(\u001b[0m\u001b[0mresult\u001b[0m\u001b[0;34m)\u001b[0m\u001b[0;34m\u001b[0m\u001b[0m\n\u001b[0m\u001b[1;32m    600\u001b[0m \u001b[0;34m\u001b[0m\u001b[0m\n\u001b[1;32m    601\u001b[0m         self.__database.client._retryable_write(\n",
      "\u001b[0;32m~/my_new_project/my_project_venv/lib64/python3.6/site-packages/pymongo/helpers.py\u001b[0m in \u001b[0;36m_check_write_command_response\u001b[0;34m(result)\u001b[0m\n\u001b[1;32m    215\u001b[0m     \u001b[0mwrite_errors\u001b[0m \u001b[0;34m=\u001b[0m \u001b[0mresult\u001b[0m\u001b[0;34m.\u001b[0m\u001b[0mget\u001b[0m\u001b[0;34m(\u001b[0m\u001b[0;34m\"writeErrors\"\u001b[0m\u001b[0;34m)\u001b[0m\u001b[0;34m\u001b[0m\u001b[0m\n\u001b[1;32m    216\u001b[0m     \u001b[0;32mif\u001b[0m \u001b[0mwrite_errors\u001b[0m\u001b[0;34m:\u001b[0m\u001b[0;34m\u001b[0m\u001b[0m\n\u001b[0;32m--> 217\u001b[0;31m         \u001b[0m_raise_last_write_error\u001b[0m\u001b[0;34m(\u001b[0m\u001b[0mwrite_errors\u001b[0m\u001b[0;34m)\u001b[0m\u001b[0;34m\u001b[0m\u001b[0m\n\u001b[0m\u001b[1;32m    218\u001b[0m \u001b[0;34m\u001b[0m\u001b[0m\n\u001b[1;32m    219\u001b[0m     \u001b[0merror\u001b[0m \u001b[0;34m=\u001b[0m \u001b[0mresult\u001b[0m\u001b[0;34m.\u001b[0m\u001b[0mget\u001b[0m\u001b[0;34m(\u001b[0m\u001b[0;34m\"writeConcernError\"\u001b[0m\u001b[0;34m)\u001b[0m\u001b[0;34m\u001b[0m\u001b[0m\n",
      "\u001b[0;32m~/my_new_project/my_project_venv/lib64/python3.6/site-packages/pymongo/helpers.py\u001b[0m in \u001b[0;36m_raise_last_write_error\u001b[0;34m(write_errors)\u001b[0m\n\u001b[1;32m    196\u001b[0m     \u001b[0merror\u001b[0m \u001b[0;34m=\u001b[0m \u001b[0mwrite_errors\u001b[0m\u001b[0;34m[\u001b[0m\u001b[0;34m-\u001b[0m\u001b[0;36m1\u001b[0m\u001b[0;34m]\u001b[0m\u001b[0;34m\u001b[0m\u001b[0m\n\u001b[1;32m    197\u001b[0m     \u001b[0;32mif\u001b[0m \u001b[0merror\u001b[0m\u001b[0;34m.\u001b[0m\u001b[0mget\u001b[0m\u001b[0;34m(\u001b[0m\u001b[0;34m\"code\"\u001b[0m\u001b[0;34m)\u001b[0m \u001b[0;34m==\u001b[0m \u001b[0;36m11000\u001b[0m\u001b[0;34m:\u001b[0m\u001b[0;34m\u001b[0m\u001b[0m\n\u001b[0;32m--> 198\u001b[0;31m         \u001b[0;32mraise\u001b[0m \u001b[0mDuplicateKeyError\u001b[0m\u001b[0;34m(\u001b[0m\u001b[0merror\u001b[0m\u001b[0;34m.\u001b[0m\u001b[0mget\u001b[0m\u001b[0;34m(\u001b[0m\u001b[0;34m\"errmsg\"\u001b[0m\u001b[0;34m)\u001b[0m\u001b[0;34m,\u001b[0m \u001b[0;36m11000\u001b[0m\u001b[0;34m,\u001b[0m \u001b[0merror\u001b[0m\u001b[0;34m)\u001b[0m\u001b[0;34m\u001b[0m\u001b[0m\n\u001b[0m\u001b[1;32m    199\u001b[0m     \u001b[0;32mraise\u001b[0m \u001b[0mWriteError\u001b[0m\u001b[0;34m(\u001b[0m\u001b[0merror\u001b[0m\u001b[0;34m.\u001b[0m\u001b[0mget\u001b[0m\u001b[0;34m(\u001b[0m\u001b[0;34m\"errmsg\"\u001b[0m\u001b[0;34m)\u001b[0m\u001b[0;34m,\u001b[0m \u001b[0merror\u001b[0m\u001b[0;34m.\u001b[0m\u001b[0mget\u001b[0m\u001b[0;34m(\u001b[0m\u001b[0;34m\"code\"\u001b[0m\u001b[0;34m)\u001b[0m\u001b[0;34m,\u001b[0m \u001b[0merror\u001b[0m\u001b[0;34m)\u001b[0m\u001b[0;34m\u001b[0m\u001b[0m\n\u001b[1;32m    200\u001b[0m \u001b[0;34m\u001b[0m\u001b[0m\n",
      "\u001b[0;31mDuplicateKeyError\u001b[0m: E11000 duplicate key error collection: test.Toronto index: _id_ dup key: { : \"1139394017433538560\" }"
     ]
    }
   ],
   "source": [
    "while(1):\n",
    "    for message in consumer:\n",
    "        messaggio = message[6]\n",
    "        #print(message)\n",
    "        #print(messaggio)\n",
    "        \n",
    "        tweetFiltered = messaggio[0]\n",
    "        #print(messaggio[0])\n",
    "        #print(tweetFiltered)\n",
    "        \n",
    "        data = messaggio[1]\n",
    "        richiesta = messaggio[2]\n",
    "        #print(tweetFiltered)\n",
    "        #print(data)\n",
    "           \n",
    "        #twitterFiltered = messaggio[0]\n",
    "        #data = messaggio[1]\n",
    "        \n",
    "        #print(\"\\n \\n \\n \\n Ho ricevuto un messaggio e lo stampo: \\n \\n \\n \\n\")\n",
    "        #print(tweetFiltered)\n",
    "        #print(data)\n",
    "        print(\"\\n\\n\\n Il risultato dell'integrazione è il seguente\") #4:48\n",
    "        final = tweetFiltered\n",
    "        Filter(final, data)\n",
    "        print(final)\n",
    "#        time.sleep(30)"
   ]
  }
 ],
 "metadata": {
  "kernelspec": {
   "display_name": "Python 3",
   "language": "python",
   "name": "python3"
  },
  "language_info": {
   "codemirror_mode": {
    "name": "ipython",
    "version": 3
   },
   "file_extension": ".py",
   "mimetype": "text/x-python",
   "name": "python",
   "nbconvert_exporter": "python",
   "pygments_lexer": "ipython3",
   "version": "3.6.5"
  }
 },
 "nbformat": 4,
 "nbformat_minor": 2
}
